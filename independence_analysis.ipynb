{
  "nbformat": 4,
  "nbformat_minor": 0,
  "metadata": {
    "colab": {
      "provenance": []
    },
    "kernelspec": {
      "name": "python3",
      "display_name": "Python 3"
    },
    "language_info": {
      "name": "python"
    }
  },
  "cells": [
    {
      "cell_type": "code",
      "source": [
        "from google.colab import drive\n",
        "drive.mount('/content/drive')"
      ],
      "metadata": {
        "colab": {
          "base_uri": "https://localhost:8080/"
        },
        "id": "NMtnuoQK5_O4",
        "outputId": "eb3d904a-2b93-468d-b627-cd75004d6b94"
      },
      "execution_count": 3,
      "outputs": [
        {
          "output_type": "stream",
          "name": "stdout",
          "text": [
            "Mounted at /content/drive\n"
          ]
        }
      ]
    },
    {
      "cell_type": "code",
      "source": [
        "file_path = '/content/drive/MyDrive/hw/causal/chicago-police/' # change this\n",
        "# df = pd.read_csv(file_path)"
      ],
      "metadata": {
        "id": "rvCxqijX6G6p"
      },
      "execution_count": 4,
      "outputs": []
    },
    {
      "cell_type": "code",
      "execution_count": 5,
      "metadata": {
        "colab": {
          "base_uri": "https://localhost:8080/"
        },
        "id": "Wtfk7SOX5eZY",
        "outputId": "37bc8487-40ef-46c9-dd25-919d7fcb16d2"
      },
      "outputs": [
        {
          "output_type": "stream",
          "name": "stderr",
          "text": [
            "<ipython-input-5-c6972bc4cb00>:5: DtypeWarning: Columns (16,18,22) have mixed types. Specify dtype option on import or set low_memory=False.\n",
            "  complaints_allegation = pd.read_csv(file_path + 'complaints-allegation.csv')\n",
            "<ipython-input-5-c6972bc4cb00>:6: DtypeWarning: Columns (4,15) have mixed types. Specify dtype option on import or set low_memory=False.\n",
            "  officers = pd.read_csv(file_path + 'final-profiles.csv')\n"
          ]
        }
      ],
      "source": [
        "import pandas as pd\n",
        "\n",
        "\n",
        "# Load the datasets\n",
        "complaints_allegation = pd.read_csv(file_path + 'complaints-allegation.csv')\n",
        "officers = pd.read_csv(file_path + 'final-profiles.csv')\n",
        "salary = pd.read_csv(file_path + 'salary_2002-2017_2017-09.csv')\n",
        "salary_ranks = pd.read_csv(file_path + 'salary-ranks_2002-2017_2017-09.csv')\n",
        "\n",
        "# Merge the DataFrames on the UID columns\n",
        "# The 'left_on' corresponds to the column in complaints-accused, and 'right_on' is the column in final-profiles.\n",
        "# merged_data = pd.merge(complaints, officers, left_on='link_UID', right_on='link_UID', how='left')\n",
        "\n",
        "# Print the first few rows of the merged data to verify the merge\n",
        "# print(merged_data.head())\n",
        "\n",
        "# Optionally, save the merged data to a new CSV file for further analysis or reporting\n",
        "# merged_data.to_csv('merged_complaints_officers.csv', index=False)\n",
        "\n"
      ]
    },
    {
      "cell_type": "code",
      "source": [
        "salary_ranks.columns"
      ],
      "metadata": {
        "colab": {
          "base_uri": "https://localhost:8080/"
        },
        "id": "_3X4bAtYJnhX",
        "outputId": "782b88dd-9986-4f70-ddf0-b96fc02fb4ba"
      },
      "execution_count": 6,
      "outputs": [
        {
          "output_type": "execute_result",
          "data": {
            "text/plain": [
              "Index(['UID', 'pay_grade', 'rank', 'salary', 'year', 'spp_date',\n",
              "       'cleaned_rank', 'link_UID'],\n",
              "      dtype='object')"
            ]
          },
          "metadata": {},
          "execution_count": 6
        }
      ]
    },
    {
      "cell_type": "code",
      "source": [
        "complaints_allegation.columns"
      ],
      "metadata": {
        "colab": {
          "base_uri": "https://localhost:8080/"
        },
        "id": "QRJm2zAq9Sfe",
        "outputId": "38330585-da4b-47b3-ae76-908a3c972d10"
      },
      "execution_count": 7,
      "outputs": [
        {
          "output_type": "execute_result",
          "data": {
            "text/plain": [
              "Index(['row_id', 'complaints-accused_2000-2018_2018-03_ID', 'cr_id',\n",
              "       'accusation_id', 'allegation_category', 'allegation_category_code',\n",
              "       'current_investigator_category', 'current_investigator_category_code',\n",
              "       'unit', 'unit_detail', 'accused_arrested', 'duty_status', 'injured',\n",
              "       'final_finding', 'finding_narrative', 'penalty_id', 'penalty_code',\n",
              "       'number_of_days', 'final_finding_narrative', 'star', 'rank',\n",
              "       'final_finding_USE', 'final_outcome_USE', 'merge', 'UID', 'link_UID'],\n",
              "      dtype='object')"
            ]
          },
          "metadata": {},
          "execution_count": 7
        }
      ]
    },
    {
      "cell_type": "code",
      "source": [
        "\n",
        "merged_data_1 = pd.merge(salary_ranks, complaints_allegation, left_on='link_UID', right_on='link_UID', how='left')\n",
        "\n",
        "merged_data = pd.merge(merged_data_1, officers, left_on='link_UID', right_on='link_UID', how='left')"
      ],
      "metadata": {
        "id": "7A0iiBzpX-9B"
      },
      "execution_count": 67,
      "outputs": []
    },
    {
      "cell_type": "code",
      "source": [
        "# selected_columns = merged_data[['link_UID', 'race','gender','birth_year','salary', 'appointed_date', 'cleaned_rank_x','allegation_category','final_finding','penalty_code','number_of_days']]\n",
        "# selected_columns.sample(n=10)"
      ],
      "metadata": {
        "id": "ptBZKIOtGE7_"
      },
      "execution_count": 68,
      "outputs": []
    },
    {
      "cell_type": "markdown",
      "source": [
        "# Finding the complaint outcomes"
      ],
      "metadata": {
        "id": "gfNLvZi-_B7u"
      }
    },
    {
      "cell_type": "code",
      "source": [
        "outcome_counts = merged_data['final_finding'].value_counts(dropna=False)\n",
        "outcome_counts.head(5)\n",
        "# no penalty = not punished at all"
      ],
      "metadata": {
        "colab": {
          "base_uri": "https://localhost:8080/"
        },
        "id": "ykFH1cRHJlX2",
        "outputId": "25d848f0-74d0-4880-d539-5e0eeb185eec"
      },
      "execution_count": 12,
      "outputs": [
        {
          "output_type": "execute_result",
          "data": {
            "text/plain": [
              "final_finding\n",
              "NOT SUSTAINED    522438\n",
              "UNFOUNDED        281641\n",
              "SUSTAINED        248586\n",
              "NaN              103220\n",
              "EXONERATED        44324\n",
              "Name: count, dtype: int64"
            ]
          },
          "metadata": {},
          "execution_count": 12
        }
      ]
    },
    {
      "cell_type": "markdown",
      "source": [
        "# Finding the penalty outcomes"
      ],
      "metadata": {
        "id": "z0p-JKPnAC5a"
      }
    },
    {
      "cell_type": "code",
      "source": [
        "penalty_counts = merged_data['penalty_code'].value_counts()\n",
        "penalty_counts.head(5)"
      ],
      "metadata": {
        "colab": {
          "base_uri": "https://localhost:8080/"
        },
        "id": "NBnCHL-x_3jJ",
        "outputId": "dd101ef3-0568-4a86-c135-c592c0192a46"
      },
      "execution_count": 13,
      "outputs": [
        {
          "output_type": "execute_result",
          "data": {
            "text/plain": [
              "penalty_code\n",
              "SUSPENSION              266196\n",
              "SEPARATION               33317\n",
              "REPRIMAND                30990\n",
              "VIOLATION NOTED          17648\n",
              "WORK REGULAR DAY OFF       120\n",
              "Name: count, dtype: int64"
            ]
          },
          "metadata": {},
          "execution_count": 13
        }
      ]
    },
    {
      "cell_type": "markdown",
      "source": [
        "# Finding each of the unique ranks and the average salary for each\n",
        "# There are three types of ranks..."
      ],
      "metadata": {
        "id": "w9ZUE7cG_IbR"
      }
    },
    {
      "cell_type": "code",
      "source": [
        "average_salary_by_cleaned_rank = merged_data.groupby('cleaned_rank_x')['salary'].mean()\n",
        "print(average_salary_by_cleaned_rank)\n",
        "\n",
        "# You can also sort it\n",
        "# average_salary_by_cleaned_rank_sorted = average_salary_by_cleaned_rank.sort_values(ascending=False)\n",
        "# print(average_salary_by_cleaned_rank_sorted)\n"
      ],
      "metadata": {
        "colab": {
          "base_uri": "https://localhost:8080/"
        },
        "id": "bzRYM1Og6j8T",
        "outputId": "8473c50e-bc5d-4b09-b991-4b0da1747cc3"
      },
      "execution_count": 14,
      "outputs": [
        {
          "output_type": "stream",
          "name": "stdout",
          "text": [
            "cleaned_rank_x\n",
            "ASSISTANT SUPERINTENDENT           180981.000000\n",
            "CAPTAIN                            134891.152941\n",
            "CHIEF                              171558.592320\n",
            "CIVILIAN                           131423.387755\n",
            "COMMANDER                          145242.150355\n",
            "DEPUTY CHIEF                       154133.273159\n",
            "DEPUTY SUPERINTENDENT              154424.328358\n",
            "DETECTIVE                           84573.199795\n",
            "FIELD TRAINING OFFICER              78085.163996\n",
            "FIRST DEPUTY SUPERINTENDENT        178790.888889\n",
            "GENERAL COUNSEL                    143630.210526\n",
            "INVESTIGATOR                        66913.966423\n",
            "LIEUTENANT                         121986.094715\n",
            "POLICE OFFICER                      71793.794864\n",
            "SERGEANT                            93035.690763\n",
            "SUPERINTENDENT'S CHIEF OF STAFF    158337.000000\n",
            "Name: salary, dtype: float64\n"
          ]
        }
      ]
    },
    {
      "cell_type": "code",
      "source": [
        "average_salary_by_rank = merged_data.groupby('rank_y')['salary'].mean()\n",
        "average_salary_by_rank\n",
        "\n",
        "# the cleaned_rank definitely works better"
      ],
      "metadata": {
        "colab": {
          "base_uri": "https://localhost:8080/"
        },
        "id": "tgWdyojY8sFP",
        "outputId": "7805da95-0159-42fb-b154-17d41d0fb7a1"
      },
      "execution_count": 15,
      "outputs": [
        {
          "output_type": "execute_result",
          "data": {
            "text/plain": [
              "rank_y\n",
              "ASST DEPUTY SUP         126030.000000\n",
              "CAPTAIN OF POLICE       126635.938356\n",
              "CHIEF                   132631.500000\n",
              "COMMANDER               118636.029630\n",
              "CROSSING GUARD           70483.500000\n",
              "DEP CHIEF               152322.923077\n",
              "DEPUTY SUPT.            138033.333333\n",
              "DETENTION AIDE           69071.181818\n",
              "EXPL TECH 1              87144.000000\n",
              "FIRST DEPUTY SUPT.      149076.000000\n",
              "LIEUTENANT OF POLICE     92339.034135\n",
              "MACHINIST AUTO           79693.125000\n",
              "P O ASSGN SEC SPEC       76324.084034\n",
              "PO (PER ARB AWARD)       82814.025641\n",
              "PO AS DETECTIVE          81221.915128\n",
              "PO ASGN EVID. TECHNI     76838.222222\n",
              "PO ASGN GANG CRMS SP     83648.963979\n",
              "PO ASGN LATEN F/P EX     72468.000000\n",
              "PO ASSG CANINE HANDL     73066.959677\n",
              "PO ASSGN TRAFF SPEC      78449.059126\n",
              "PO ASSIGN YOUTH OFF      83985.675676\n",
              "PO LEGAL OFF 1           83845.875000\n",
              "PO LEGAL OFF 2          100827.272727\n",
              "PO/EXP DET CAN HAND      74512.664835\n",
              "PO/FIELD TRNING OFF      76631.444201\n",
              "PO/MARINE OFFICER        78153.129856\n",
              "PO/MOUNTED PAT OFF.      78055.500000\n",
              "POL FORENSIC INV I       88127.177419\n",
              "POLICE AGENT             79637.250000\n",
              "POLICE COMM OPER 2       81631.875000\n",
              "POLICE OFFICER           73063.805776\n",
              "PRINC METHOD ANALYST     78414.375000\n",
              "SERGEANT OF POLICE       87892.465213\n",
              "Name: salary, dtype: float64"
            ]
          },
          "metadata": {},
          "execution_count": 15
        }
      ]
    },
    {
      "cell_type": "code",
      "source": [
        "average_salary_by_rank = merged_data.groupby('current_rank')['salary'].mean()\n",
        "average_salary_by_rank"
      ],
      "metadata": {
        "colab": {
          "base_uri": "https://localhost:8080/"
        },
        "id": "-INQ7JWCNUGG",
        "outputId": "76d09489-f47d-4f15-ee08-f60cc444e026"
      },
      "execution_count": 16,
      "outputs": [
        {
          "output_type": "execute_result",
          "data": {
            "text/plain": [
              "current_rank\n",
              "ASSISTANT SUPERINTENDENT             149076.000000\n",
              "ASST DEPUTY SUP                      126611.750000\n",
              "CAPTAIN OF POLICE                     93915.938100\n",
              "CHIEF                                145821.518644\n",
              "CMDR                                 131516.709677\n",
              "COMM OF GENL SUPPORT                 121131.000000\n",
              "COMMANDER                            108783.668050\n",
              "COOR SPEC EVENTS                     120534.000000\n",
              "DEP CHIEF                            136312.913295\n",
              "DEPUTY SUPT.                         145780.875000\n",
              "DET                                   78090.252943\n",
              "DIR PERSONNEL SERV                   128559.428571\n",
              "DIRECTOR OF CAPS                      76002.666667\n",
              "EXPL TECH 1                           87786.614634\n",
              "EXPL TECH 3                          104892.000000\n",
              "EXPLOSIVES TECH 2                     93028.666667\n",
              "F/A ID TECH 1                         87345.900000\n",
              "FIRST DEPUTY SUPT.                   125808.586279\n",
              "LIEUTENANT OF POLICE                  88695.712374\n",
              "LT                                    93657.857143\n",
              "P O ASSGN SEC SPEC                    72780.308911\n",
              "P.O. ASSIGNED AS HELICOPTER PILOT     72662.454545\n",
              "PO                                    72081.042033\n",
              "PO (PER ARB AWARD)                    80988.132296\n",
              "PO AS DETECTIVE                       77886.910717\n",
              "PO ASGN EVID. TECHNI                  73823.747686\n",
              "PO ASGN LATEN F/P EX                  78051.054054\n",
              "PO ASGN SUPV LAT FP                   87007.411765\n",
              "PO ASSG CANINE HANDL                  75866.491870\n",
              "PO ASSGN TRAFF SPEC                   78709.204244\n",
              "PO LEGAL OFF 1                        88664.923077\n",
              "PO LEGAL OFF 2                        97604.382353\n",
              "PO SUB ABUSE COUNSLR                  87663.818182\n",
              "PO/EXP DET CAN HAND                   74770.671121\n",
              "PO/FIELD TRNING OFF                   74192.383008\n",
              "PO/MARINE OFFICER                     77034.982818\n",
              "PO/MOUNTED PAT OFF.                   75873.775457\n",
              "POL FORENSIC INV I                    87529.402817\n",
              "POL FORENSIC INV II                   96554.250000\n",
              "POLICE AGENT                          77152.570866\n",
              "POLICE OFFICER                        72264.096984\n",
              "POLICE TECHNICIAN                     76592.808511\n",
              "SERGEANT OF POLICE                    82694.743366\n",
              "SERGEANT PER ARBITRA                  92847.000000\n",
              "SGT                                   85439.291339\n",
              "SGT ASSGN SEC SPEC                    82356.857143\n",
              "SUPT OF POLICE                       135617.294118\n",
              "SUPT'S CHIEF OF STAFF                160898.571429\n",
              "Name: salary, dtype: float64"
            ]
          },
          "metadata": {},
          "execution_count": 16
        }
      ]
    },
    {
      "cell_type": "markdown",
      "source": [
        "Modeling"
      ],
      "metadata": {
        "id": "xshYsR-n2gY_"
      }
    },
    {
      "cell_type": "code",
      "source": [
        "import statsmodels.api as sm\n",
        "import statsmodels.formula.api as smf"
      ],
      "metadata": {
        "id": "cJ-FoZRf2f85"
      },
      "execution_count": 17,
      "outputs": []
    },
    {
      "cell_type": "code",
      "source": [
        "# Checking the frequency of categories within each variable\n",
        "print(merged_data['cleaned_rank_x'].value_counts())\n",
        "print(merged_data['race'].value_counts())\n",
        "print(merged_data['gender'].value_counts())\n",
        "print(merged_data['allegation_category'].value_counts()) #A\n",
        "print(merged_data['birth_year'].value_counts())\n",
        "print(merged_data['salary'].value_counts()) #/\n",
        "print(merged_data['appointed_date'].value_counts())\n",
        "print(merged_data['final_finding'].value_counts())\n",
        "print(merged_data['penalty_code'].value_counts())\n",
        "print(merged_data['number_of_days'].value_counts())\n",
        "\n",
        "\n"
      ],
      "metadata": {
        "colab": {
          "base_uri": "https://localhost:8080/"
        },
        "id": "f1YG-oFD5Um9",
        "outputId": "28d7a7b6-3fa4-46de-cbc5-b0eafb68101d"
      },
      "execution_count": 18,
      "outputs": [
        {
          "output_type": "stream",
          "name": "stdout",
          "text": [
            "cleaned_rank_x\n",
            "POLICE OFFICER                     1014068\n",
            "SERGEANT                            106394\n",
            "DETECTIVE                            60497\n",
            "FIELD TRAINING OFFICER               15165\n",
            "LIEUTENANT                            9108\n",
            "COMMANDER                             2115\n",
            "INVESTIGATOR                          1370\n",
            "DEPUTY CHIEF                           421\n",
            "CHIEF                                  125\n",
            "CAPTAIN                                 85\n",
            "DEPUTY SUPERINTENDENT                   67\n",
            "CIVILIAN                                49\n",
            "FIRST DEPUTY SUPERINTENDENT             27\n",
            "SUPERINTENDENT'S CHIEF OF STAFF         20\n",
            "GENERAL COUNSEL                         19\n",
            "ASSISTANT SUPERINTENDENT                 8\n",
            "Name: count, dtype: int64\n",
            "race\n",
            "WHITE                             614761\n",
            "BLACK                             312085\n",
            "HISPANIC                          249161\n",
            "ASIAN/PACIFIC ISLANDER             29289\n",
            "NATIVE AMERICAN/ALASKAN NATIVE      3891\n",
            "Name: count, dtype: int64\n",
            "gender\n",
            "MALE      1067024\n",
            "FEMALE     142514\n",
            "Name: count, dtype: int64\n",
            "allegation_category\n",
            "MISCELLANEOUS                                      202064\n",
            "EXCESSIVE FORCE / ON DUTY - INJURY                  91177\n",
            "USE OF PROFANITY                                    71759\n",
            "PUSH/PULL/GRAB                                      50303\n",
            "CLOSED HAND STRIKE (PUNCH)                          43370\n",
            "                                                    ...  \n",
            "D.U.I., DRUGS / CONTROLLED SUBSTANCE - OFF DUTY        11\n",
            "JUST CAUSE                                             10\n",
            "IMPACT MUNITION (BEAN BAG, ETC)                         9\n",
            "AUTO THEFT                                              8\n",
            "IMPROPER/ILLEGAL SEARCH/PROTECTIVE PATDOWN              8\n",
            "Name: count, Length: 200, dtype: int64\n",
            "birth_year\n",
            "1970.0    70753\n",
            "1969.0    65841\n",
            "1971.0    62977\n",
            "1968.0    62598\n",
            "1972.0    59800\n",
            "1973.0    59653\n",
            "1967.0    56404\n",
            "1979.0    52635\n",
            "1977.0    48496\n",
            "1966.0    44575\n",
            "1964.0    43985\n",
            "1976.0    42796\n",
            "1978.0    41369\n",
            "1975.0    41029\n",
            "1963.0    39123\n",
            "1981.0    36295\n",
            "1965.0    35706\n",
            "1974.0    35031\n",
            "1980.0    32298\n",
            "1962.0    28141\n",
            "1960.0    24878\n",
            "1959.0    22465\n",
            "1982.0    21503\n",
            "1961.0    20454\n",
            "1957.0    20277\n",
            "1956.0    19929\n",
            "1958.0    18061\n",
            "1983.0    12212\n",
            "1954.0    10797\n",
            "1952.0    10544\n",
            "1953.0    10431\n",
            "1955.0     8754\n",
            "1984.0     8131\n",
            "1950.0     7694\n",
            "1951.0     7203\n",
            "1949.0     4436\n",
            "1948.0     3983\n",
            "1947.0     3240\n",
            "1985.0     2516\n",
            "1946.0     2181\n",
            "1988.0     1826\n",
            "1986.0     1353\n",
            "1945.0     1323\n",
            "1987.0     1007\n",
            "1989.0      800\n",
            "1943.0      713\n",
            "1944.0      578\n",
            "1942.0      425\n",
            "1990.0      396\n",
            "1991.0      340\n",
            "1992.0      250\n",
            "1941.0      235\n",
            "1993.0      154\n",
            "1994.0      101\n",
            "1940.0       92\n",
            "1995.0       53\n",
            "1939.0        7\n",
            "Name: count, dtype: int64\n",
            "salary\n",
            "68262.0     69577\n",
            "70656.0     53081\n",
            "58572.0     45934\n",
            "78012.0     40906\n",
            "75372.0     37008\n",
            "            ...  \n",
            "151224.0        1\n",
            "146112.0        1\n",
            "260004.0        1\n",
            "71298.0         1\n",
            "86670.0         1\n",
            "Name: count, Length: 537, dtype: int64\n",
            "appointed_date\n",
            "2003-08-25    19696\n",
            "2004-10-25    17444\n",
            "1990-03-26    15644\n",
            "2005-01-03    15155\n",
            "1995-09-05    14975\n",
            "              ...  \n",
            "2013-11-16        1\n",
            "2007-06-18        1\n",
            "2005-01-31        1\n",
            "2006-07-18        1\n",
            "2017-08-01        1\n",
            "Name: count, Length: 461, dtype: int64\n",
            "final_finding\n",
            "NOT SUSTAINED                         522438\n",
            "UNFOUNDED                             281641\n",
            "SUSTAINED                             248586\n",
            "EXONERATED                             44324\n",
            "NO AFFIDAVIT                            8143\n",
            "ADDITIONAL INVESTIGATION REQUESTED      1186\n",
            "Name: count, dtype: int64\n",
            "penalty_code\n",
            "SUSPENSION              266196\n",
            "SEPARATION               33317\n",
            "REPRIMAND                30990\n",
            "VIOLATION NOTED          17648\n",
            "WORK REGULAR DAY OFF       120\n",
            "Name: count, dtype: int64\n",
            "number_of_days\n",
            "5.0      36255\n",
            "30.0     33488\n",
            "1.0      26933\n",
            "3.0      26086\n",
            "15.0     24602\n",
            "10.0     24377\n",
            "20.0     21059\n",
            "2.0      19491\n",
            "60.0      7617\n",
            "7.0       7003\n",
            "45.0      5876\n",
            "25.0      5246\n",
            "90.0      3164\n",
            "8.0       2782\n",
            "4.0       1951\n",
            "12.0      1831\n",
            "6.0       1824\n",
            "28.0      1694\n",
            "365.0     1381\n",
            "120.0     1331\n",
            "11.0      1024\n",
            "29.0       960\n",
            "150.0      612\n",
            "35.0       608\n",
            "40.0       580\n",
            "730.0      540\n",
            "31.0       270\n",
            "24.0       224\n",
            "21.0       206\n",
            "55.0       192\n",
            "270.0      160\n",
            "23.0       144\n",
            "160.0      144\n",
            "294.0      135\n",
            "800.0      124\n",
            "153.0      117\n",
            "108.0      117\n",
            "284.0       90\n",
            "17.0        80\n",
            "999.0       75\n",
            "16.0        64\n",
            "22.0        64\n",
            "180.0       48\n",
            "75.0        48\n",
            "145.0       45\n",
            "14.0        33\n",
            "900.0       31\n",
            "Name: count, dtype: int64\n"
          ]
        }
      ]
    },
    {
      "cell_type": "markdown",
      "source": [
        "logistic regression"
      ],
      "metadata": {
        "id": "OfsA7AWn5bTW"
      }
    },
    {
      "cell_type": "code",
      "source": [
        "# from sklearn.linear_model import LogisticRegression\n",
        "# from sklearn.preprocessing import OneHotEncoder\n",
        "# from sklearn.compose import ColumnTransformer\n",
        "# from sklearn.pipeline import Pipeline\n",
        "\n",
        "# # Define a pipeline with OneHotEncoder and LogisticRegression with L2 regularization\n",
        "# pipeline = Pipeline(steps=[\n",
        "#     ('encoder', ColumnTransformer(transformers=[\n",
        "#         ('cat', OneHotEncoder(drop='first'), ['cleaned_rank_x', 'race', 'gender', 'allegation_category'])\n",
        "#     ], remainder='passthrough')),\n",
        "#     ('logreg', LogisticRegression(penalty='l2', C=1.0, solver='lbfgs', max_iter=1000))\n",
        "# ])\n",
        "\n",
        "# # Fit the model on the merged_data DataFrame\n",
        "# pipeline.fit(merged_data[['cleaned_rank_x', 'race', 'gender', 'allegation_category']], merged_data['punished'])"
      ],
      "metadata": {
        "id": "bdsLytoa2kQF"
      },
      "execution_count": 19,
      "outputs": []
    },
    {
      "cell_type": "markdown",
      "source": [
        "#We only look at sustained data"
      ],
      "metadata": {
        "id": "_EHoRYMObp9_"
      }
    },
    {
      "cell_type": "code",
      "source": [
        "sustained_df = merged_data[merged_data['final_finding'] == 'SUSTAINED']\n",
        "# contingency_table = pd.crosstab(sustained_df['allegation_category'], sustained_df['cleaned_rank_x'])\n",
        "# print(contingency_table)\n",
        "\n",
        "# contingency_table = pd.crosstab(merged_data['allegation_category'], merged_data['cleaned_rank_x'])\n",
        "# print(contingency_table)"
      ],
      "metadata": {
        "id": "hgo3tFau4fyI"
      },
      "execution_count": 41,
      "outputs": []
    },
    {
      "cell_type": "code",
      "source": [
        "from scipy.stats import chi2_contingency\n",
        "\n",
        "# Perform the Chi-squared test\n",
        "# of the sustained_df\n",
        "contingency_table = pd.crosstab(sustained_df['allegation_category'], sustained_df['cleaned_rank_x'])\n",
        "# print(contingency_table)\n",
        "chi2, p_value, dof, expected = chi2_contingency(contingency_table)\n",
        "print(\"Chi-squared:\", chi2)\n",
        "print(\"p-value:\", p_value)"
      ],
      "metadata": {
        "colab": {
          "base_uri": "https://localhost:8080/"
        },
        "id": "uBN7OyygN1MF",
        "outputId": "17a850a7-be7a-4542-aef0-a29ca8762142"
      },
      "execution_count": 42,
      "outputs": [
        {
          "output_type": "stream",
          "name": "stdout",
          "text": [
            "Chi-squared: 79733.15824249448\n",
            "p-value: 0.0\n"
          ]
        }
      ]
    },
    {
      "cell_type": "code",
      "source": [
        "unique_types = sustained_df['allegation_category'].unique()\n",
        "unique_ranks = sustained_df['cleaned_rank_x'].unique()\n",
        "# print(unique_types)\n",
        "# print(unique_ranks)"
      ],
      "metadata": {
        "id": "Id-TQz9mU77f"
      },
      "execution_count": 45,
      "outputs": []
    },
    {
      "cell_type": "code",
      "source": [
        "p_A = sustained_df['allegation_category'].value_counts(normalize=True)\n",
        "p_B = sustained_df['cleaned_rank_x'].value_counts(normalize=True)"
      ],
      "metadata": {
        "id": "WYP0e6IwQqAt"
      },
      "execution_count": 46,
      "outputs": []
    },
    {
      "cell_type": "code",
      "source": [
        "category_counts = sustained_df['allegation_category'].value_counts(normalize=True) * 100\n",
        "#filter out allegation_category categories that make up less than 1% of the total.\n",
        "significant_categories = category_counts[category_counts >= 1].index\n",
        "filtered_df = sustained_df[sustained_df['allegation_category'].isin(significant_categories)]\n",
        "print(sustained_df['allegation_category'].value_counts().size)\n",
        "print(filtered_df['allegation_category'].value_counts().size)"
      ],
      "metadata": {
        "colab": {
          "base_uri": "https://localhost:8080/"
        },
        "id": "G9mF9oxWWsxa",
        "outputId": "0bdedca3-eb5a-404a-cbb2-6788e43b041f"
      },
      "execution_count": 69,
      "outputs": [
        {
          "output_type": "stream",
          "name": "stdout",
          "text": [
            "134\n",
            "24\n"
          ]
        }
      ]
    },
    {
      "cell_type": "code",
      "source": [
        "# Joint probability P(A and B)\n",
        "joint_prob = filtered_df.groupby(['allegation_category', 'cleaned_rank_x']).size().div(len(filtered_df))\n",
        "\n",
        "# List to store independence check results\n",
        "independence_checks = []\n",
        "\n",
        "# Calculating product of individual probabilities for each combination\n",
        "for index, value in joint_prob.items():\n",
        "    a, b = index\n",
        "    prob_product = p_A[a] * p_B[b]\n",
        "    is_independent = abs(value - prob_product) < 0.001\n",
        "    independence_checks.append(is_independent)\n",
        "    print(f\"P({a} and {b}) = {value:.4f}, P({a}) x P({b}) = {prob_product:.4f}, Independent: {is_independent}\")\n",
        "\n",
        "# Counting the number of True/False outcomes\n",
        "from collections import Counter\n",
        "counts = Counter(independence_checks)\n",
        "\n",
        "print(\"Number of independent pairs:\", counts[True])\n",
        "print(\"Number of dependent pairs:\", counts[False])"
      ],
      "metadata": {
        "colab": {
          "base_uri": "https://localhost:8080/"
        },
        "id": "AaxkNltUVKz-",
        "outputId": "e127a847-a130-471b-fdf7-4fae9e71eb47"
      },
      "execution_count": 70,
      "outputs": [
        {
          "output_type": "stream",
          "name": "stdout",
          "text": [
            "P(CLOSED HAND STRIKE (PUNCH) and DETECTIVE) = 0.0002, P(CLOSED HAND STRIKE (PUNCH)) x P(DETECTIVE) = 0.0007, Independent: True\n",
            "P(CLOSED HAND STRIKE (PUNCH) and FIELD TRAINING OFFICER) = 0.0000, P(CLOSED HAND STRIKE (PUNCH)) x P(FIELD TRAINING OFFICER) = 0.0002, Independent: True\n",
            "P(CLOSED HAND STRIKE (PUNCH) and POLICE OFFICER) = 0.0139, P(CLOSED HAND STRIKE (PUNCH)) x P(POLICE OFFICER) = 0.0104, Independent: False\n",
            "P(CLOSED HAND STRIKE (PUNCH) and SERGEANT) = 0.0017, P(CLOSED HAND STRIKE (PUNCH)) x P(SERGEANT) = 0.0011, Independent: True\n",
            "P(CONDUCT UNBECOMING and DETECTIVE) = 0.0010, P(CONDUCT UNBECOMING) x P(DETECTIVE) = 0.0013, Independent: True\n",
            "P(CONDUCT UNBECOMING and POLICE OFFICER) = 0.0285, P(CONDUCT UNBECOMING) x P(POLICE OFFICER) = 0.0205, Independent: False\n",
            "P(CONDUCT UNBECOMING and SERGEANT) = 0.0019, P(CONDUCT UNBECOMING) x P(SERGEANT) = 0.0022, Independent: True\n",
            "P(DOMESTIC ALTERCATION - PHYSICAL ABUSE and CAPTAIN) = 0.0000, P(DOMESTIC ALTERCATION - PHYSICAL ABUSE) x P(CAPTAIN) = 0.0000, Independent: True\n",
            "P(DOMESTIC ALTERCATION - PHYSICAL ABUSE and COMMANDER) = 0.0001, P(DOMESTIC ALTERCATION - PHYSICAL ABUSE) x P(COMMANDER) = 0.0002, Independent: True\n",
            "P(DOMESTIC ALTERCATION - PHYSICAL ABUSE and DEPUTY CHIEF) = 0.0001, P(DOMESTIC ALTERCATION - PHYSICAL ABUSE) x P(DEPUTY CHIEF) = 0.0000, Independent: True\n",
            "P(DOMESTIC ALTERCATION - PHYSICAL ABUSE and DETECTIVE) = 0.0044, P(DOMESTIC ALTERCATION - PHYSICAL ABUSE) x P(DETECTIVE) = 0.0049, Independent: True\n",
            "P(DOMESTIC ALTERCATION - PHYSICAL ABUSE and FIELD TRAINING OFFICER) = 0.0031, P(DOMESTIC ALTERCATION - PHYSICAL ABUSE) x P(FIELD TRAINING OFFICER) = 0.0011, Independent: False\n",
            "P(DOMESTIC ALTERCATION - PHYSICAL ABUSE and INVESTIGATOR) = 0.0000, P(DOMESTIC ALTERCATION - PHYSICAL ABUSE) x P(INVESTIGATOR) = 0.0001, Independent: True\n",
            "P(DOMESTIC ALTERCATION - PHYSICAL ABUSE and LIEUTENANT) = 0.0015, P(DOMESTIC ALTERCATION - PHYSICAL ABUSE) x P(LIEUTENANT) = 0.0006, Independent: True\n",
            "P(DOMESTIC ALTERCATION - PHYSICAL ABUSE and POLICE OFFICER) = 0.0952, P(DOMESTIC ALTERCATION - PHYSICAL ABUSE) x P(POLICE OFFICER) = 0.0742, Independent: False\n",
            "P(DOMESTIC ALTERCATION - PHYSICAL ABUSE and SERGEANT) = 0.0090, P(DOMESTIC ALTERCATION - PHYSICAL ABUSE) x P(SERGEANT) = 0.0081, Independent: True\n",
            "P(EXCESSIVE FORCE - USE OF FIREARM / OFF DUTY - INJURY and COMMANDER) = 0.0000, P(EXCESSIVE FORCE - USE OF FIREARM / OFF DUTY - INJURY) x P(COMMANDER) = 0.0001, Independent: True\n",
            "P(EXCESSIVE FORCE - USE OF FIREARM / OFF DUTY - INJURY and DETECTIVE) = 0.0110, P(EXCESSIVE FORCE - USE OF FIREARM / OFF DUTY - INJURY) x P(DETECTIVE) = 0.0028, Independent: False\n",
            "P(EXCESSIVE FORCE - USE OF FIREARM / OFF DUTY - INJURY and FIELD TRAINING OFFICER) = 0.0002, P(EXCESSIVE FORCE - USE OF FIREARM / OFF DUTY - INJURY) x P(FIELD TRAINING OFFICER) = 0.0006, Independent: True\n",
            "P(EXCESSIVE FORCE - USE OF FIREARM / OFF DUTY - INJURY and LIEUTENANT) = 0.0002, P(EXCESSIVE FORCE - USE OF FIREARM / OFF DUTY - INJURY) x P(LIEUTENANT) = 0.0004, Independent: True\n",
            "P(EXCESSIVE FORCE - USE OF FIREARM / OFF DUTY - INJURY and POLICE OFFICER) = 0.0446, P(EXCESSIVE FORCE - USE OF FIREARM / OFF DUTY - INJURY) x P(POLICE OFFICER) = 0.0428, Independent: False\n",
            "P(EXCESSIVE FORCE - USE OF FIREARM / OFF DUTY - INJURY and SERGEANT) = 0.0095, P(EXCESSIVE FORCE - USE OF FIREARM / OFF DUTY - INJURY) x P(SERGEANT) = 0.0047, Independent: False\n",
            "P(EXCESSIVE FORCE - USE OF FIREARM / OFF DUTY - NO INJURY and CIVILIAN) = 0.0000, P(EXCESSIVE FORCE - USE OF FIREARM / OFF DUTY - NO INJURY) x P(CIVILIAN) = 0.0000, Independent: True\n",
            "P(EXCESSIVE FORCE - USE OF FIREARM / OFF DUTY - NO INJURY and COMMANDER) = 0.0009, P(EXCESSIVE FORCE - USE OF FIREARM / OFF DUTY - NO INJURY) x P(COMMANDER) = 0.0000, Independent: True\n",
            "P(EXCESSIVE FORCE - USE OF FIREARM / OFF DUTY - NO INJURY and DETECTIVE) = 0.0005, P(EXCESSIVE FORCE - USE OF FIREARM / OFF DUTY - NO INJURY) x P(DETECTIVE) = 0.0010, Independent: True\n",
            "P(EXCESSIVE FORCE - USE OF FIREARM / OFF DUTY - NO INJURY and FIELD TRAINING OFFICER) = 0.0000, P(EXCESSIVE FORCE - USE OF FIREARM / OFF DUTY - NO INJURY) x P(FIELD TRAINING OFFICER) = 0.0002, Independent: True\n",
            "P(EXCESSIVE FORCE - USE OF FIREARM / OFF DUTY - NO INJURY and LIEUTENANT) = 0.0001, P(EXCESSIVE FORCE - USE OF FIREARM / OFF DUTY - NO INJURY) x P(LIEUTENANT) = 0.0001, Independent: True\n",
            "P(EXCESSIVE FORCE - USE OF FIREARM / OFF DUTY - NO INJURY and POLICE OFFICER) = 0.0202, P(EXCESSIVE FORCE - USE OF FIREARM / OFF DUTY - NO INJURY) x P(POLICE OFFICER) = 0.0146, Independent: False\n",
            "P(EXCESSIVE FORCE - USE OF FIREARM / OFF DUTY - NO INJURY and SERGEANT) = 0.0006, P(EXCESSIVE FORCE - USE OF FIREARM / OFF DUTY - NO INJURY) x P(SERGEANT) = 0.0016, Independent: True\n",
            "P(EXCESSIVE FORCE / OFF DUTY - NO INJURY and DETECTIVE) = 0.0069, P(EXCESSIVE FORCE / OFF DUTY - NO INJURY) x P(DETECTIVE) = 0.0019, Independent: False\n",
            "P(EXCESSIVE FORCE / OFF DUTY - NO INJURY and FIELD TRAINING OFFICER) = 0.0003, P(EXCESSIVE FORCE / OFF DUTY - NO INJURY) x P(FIELD TRAINING OFFICER) = 0.0004, Independent: True\n",
            "P(EXCESSIVE FORCE / OFF DUTY - NO INJURY and INVESTIGATOR) = 0.0000, P(EXCESSIVE FORCE / OFF DUTY - NO INJURY) x P(INVESTIGATOR) = 0.0000, Independent: True\n",
            "P(EXCESSIVE FORCE / OFF DUTY - NO INJURY and POLICE OFFICER) = 0.0306, P(EXCESSIVE FORCE / OFF DUTY - NO INJURY) x P(POLICE OFFICER) = 0.0296, Independent: True\n",
            "P(EXCESSIVE FORCE / OFF DUTY - NO INJURY and SERGEANT) = 0.0076, P(EXCESSIVE FORCE / OFF DUTY - NO INJURY) x P(SERGEANT) = 0.0032, Independent: False\n",
            "P(EXCESSIVE FORCE / ON DUTY - INJURY and DETECTIVE) = 0.0048, P(EXCESSIVE FORCE / ON DUTY - INJURY) x P(DETECTIVE) = 0.0018, Independent: False\n",
            "P(EXCESSIVE FORCE / ON DUTY - INJURY and FIELD TRAINING OFFICER) = 0.0002, P(EXCESSIVE FORCE / ON DUTY - INJURY) x P(FIELD TRAINING OFFICER) = 0.0004, Independent: True\n",
            "P(EXCESSIVE FORCE / ON DUTY - INJURY and LIEUTENANT) = 0.0001, P(EXCESSIVE FORCE / ON DUTY - INJURY) x P(LIEUTENANT) = 0.0002, Independent: True\n",
            "P(EXCESSIVE FORCE / ON DUTY - INJURY and POLICE OFFICER) = 0.0325, P(EXCESSIVE FORCE / ON DUTY - INJURY) x P(POLICE OFFICER) = 0.0268, Independent: False\n",
            "P(EXCESSIVE FORCE / ON DUTY - INJURY and SERGEANT) = 0.0033, P(EXCESSIVE FORCE / ON DUTY - INJURY) x P(SERGEANT) = 0.0029, Independent: True\n",
            "P(FAIL TO OBTAIN A COMPLAINT REGISTER NUMBER and COMMANDER) = 0.0001, P(FAIL TO OBTAIN A COMPLAINT REGISTER NUMBER) x P(COMMANDER) = 0.0000, Independent: True\n",
            "P(FAIL TO OBTAIN A COMPLAINT REGISTER NUMBER and DETECTIVE) = 0.0001, P(FAIL TO OBTAIN A COMPLAINT REGISTER NUMBER) x P(DETECTIVE) = 0.0008, Independent: True\n",
            "P(FAIL TO OBTAIN A COMPLAINT REGISTER NUMBER and FIELD TRAINING OFFICER) = 0.0001, P(FAIL TO OBTAIN A COMPLAINT REGISTER NUMBER) x P(FIELD TRAINING OFFICER) = 0.0002, Independent: True\n",
            "P(FAIL TO OBTAIN A COMPLAINT REGISTER NUMBER and INVESTIGATOR) = 0.0000, P(FAIL TO OBTAIN A COMPLAINT REGISTER NUMBER) x P(INVESTIGATOR) = 0.0000, Independent: True\n",
            "P(FAIL TO OBTAIN A COMPLAINT REGISTER NUMBER and LIEUTENANT) = 0.0003, P(FAIL TO OBTAIN A COMPLAINT REGISTER NUMBER) x P(LIEUTENANT) = 0.0001, Independent: True\n",
            "P(FAIL TO OBTAIN A COMPLAINT REGISTER NUMBER and POLICE OFFICER) = 0.0060, P(FAIL TO OBTAIN A COMPLAINT REGISTER NUMBER) x P(POLICE OFFICER) = 0.0125, Independent: False\n",
            "P(FAIL TO OBTAIN A COMPLAINT REGISTER NUMBER and SERGEANT) = 0.0126, P(FAIL TO OBTAIN A COMPLAINT REGISTER NUMBER) x P(SERGEANT) = 0.0014, Independent: False\n",
            "P(FAIL TO SUBMIT and COMMANDER) = 0.0006, P(FAIL TO SUBMIT) x P(COMMANDER) = 0.0000, Independent: True\n",
            "P(FAIL TO SUBMIT and DEPUTY CHIEF) = 0.0002, P(FAIL TO SUBMIT) x P(DEPUTY CHIEF) = 0.0000, Independent: True\n",
            "P(FAIL TO SUBMIT and FIELD TRAINING OFFICER) = 0.0004, P(FAIL TO SUBMIT) x P(FIELD TRAINING OFFICER) = 0.0002, Independent: True\n",
            "P(FAIL TO SUBMIT and LIEUTENANT) = 0.0009, P(FAIL TO SUBMIT) x P(LIEUTENANT) = 0.0001, Independent: True\n",
            "P(FAIL TO SUBMIT and POLICE OFFICER) = 0.0209, P(FAIL TO SUBMIT) x P(POLICE OFFICER) = 0.0164, Independent: False\n",
            "P(FAIL TO SUBMIT and SERGEANT) = 0.0020, P(FAIL TO SUBMIT) x P(SERGEANT) = 0.0018, Independent: True\n",
            "P(FALSE and DETECTIVE) = 0.0016, P(FALSE) x P(DETECTIVE) = 0.0012, Independent: True\n",
            "P(FALSE and FIELD TRAINING OFFICER) = 0.0002, P(FALSE) x P(FIELD TRAINING OFFICER) = 0.0003, Independent: True\n",
            "P(FALSE and INVESTIGATOR) = 0.0001, P(FALSE) x P(INVESTIGATOR) = 0.0000, Independent: True\n",
            "P(FALSE and LIEUTENANT) = 0.0001, P(FALSE) x P(LIEUTENANT) = 0.0002, Independent: True\n",
            "P(FALSE and POLICE OFFICER) = 0.0227, P(FALSE) x P(POLICE OFFICER) = 0.0183, Independent: False\n",
            "P(FALSE and SERGEANT) = 0.0032, P(FALSE) x P(SERGEANT) = 0.0020, Independent: False\n",
            "P(HARASSMENT and DETECTIVE) = 0.0001, P(HARASSMENT) x P(DETECTIVE) = 0.0010, Independent: True\n",
            "P(HARASSMENT and FIELD TRAINING OFFICER) = 0.0015, P(HARASSMENT) x P(FIELD TRAINING OFFICER) = 0.0002, Independent: False\n",
            "P(HARASSMENT and INVESTIGATOR) = 0.0001, P(HARASSMENT) x P(INVESTIGATOR) = 0.0000, Independent: True\n",
            "P(HARASSMENT and POLICE OFFICER) = 0.0192, P(HARASSMENT) x P(POLICE OFFICER) = 0.0149, Independent: False\n",
            "P(HARASSMENT and SERGEANT) = 0.0019, P(HARASSMENT) x P(SERGEANT) = 0.0016, Independent: True\n",
            "P(INADEQUATE / FAILURE TO PROVIDE SERVICE and FIELD TRAINING OFFICER) = 0.0003, P(INADEQUATE / FAILURE TO PROVIDE SERVICE) x P(FIELD TRAINING OFFICER) = 0.0002, Independent: True\n",
            "P(INADEQUATE / FAILURE TO PROVIDE SERVICE and LIEUTENANT) = 0.0001, P(INADEQUATE / FAILURE TO PROVIDE SERVICE) x P(LIEUTENANT) = 0.0001, Independent: True\n",
            "P(INADEQUATE / FAILURE TO PROVIDE SERVICE and POLICE OFFICER) = 0.0227, P(INADEQUATE / FAILURE TO PROVIDE SERVICE) x P(POLICE OFFICER) = 0.0164, Independent: False\n",
            "P(INADEQUATE / FAILURE TO PROVIDE SERVICE and SERGEANT) = 0.0020, P(INADEQUATE / FAILURE TO PROVIDE SERVICE) x P(SERGEANT) = 0.0018, Independent: True\n",
            "P(INJURY and DETECTIVE) = 0.0009, P(INJURY) x P(DETECTIVE) = 0.0012, Independent: True\n",
            "P(INJURY and FIELD TRAINING OFFICER) = 0.0009, P(INJURY) x P(FIELD TRAINING OFFICER) = 0.0003, Independent: True\n",
            "P(INJURY and POLICE OFFICER) = 0.0259, P(INJURY) x P(POLICE OFFICER) = 0.0183, Independent: False\n",
            "P(INJURY and SERGEANT) = 0.0003, P(INJURY) x P(SERGEANT) = 0.0020, Independent: False\n",
            "P(INTOXICATED OFF DUTY and DETECTIVE) = 0.0006, P(INTOXICATED OFF DUTY) x P(DETECTIVE) = 0.0007, Independent: True\n",
            "P(INTOXICATED OFF DUTY and FIELD TRAINING OFFICER) = 0.0004, P(INTOXICATED OFF DUTY) x P(FIELD TRAINING OFFICER) = 0.0002, Independent: True\n",
            "P(INTOXICATED OFF DUTY and POLICE OFFICER) = 0.0148, P(INTOXICATED OFF DUTY) x P(POLICE OFFICER) = 0.0106, Independent: False\n",
            "P(INTOXICATED OFF DUTY and SERGEANT) = 0.0004, P(INTOXICATED OFF DUTY) x P(SERGEANT) = 0.0012, Independent: True\n",
            "P(LEAVING ASSIGNMENT (DISTRICT, BEAT, SECTOR, COURT) and DETECTIVE) = 0.0012, P(LEAVING ASSIGNMENT (DISTRICT, BEAT, SECTOR, COURT)) x P(DETECTIVE) = 0.0007, Independent: True\n",
            "P(LEAVING ASSIGNMENT (DISTRICT, BEAT, SECTOR, COURT) and FIELD TRAINING OFFICER) = 0.0003, P(LEAVING ASSIGNMENT (DISTRICT, BEAT, SECTOR, COURT)) x P(FIELD TRAINING OFFICER) = 0.0002, Independent: True\n",
            "P(LEAVING ASSIGNMENT (DISTRICT, BEAT, SECTOR, COURT) and INVESTIGATOR) = 0.0001, P(LEAVING ASSIGNMENT (DISTRICT, BEAT, SECTOR, COURT)) x P(INVESTIGATOR) = 0.0000, Independent: True\n",
            "P(LEAVING ASSIGNMENT (DISTRICT, BEAT, SECTOR, COURT) and POLICE OFFICER) = 0.0156, P(LEAVING ASSIGNMENT (DISTRICT, BEAT, SECTOR, COURT)) x P(POLICE OFFICER) = 0.0114, Independent: False\n",
            "P(LEAVING ASSIGNMENT (DISTRICT, BEAT, SECTOR, COURT) and SERGEANT) = 0.0002, P(LEAVING ASSIGNMENT (DISTRICT, BEAT, SECTOR, COURT)) x P(SERGEANT) = 0.0012, Independent: False\n",
            "P(MISCELLANEOUS and COMMANDER) = 0.0006, P(MISCELLANEOUS) x P(COMMANDER) = 0.0003, Independent: True\n",
            "P(MISCELLANEOUS and DETECTIVE) = 0.0077, P(MISCELLANEOUS) x P(DETECTIVE) = 0.0082, Independent: True\n",
            "P(MISCELLANEOUS and FIELD TRAINING OFFICER) = 0.0015, P(MISCELLANEOUS) x P(FIELD TRAINING OFFICER) = 0.0018, Independent: True\n",
            "P(MISCELLANEOUS and INVESTIGATOR) = 0.0003, P(MISCELLANEOUS) x P(INVESTIGATOR) = 0.0002, Independent: True\n",
            "P(MISCELLANEOUS and LIEUTENANT) = 0.0021, P(MISCELLANEOUS) x P(LIEUTENANT) = 0.0010, Independent: False\n",
            "P(MISCELLANEOUS and POLICE OFFICER) = 0.1619, P(MISCELLANEOUS) x P(POLICE OFFICER) = 0.1244, Independent: False\n",
            "P(MISCELLANEOUS and SERGEANT) = 0.0160, P(MISCELLANEOUS) x P(SERGEANT) = 0.0135, Independent: False\n",
            "P(NEGLECT OF DUTY and COMMANDER) = 0.0002, P(NEGLECT OF DUTY) x P(COMMANDER) = 0.0001, Independent: True\n",
            "P(NEGLECT OF DUTY and DEPUTY CHIEF) = 0.0001, P(NEGLECT OF DUTY) x P(DEPUTY CHIEF) = 0.0000, Independent: True\n",
            "P(NEGLECT OF DUTY and DETECTIVE) = 0.0053, P(NEGLECT OF DUTY) x P(DETECTIVE) = 0.0034, Independent: False\n",
            "P(NEGLECT OF DUTY and FIELD TRAINING OFFICER) = 0.0009, P(NEGLECT OF DUTY) x P(FIELD TRAINING OFFICER) = 0.0008, Independent: True\n",
            "P(NEGLECT OF DUTY and INVESTIGATOR) = 0.0006, P(NEGLECT OF DUTY) x P(INVESTIGATOR) = 0.0001, Independent: True\n",
            "P(NEGLECT OF DUTY and LIEUTENANT) = 0.0012, P(NEGLECT OF DUTY) x P(LIEUTENANT) = 0.0004, Independent: True\n",
            "P(NEGLECT OF DUTY and POLICE OFFICER) = 0.0612, P(NEGLECT OF DUTY) x P(POLICE OFFICER) = 0.0516, Independent: False\n",
            "P(NEGLECT OF DUTY and SERGEANT) = 0.0094, P(NEGLECT OF DUTY) x P(SERGEANT) = 0.0056, Independent: False\n",
            "P(NO INJURY and DETECTIVE) = 0.0002, P(NO INJURY) x P(DETECTIVE) = 0.0013, Independent: False\n",
            "P(NO INJURY and FIELD TRAINING OFFICER) = 0.0006, P(NO INJURY) x P(FIELD TRAINING OFFICER) = 0.0003, Independent: True\n",
            "P(NO INJURY and LIEUTENANT) = 0.0000, P(NO INJURY) x P(LIEUTENANT) = 0.0002, Independent: True\n",
            "P(NO INJURY and POLICE OFFICER) = 0.0286, P(NO INJURY) x P(POLICE OFFICER) = 0.0195, Independent: False\n",
            "P(NO INJURY and SERGEANT) = 0.0004, P(NO INJURY) x P(SERGEANT) = 0.0021, Independent: False\n",
            "P(PUSH/PULL/GRAB and DETECTIVE) = 0.0002, P(PUSH/PULL/GRAB) x P(DETECTIVE) = 0.0012, Independent: True\n",
            "P(PUSH/PULL/GRAB and FIELD TRAINING OFFICER) = 0.0003, P(PUSH/PULL/GRAB) x P(FIELD TRAINING OFFICER) = 0.0003, Independent: True\n",
            "P(PUSH/PULL/GRAB and INVESTIGATOR) = 0.0000, P(PUSH/PULL/GRAB) x P(INVESTIGATOR) = 0.0000, Independent: True\n",
            "P(PUSH/PULL/GRAB and LIEUTENANT) = 0.0000, P(PUSH/PULL/GRAB) x P(LIEUTENANT) = 0.0002, Independent: True\n",
            "P(PUSH/PULL/GRAB and POLICE OFFICER) = 0.0261, P(PUSH/PULL/GRAB) x P(POLICE OFFICER) = 0.0184, Independent: False\n",
            "P(PUSH/PULL/GRAB and SERGEANT) = 0.0015, P(PUSH/PULL/GRAB) x P(SERGEANT) = 0.0020, Independent: True\n",
            "P(RACIAL / ETHNIC, ETC. and DETECTIVE) = 0.0012, P(RACIAL / ETHNIC, ETC.) x P(DETECTIVE) = 0.0006, Independent: True\n",
            "P(RACIAL / ETHNIC, ETC. and POLICE OFFICER) = 0.0120, P(RACIAL / ETHNIC, ETC.) x P(POLICE OFFICER) = 0.0097, Independent: False\n",
            "P(RACIAL / ETHNIC, ETC. and SERGEANT) = 0.0016, P(RACIAL / ETHNIC, ETC.) x P(SERGEANT) = 0.0010, Independent: True\n",
            "P(THREATS and DETECTIVE) = 0.0000, P(THREATS) x P(DETECTIVE) = 0.0006, Independent: True\n",
            "P(THREATS and FIELD TRAINING OFFICER) = 0.0004, P(THREATS) x P(FIELD TRAINING OFFICER) = 0.0001, Independent: True\n",
            "P(THREATS and INVESTIGATOR) = 0.0000, P(THREATS) x P(INVESTIGATOR) = 0.0000, Independent: True\n",
            "P(THREATS and LIEUTENANT) = 0.0000, P(THREATS) x P(LIEUTENANT) = 0.0001, Independent: True\n",
            "P(THREATS and POLICE OFFICER) = 0.0134, P(THREATS) x P(POLICE OFFICER) = 0.0094, Independent: False\n",
            "P(THREATS and SERGEANT) = 0.0005, P(THREATS) x P(SERGEANT) = 0.0010, Independent: True\n",
            "P(UNNECESSARY DISPLAY OF WEAPON / ON DUTY and DETECTIVE) = 0.0110, P(UNNECESSARY DISPLAY OF WEAPON / ON DUTY) x P(DETECTIVE) = 0.0024, Independent: False\n",
            "P(UNNECESSARY DISPLAY OF WEAPON / ON DUTY and FIELD TRAINING OFFICER) = 0.0003, P(UNNECESSARY DISPLAY OF WEAPON / ON DUTY) x P(FIELD TRAINING OFFICER) = 0.0006, Independent: True\n",
            "P(UNNECESSARY DISPLAY OF WEAPON / ON DUTY and INVESTIGATOR) = 0.0002, P(UNNECESSARY DISPLAY OF WEAPON / ON DUTY) x P(INVESTIGATOR) = 0.0001, Independent: True\n",
            "P(UNNECESSARY DISPLAY OF WEAPON / ON DUTY and LIEUTENANT) = 0.0001, P(UNNECESSARY DISPLAY OF WEAPON / ON DUTY) x P(LIEUTENANT) = 0.0003, Independent: True\n",
            "P(UNNECESSARY DISPLAY OF WEAPON / ON DUTY and POLICE OFFICER) = 0.0393, P(UNNECESSARY DISPLAY OF WEAPON / ON DUTY) x P(POLICE OFFICER) = 0.0371, Independent: False\n",
            "P(UNNECESSARY DISPLAY OF WEAPON / ON DUTY and SERGEANT) = 0.0058, P(UNNECESSARY DISPLAY OF WEAPON / ON DUTY) x P(SERGEANT) = 0.0040, Independent: False\n",
            "P(USE OF PROFANITY and DETECTIVE) = 0.0022, P(USE OF PROFANITY) x P(DETECTIVE) = 0.0021, Independent: True\n",
            "P(USE OF PROFANITY and FIELD TRAINING OFFICER) = 0.0003, P(USE OF PROFANITY) x P(FIELD TRAINING OFFICER) = 0.0005, Independent: True\n",
            "P(USE OF PROFANITY and INVESTIGATOR) = 0.0001, P(USE OF PROFANITY) x P(INVESTIGATOR) = 0.0000, Independent: True\n",
            "P(USE OF PROFANITY and POLICE OFFICER) = 0.0428, P(USE OF PROFANITY) x P(POLICE OFFICER) = 0.0318, Independent: False\n",
            "P(USE OF PROFANITY and SERGEANT) = 0.0033, P(USE OF PROFANITY) x P(SERGEANT) = 0.0035, Independent: True\n",
            "P(VERBAL ABUSE and DETECTIVE) = 0.0001, P(VERBAL ABUSE) x P(DETECTIVE) = 0.0009, Independent: True\n",
            "P(VERBAL ABUSE and FIELD TRAINING OFFICER) = 0.0004, P(VERBAL ABUSE) x P(FIELD TRAINING OFFICER) = 0.0002, Independent: True\n",
            "P(VERBAL ABUSE and INVESTIGATOR) = 0.0000, P(VERBAL ABUSE) x P(INVESTIGATOR) = 0.0000, Independent: True\n",
            "P(VERBAL ABUSE and POLICE OFFICER) = 0.0212, P(VERBAL ABUSE) x P(POLICE OFFICER) = 0.0144, Independent: False\n",
            "P(VERBAL ABUSE and SERGEANT) = 0.0003, P(VERBAL ABUSE) x P(SERGEANT) = 0.0016, Independent: False\n",
            "Number of independent pairs: 88\n",
            "Number of dependent pairs: 43\n"
          ]
        }
      ]
    },
    {
      "cell_type": "markdown",
      "source": [],
      "metadata": {
        "id": "LS4UF0ODXSrM"
      }
    },
    {
      "cell_type": "code",
      "source": [
        "contingency_table = pd.crosstab(filtered_df['allegation_category'], filtered_df['cleaned_rank_x'])\n",
        "print(contingency_table)\n",
        "chi2, p_value, dof, expected = chi2_contingency(contingency_table)\n",
        "print(\"Chi-squared:\", chi2)\n",
        "print(\"p-value: {:.10f}\".format(p_value))"
      ],
      "metadata": {
        "colab": {
          "base_uri": "https://localhost:8080/"
        },
        "id": "2oSv82obVOWw",
        "outputId": "91a51257-0429-41e6-bef1-f7452da647f3"
      },
      "execution_count": 71,
      "outputs": [
        {
          "output_type": "stream",
          "name": "stdout",
          "text": [
            "cleaned_rank_x                                      CAPTAIN  CIVILIAN  \\\n",
            "allegation_category                                                     \n",
            "CLOSED HAND STRIKE (PUNCH)                                0         0   \n",
            "CONDUCT UNBECOMING                                        0         0   \n",
            "DOMESTIC ALTERCATION - PHYSICAL ABUSE                     8         0   \n",
            "EXCESSIVE FORCE - USE OF FIREARM / OFF DUTY - I...        0         0   \n",
            "EXCESSIVE FORCE - USE OF FIREARM / OFF DUTY - N...        0         4   \n",
            "EXCESSIVE FORCE / OFF DUTY - NO INJURY                    0         0   \n",
            "EXCESSIVE FORCE / ON DUTY - INJURY                        0         0   \n",
            "FAIL TO OBTAIN A COMPLAINT REGISTER NUMBER                0         0   \n",
            "FAIL TO SUBMIT                                            0         0   \n",
            "FALSE                                                     0         0   \n",
            "HARASSMENT                                                0         0   \n",
            "INADEQUATE / FAILURE TO PROVIDE SERVICE                   0         0   \n",
            "INJURY                                                    0         0   \n",
            "INTOXICATED OFF DUTY                                      0         0   \n",
            "LEAVING ASSIGNMENT (DISTRICT, BEAT, SECTOR, COURT)        0         0   \n",
            "MISCELLANEOUS                                             0         0   \n",
            "NEGLECT OF DUTY                                           0         0   \n",
            "NO INJURY                                                 0         0   \n",
            "PUSH/PULL/GRAB                                            0         0   \n",
            "RACIAL / ETHNIC, ETC.                                     0         0   \n",
            "THREATS                                                   0         0   \n",
            "UNNECESSARY DISPLAY OF WEAPON / ON DUTY                   0         0   \n",
            "USE OF PROFANITY                                          0         0   \n",
            "VERBAL ABUSE                                              0         0   \n",
            "\n",
            "cleaned_rank_x                                      COMMANDER  DEPUTY CHIEF  \\\n",
            "allegation_category                                                           \n",
            "CLOSED HAND STRIKE (PUNCH)                                  0             0   \n",
            "CONDUCT UNBECOMING                                          0             0   \n",
            "DOMESTIC ALTERCATION - PHYSICAL ABUSE                      24            24   \n",
            "EXCESSIVE FORCE - USE OF FIREARM / OFF DUTY - I...          4             0   \n",
            "EXCESSIVE FORCE - USE OF FIREARM / OFF DUTY - N...        168             0   \n",
            "EXCESSIVE FORCE / OFF DUTY - NO INJURY                      0             0   \n",
            "EXCESSIVE FORCE / ON DUTY - INJURY                          0             0   \n",
            "FAIL TO OBTAIN A COMPLAINT REGISTER NUMBER                 10             0   \n",
            "FAIL TO SUBMIT                                            120            30   \n",
            "FALSE                                                       0             0   \n",
            "HARASSMENT                                                  0             0   \n",
            "INADEQUATE / FAILURE TO PROVIDE SERVICE                     0             0   \n",
            "INJURY                                                      0             0   \n",
            "INTOXICATED OFF DUTY                                        0             0   \n",
            "LEAVING ASSIGNMENT (DISTRICT, BEAT, SECTOR, COURT)          0             0   \n",
            "MISCELLANEOUS                                             126             0   \n",
            "NEGLECT OF DUTY                                            40            10   \n",
            "NO INJURY                                                   0             0   \n",
            "PUSH/PULL/GRAB                                              0             0   \n",
            "RACIAL / ETHNIC, ETC.                                       0             0   \n",
            "THREATS                                                     0             0   \n",
            "UNNECESSARY DISPLAY OF WEAPON / ON DUTY                     0             0   \n",
            "USE OF PROFANITY                                            0             0   \n",
            "VERBAL ABUSE                                                0             0   \n",
            "\n",
            "cleaned_rank_x                                      DETECTIVE  \\\n",
            "allegation_category                                             \n",
            "CLOSED HAND STRIKE (PUNCH)                                 45   \n",
            "CONDUCT UNBECOMING                                        190   \n",
            "DOMESTIC ALTERCATION - PHYSICAL ABUSE                     850   \n",
            "EXCESSIVE FORCE - USE OF FIREARM / OFF DUTY - I...       2150   \n",
            "EXCESSIVE FORCE - USE OF FIREARM / OFF DUTY - N...        102   \n",
            "EXCESSIVE FORCE / OFF DUTY - NO INJURY                   1338   \n",
            "EXCESSIVE FORCE / ON DUTY - INJURY                        930   \n",
            "FAIL TO OBTAIN A COMPLAINT REGISTER NUMBER                 28   \n",
            "FAIL TO SUBMIT                                              0   \n",
            "FALSE                                                     304   \n",
            "HARASSMENT                                                 29   \n",
            "INADEQUATE / FAILURE TO PROVIDE SERVICE                     0   \n",
            "INJURY                                                    173   \n",
            "INTOXICATED OFF DUTY                                      117   \n",
            "LEAVING ASSIGNMENT (DISTRICT, BEAT, SECTOR, COURT)        242   \n",
            "MISCELLANEOUS                                            1499   \n",
            "NEGLECT OF DUTY                                          1031   \n",
            "NO INJURY                                                  30   \n",
            "PUSH/PULL/GRAB                                             48   \n",
            "RACIAL / ETHNIC, ETC.                                     230   \n",
            "THREATS                                                     4   \n",
            "UNNECESSARY DISPLAY OF WEAPON / ON DUTY                  2155   \n",
            "USE OF PROFANITY                                          422   \n",
            "VERBAL ABUSE                                               20   \n",
            "\n",
            "cleaned_rank_x                                      FIELD TRAINING OFFICER  \\\n",
            "allegation_category                                                          \n",
            "CLOSED HAND STRIKE (PUNCH)                                               1   \n",
            "CONDUCT UNBECOMING                                                       0   \n",
            "DOMESTIC ALTERCATION - PHYSICAL ABUSE                                  612   \n",
            "EXCESSIVE FORCE - USE OF FIREARM / OFF DUTY - I...                      34   \n",
            "EXCESSIVE FORCE - USE OF FIREARM / OFF DUTY - N...                       8   \n",
            "EXCESSIVE FORCE / OFF DUTY - NO INJURY                                  56   \n",
            "EXCESSIVE FORCE / ON DUTY - INJURY                                      46   \n",
            "FAIL TO OBTAIN A COMPLAINT REGISTER NUMBER                              15   \n",
            "FAIL TO SUBMIT                                                          84   \n",
            "FALSE                                                                   47   \n",
            "HARASSMENT                                                             288   \n",
            "INADEQUATE / FAILURE TO PROVIDE SERVICE                                 64   \n",
            "INJURY                                                                 172   \n",
            "INTOXICATED OFF DUTY                                                    77   \n",
            "LEAVING ASSIGNMENT (DISTRICT, BEAT, SECTOR, COURT)                      55   \n",
            "MISCELLANEOUS                                                          298   \n",
            "NEGLECT OF DUTY                                                        183   \n",
            "NO INJURY                                                              112   \n",
            "PUSH/PULL/GRAB                                                          55   \n",
            "RACIAL / ETHNIC, ETC.                                                    0   \n",
            "THREATS                                                                 73   \n",
            "UNNECESSARY DISPLAY OF WEAPON / ON DUTY                                 64   \n",
            "USE OF PROFANITY                                                        66   \n",
            "VERBAL ABUSE                                                            72   \n",
            "\n",
            "cleaned_rank_x                                      INVESTIGATOR  LIEUTENANT  \\\n",
            "allegation_category                                                            \n",
            "CLOSED HAND STRIKE (PUNCH)                                     0           0   \n",
            "CONDUCT UNBECOMING                                             0           0   \n",
            "DOMESTIC ALTERCATION - PHYSICAL ABUSE                          6         294   \n",
            "EXCESSIVE FORCE - USE OF FIREARM / OFF DUTY - I...             0          36   \n",
            "EXCESSIVE FORCE - USE OF FIREARM / OFF DUTY - N...             0          26   \n",
            "EXCESSIVE FORCE / OFF DUTY - NO INJURY                         6           0   \n",
            "EXCESSIVE FORCE / ON DUTY - INJURY                             0          28   \n",
            "FAIL TO OBTAIN A COMPLAINT REGISTER NUMBER                     1          53   \n",
            "FAIL TO SUBMIT                                                 0         180   \n",
            "FALSE                                                         12          16   \n",
            "HARASSMENT                                                    12           0   \n",
            "INADEQUATE / FAILURE TO PROVIDE SERVICE                        0          25   \n",
            "INJURY                                                         0           0   \n",
            "INTOXICATED OFF DUTY                                           0           0   \n",
            "LEAVING ASSIGNMENT (DISTRICT, BEAT, SECTOR, COURT)            15           0   \n",
            "MISCELLANEOUS                                                 60         412   \n",
            "NEGLECT OF DUTY                                              108         230   \n",
            "NO INJURY                                                      0           6   \n",
            "PUSH/PULL/GRAB                                                 6           7   \n",
            "RACIAL / ETHNIC, ETC.                                          0           0   \n",
            "THREATS                                                        6           3   \n",
            "UNNECESSARY DISPLAY OF WEAPON / ON DUTY                       30          10   \n",
            "USE OF PROFANITY                                              12           0   \n",
            "VERBAL ABUSE                                                   6           0   \n",
            "\n",
            "cleaned_rank_x                                      POLICE OFFICER  SERGEANT  \n",
            "allegation_category                                                           \n",
            "CLOSED HAND STRIKE (PUNCH)                                    2720       339  \n",
            "CONDUCT UNBECOMING                                            5557       363  \n",
            "DOMESTIC ALTERCATION - PHYSICAL ABUSE                        18583      1758  \n",
            "EXCESSIVE FORCE - USE OF FIREARM / OFF DUTY - I...            8712      1852  \n",
            "EXCESSIVE FORCE - USE OF FIREARM / OFF DUTY - N...            3944       120  \n",
            "EXCESSIVE FORCE / OFF DUTY - NO INJURY                        5966      1474  \n",
            "EXCESSIVE FORCE / ON DUTY - INJURY                            6342       650  \n",
            "FAIL TO OBTAIN A COMPLAINT REGISTER NUMBER                    1171      2455  \n",
            "FAIL TO SUBMIT                                                4088       400  \n",
            "FALSE                                                         4440       633  \n",
            "HARASSMENT                                                    3756       365  \n",
            "INADEQUATE / FAILURE TO PROVIDE SERVICE                       4427       382  \n",
            "INJURY                                                        5060        50  \n",
            "INTOXICATED OFF DUTY                                          2897        87  \n",
            "LEAVING ASSIGNMENT (DISTRICT, BEAT, SECTOR, COURT)            3046        42  \n",
            "MISCELLANEOUS                                                31614      3125  \n",
            "NEGLECT OF DUTY                                              11953      1838  \n",
            "NO INJURY                                                     5581        84  \n",
            "PUSH/PULL/GRAB                                                5096       295  \n",
            "RACIAL / ETHNIC, ETC.                                         2349       306  \n",
            "THREATS                                                       2616        98  \n",
            "UNNECESSARY DISPLAY OF WEAPON / ON DUTY                       7675      1131  \n",
            "USE OF PROFANITY                                              8357       635  \n",
            "VERBAL ABUSE                                                  4143        53  \n",
            "Chi-squared: 36916.79507832501\n",
            "p-value: 0.0000000000\n"
          ]
        }
      ]
    },
    {
      "cell_type": "code",
      "source": [],
      "metadata": {
        "id": "XKTNtSNHXYrw"
      },
      "execution_count": 71,
      "outputs": []
    }
  ]
}