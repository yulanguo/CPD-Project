{
  "nbformat": 4,
  "nbformat_minor": 0,
  "metadata": {
    "colab": {
      "provenance": []
    },
    "kernelspec": {
      "name": "python3",
      "display_name": "Python 3"
    },
    "language_info": {
      "name": "python"
    }
  },
  "cells": [
    {
      "cell_type": "code",
      "source": [
        "from google.colab import drive\n",
        "drive.mount('/content/drive')"
      ],
      "metadata": {
        "colab": {
          "base_uri": "https://localhost:8080/"
        },
        "id": "NMtnuoQK5_O4",
        "outputId": "dfe6257d-f90e-487a-b901-50e211ff4992"
      },
      "execution_count": 1,
      "outputs": [
        {
          "output_type": "stream",
          "name": "stdout",
          "text": [
            "Mounted at /content/drive\n"
          ]
        }
      ]
    },
    {
      "cell_type": "code",
      "source": [
        "file_path = '/content/drive/MyDrive/hw/causal/chicago-police/' # change this\n",
        "# df = pd.read_csv(file_path)"
      ],
      "metadata": {
        "id": "rvCxqijX6G6p"
      },
      "execution_count": 2,
      "outputs": []
    },
    {
      "cell_type": "code",
      "execution_count": 3,
      "metadata": {
        "colab": {
          "base_uri": "https://localhost:8080/"
        },
        "id": "Wtfk7SOX5eZY",
        "outputId": "cb592f34-7d73-4253-d22e-c760c80a62b9"
      },
      "outputs": [
        {
          "output_type": "stream",
          "name": "stderr",
          "text": [
            "<ipython-input-3-c6972bc4cb00>:5: DtypeWarning: Columns (16,18,22) have mixed types. Specify dtype option on import or set low_memory=False.\n",
            "  complaints_allegation = pd.read_csv(file_path + 'complaints-allegation.csv')\n",
            "<ipython-input-3-c6972bc4cb00>:6: DtypeWarning: Columns (4,15) have mixed types. Specify dtype option on import or set low_memory=False.\n",
            "  officers = pd.read_csv(file_path + 'final-profiles.csv')\n"
          ]
        }
      ],
      "source": [
        "import pandas as pd\n",
        "\n",
        "\n",
        "# Load the datasets\n",
        "complaints_allegation = pd.read_csv(file_path + 'complaints-allegation.csv')\n",
        "officers = pd.read_csv(file_path + 'final-profiles.csv')\n",
        "salary = pd.read_csv(file_path + 'salary_2002-2017_2017-09.csv')\n",
        "salary_ranks = pd.read_csv(file_path + 'salary-ranks_2002-2017_2017-09.csv')\n",
        "\n",
        "# Merge the DataFrames on the UID columns\n",
        "# The 'left_on' corresponds to the column in complaints-accused, and 'right_on' is the column in final-profiles.\n",
        "# merged_data = pd.merge(complaints, officers, left_on='link_UID', right_on='link_UID', how='left')\n",
        "\n",
        "# Print the first few rows of the merged data to verify the merge\n",
        "# print(merged_data.head())\n",
        "\n",
        "# Optionally, save the merged data to a new CSV file for further analysis or reporting\n",
        "# merged_data.to_csv('merged_complaints_officers.csv', index=False)\n",
        "\n"
      ]
    },
    {
      "cell_type": "code",
      "source": [
        "salary_ranks.columns"
      ],
      "metadata": {
        "colab": {
          "base_uri": "https://localhost:8080/"
        },
        "id": "_3X4bAtYJnhX",
        "outputId": "b0c48ff9-e937-4dd3-ae5f-f81ec49ef3e3"
      },
      "execution_count": 4,
      "outputs": [
        {
          "output_type": "execute_result",
          "data": {
            "text/plain": [
              "Index(['UID', 'pay_grade', 'rank', 'salary', 'year', 'spp_date',\n",
              "       'cleaned_rank', 'link_UID'],\n",
              "      dtype='object')"
            ]
          },
          "metadata": {},
          "execution_count": 4
        }
      ]
    },
    {
      "cell_type": "code",
      "source": [
        "complaints_allegation.columns"
      ],
      "metadata": {
        "colab": {
          "base_uri": "https://localhost:8080/"
        },
        "id": "QRJm2zAq9Sfe",
        "outputId": "82b6ddb7-b2d9-405d-efd5-5cd1d7264970"
      },
      "execution_count": 5,
      "outputs": [
        {
          "output_type": "execute_result",
          "data": {
            "text/plain": [
              "Index(['row_id', 'complaints-accused_2000-2018_2018-03_ID', 'cr_id',\n",
              "       'accusation_id', 'allegation_category', 'allegation_category_code',\n",
              "       'current_investigator_category', 'current_investigator_category_code',\n",
              "       'unit', 'unit_detail', 'accused_arrested', 'duty_status', 'injured',\n",
              "       'final_finding', 'finding_narrative', 'penalty_id', 'penalty_code',\n",
              "       'number_of_days', 'final_finding_narrative', 'star', 'rank',\n",
              "       'final_finding_USE', 'final_outcome_USE', 'merge', 'UID', 'link_UID'],\n",
              "      dtype='object')"
            ]
          },
          "metadata": {},
          "execution_count": 5
        }
      ]
    },
    {
      "cell_type": "code",
      "source": [
        "\n",
        "merged_data_1 = pd.merge(salary_ranks, complaints_allegation, left_on='link_UID', right_on='link_UID', how='left')\n",
        "\n",
        "merged_data = pd.merge(merged_data_1, officers, left_on='link_UID', right_on='link_UID', how='left')"
      ],
      "metadata": {
        "id": "7A0iiBzpX-9B"
      },
      "execution_count": 6,
      "outputs": []
    },
    {
      "cell_type": "code",
      "source": [
        "merged_data.head(3)"
      ],
      "metadata": {
        "colab": {
          "base_uri": "https://localhost:8080/",
          "height": 297
        },
        "id": "L2-I-m338d-X",
        "outputId": "91478a7c-f4b9-483d-a908-a605996f015a"
      },
      "execution_count": 7,
      "outputs": [
        {
          "output_type": "execute_result",
          "data": {
            "text/plain": [
              "      UID_x pay_grade    rank_x    salary    year    spp_date cleaned_rank_x  \\\n",
              "0  100011.0       E|3  SERGEANT  101442.0  2016.0  2016-02-01       SERGEANT   \n",
              "1  100011.0       E|3  SERGEANT  101442.0  2016.0  2016-02-01       SERGEANT   \n",
              "2  100011.0       E|3  SERGEANT  101442.0  2016.0  2016-02-01       SERGEANT   \n",
              "\n",
              "   link_UID   row_id  complaints-accused_2000-2018_2018-03_ID  ...  \\\n",
              "0    3978.0  64070.0                                   8113.0  ...   \n",
              "1    3978.0  64203.0                                   8113.0  ...   \n",
              "2    3978.0  64204.0                                   8113.0  ...   \n",
              "\n",
              "   appointed_date  resignation_date current_status current_star current_unit  \\\n",
              "0      2004-11-29               NaN            1.0       1140.0          8.0   \n",
              "1      2004-11-29               NaN            1.0       1140.0          8.0   \n",
              "2      2004-11-29               NaN            1.0       1140.0          8.0   \n",
              "\n",
              "         current_rank  start_date  org_hire_date profile_count cleaned_rank_y  \n",
              "0  SERGEANT OF POLICE  2004-11-29     2004-11-29            13       SERGEANT  \n",
              "1  SERGEANT OF POLICE  2004-11-29     2004-11-29            13       SERGEANT  \n",
              "2  SERGEANT OF POLICE  2004-11-29     2004-11-29            13       SERGEANT  \n",
              "\n",
              "[3 rows x 52 columns]"
            ],
            "text/html": [
              "\n",
              "  <div id=\"df-030ee87c-519d-43a6-8f9c-7348bd644a17\" class=\"colab-df-container\">\n",
              "    <div>\n",
              "<style scoped>\n",
              "    .dataframe tbody tr th:only-of-type {\n",
              "        vertical-align: middle;\n",
              "    }\n",
              "\n",
              "    .dataframe tbody tr th {\n",
              "        vertical-align: top;\n",
              "    }\n",
              "\n",
              "    .dataframe thead th {\n",
              "        text-align: right;\n",
              "    }\n",
              "</style>\n",
              "<table border=\"1\" class=\"dataframe\">\n",
              "  <thead>\n",
              "    <tr style=\"text-align: right;\">\n",
              "      <th></th>\n",
              "      <th>UID_x</th>\n",
              "      <th>pay_grade</th>\n",
              "      <th>rank_x</th>\n",
              "      <th>salary</th>\n",
              "      <th>year</th>\n",
              "      <th>spp_date</th>\n",
              "      <th>cleaned_rank_x</th>\n",
              "      <th>link_UID</th>\n",
              "      <th>row_id</th>\n",
              "      <th>complaints-accused_2000-2018_2018-03_ID</th>\n",
              "      <th>...</th>\n",
              "      <th>appointed_date</th>\n",
              "      <th>resignation_date</th>\n",
              "      <th>current_status</th>\n",
              "      <th>current_star</th>\n",
              "      <th>current_unit</th>\n",
              "      <th>current_rank</th>\n",
              "      <th>start_date</th>\n",
              "      <th>org_hire_date</th>\n",
              "      <th>profile_count</th>\n",
              "      <th>cleaned_rank_y</th>\n",
              "    </tr>\n",
              "  </thead>\n",
              "  <tbody>\n",
              "    <tr>\n",
              "      <th>0</th>\n",
              "      <td>100011.0</td>\n",
              "      <td>E|3</td>\n",
              "      <td>SERGEANT</td>\n",
              "      <td>101442.0</td>\n",
              "      <td>2016.0</td>\n",
              "      <td>2016-02-01</td>\n",
              "      <td>SERGEANT</td>\n",
              "      <td>3978.0</td>\n",
              "      <td>64070.0</td>\n",
              "      <td>8113.0</td>\n",
              "      <td>...</td>\n",
              "      <td>2004-11-29</td>\n",
              "      <td>NaN</td>\n",
              "      <td>1.0</td>\n",
              "      <td>1140.0</td>\n",
              "      <td>8.0</td>\n",
              "      <td>SERGEANT OF POLICE</td>\n",
              "      <td>2004-11-29</td>\n",
              "      <td>2004-11-29</td>\n",
              "      <td>13</td>\n",
              "      <td>SERGEANT</td>\n",
              "    </tr>\n",
              "    <tr>\n",
              "      <th>1</th>\n",
              "      <td>100011.0</td>\n",
              "      <td>E|3</td>\n",
              "      <td>SERGEANT</td>\n",
              "      <td>101442.0</td>\n",
              "      <td>2016.0</td>\n",
              "      <td>2016-02-01</td>\n",
              "      <td>SERGEANT</td>\n",
              "      <td>3978.0</td>\n",
              "      <td>64203.0</td>\n",
              "      <td>8113.0</td>\n",
              "      <td>...</td>\n",
              "      <td>2004-11-29</td>\n",
              "      <td>NaN</td>\n",
              "      <td>1.0</td>\n",
              "      <td>1140.0</td>\n",
              "      <td>8.0</td>\n",
              "      <td>SERGEANT OF POLICE</td>\n",
              "      <td>2004-11-29</td>\n",
              "      <td>2004-11-29</td>\n",
              "      <td>13</td>\n",
              "      <td>SERGEANT</td>\n",
              "    </tr>\n",
              "    <tr>\n",
              "      <th>2</th>\n",
              "      <td>100011.0</td>\n",
              "      <td>E|3</td>\n",
              "      <td>SERGEANT</td>\n",
              "      <td>101442.0</td>\n",
              "      <td>2016.0</td>\n",
              "      <td>2016-02-01</td>\n",
              "      <td>SERGEANT</td>\n",
              "      <td>3978.0</td>\n",
              "      <td>64204.0</td>\n",
              "      <td>8113.0</td>\n",
              "      <td>...</td>\n",
              "      <td>2004-11-29</td>\n",
              "      <td>NaN</td>\n",
              "      <td>1.0</td>\n",
              "      <td>1140.0</td>\n",
              "      <td>8.0</td>\n",
              "      <td>SERGEANT OF POLICE</td>\n",
              "      <td>2004-11-29</td>\n",
              "      <td>2004-11-29</td>\n",
              "      <td>13</td>\n",
              "      <td>SERGEANT</td>\n",
              "    </tr>\n",
              "  </tbody>\n",
              "</table>\n",
              "<p>3 rows × 52 columns</p>\n",
              "</div>\n",
              "    <div class=\"colab-df-buttons\">\n",
              "\n",
              "  <div class=\"colab-df-container\">\n",
              "    <button class=\"colab-df-convert\" onclick=\"convertToInteractive('df-030ee87c-519d-43a6-8f9c-7348bd644a17')\"\n",
              "            title=\"Convert this dataframe to an interactive table.\"\n",
              "            style=\"display:none;\">\n",
              "\n",
              "  <svg xmlns=\"http://www.w3.org/2000/svg\" height=\"24px\" viewBox=\"0 -960 960 960\">\n",
              "    <path d=\"M120-120v-720h720v720H120Zm60-500h600v-160H180v160Zm220 220h160v-160H400v160Zm0 220h160v-160H400v160ZM180-400h160v-160H180v160Zm440 0h160v-160H620v160ZM180-180h160v-160H180v160Zm440 0h160v-160H620v160Z\"/>\n",
              "  </svg>\n",
              "    </button>\n",
              "\n",
              "  <style>\n",
              "    .colab-df-container {\n",
              "      display:flex;\n",
              "      gap: 12px;\n",
              "    }\n",
              "\n",
              "    .colab-df-convert {\n",
              "      background-color: #E8F0FE;\n",
              "      border: none;\n",
              "      border-radius: 50%;\n",
              "      cursor: pointer;\n",
              "      display: none;\n",
              "      fill: #1967D2;\n",
              "      height: 32px;\n",
              "      padding: 0 0 0 0;\n",
              "      width: 32px;\n",
              "    }\n",
              "\n",
              "    .colab-df-convert:hover {\n",
              "      background-color: #E2EBFA;\n",
              "      box-shadow: 0px 1px 2px rgba(60, 64, 67, 0.3), 0px 1px 3px 1px rgba(60, 64, 67, 0.15);\n",
              "      fill: #174EA6;\n",
              "    }\n",
              "\n",
              "    .colab-df-buttons div {\n",
              "      margin-bottom: 4px;\n",
              "    }\n",
              "\n",
              "    [theme=dark] .colab-df-convert {\n",
              "      background-color: #3B4455;\n",
              "      fill: #D2E3FC;\n",
              "    }\n",
              "\n",
              "    [theme=dark] .colab-df-convert:hover {\n",
              "      background-color: #434B5C;\n",
              "      box-shadow: 0px 1px 3px 1px rgba(0, 0, 0, 0.15);\n",
              "      filter: drop-shadow(0px 1px 2px rgba(0, 0, 0, 0.3));\n",
              "      fill: #FFFFFF;\n",
              "    }\n",
              "  </style>\n",
              "\n",
              "    <script>\n",
              "      const buttonEl =\n",
              "        document.querySelector('#df-030ee87c-519d-43a6-8f9c-7348bd644a17 button.colab-df-convert');\n",
              "      buttonEl.style.display =\n",
              "        google.colab.kernel.accessAllowed ? 'block' : 'none';\n",
              "\n",
              "      async function convertToInteractive(key) {\n",
              "        const element = document.querySelector('#df-030ee87c-519d-43a6-8f9c-7348bd644a17');\n",
              "        const dataTable =\n",
              "          await google.colab.kernel.invokeFunction('convertToInteractive',\n",
              "                                                    [key], {});\n",
              "        if (!dataTable) return;\n",
              "\n",
              "        const docLinkHtml = 'Like what you see? Visit the ' +\n",
              "          '<a target=\"_blank\" href=https://colab.research.google.com/notebooks/data_table.ipynb>data table notebook</a>'\n",
              "          + ' to learn more about interactive tables.';\n",
              "        element.innerHTML = '';\n",
              "        dataTable['output_type'] = 'display_data';\n",
              "        await google.colab.output.renderOutput(dataTable, element);\n",
              "        const docLink = document.createElement('div');\n",
              "        docLink.innerHTML = docLinkHtml;\n",
              "        element.appendChild(docLink);\n",
              "      }\n",
              "    </script>\n",
              "  </div>\n",
              "\n",
              "\n",
              "<div id=\"df-fe61f1be-ac18-48a7-a0de-220e29373b2a\">\n",
              "  <button class=\"colab-df-quickchart\" onclick=\"quickchart('df-fe61f1be-ac18-48a7-a0de-220e29373b2a')\"\n",
              "            title=\"Suggest charts\"\n",
              "            style=\"display:none;\">\n",
              "\n",
              "<svg xmlns=\"http://www.w3.org/2000/svg\" height=\"24px\"viewBox=\"0 0 24 24\"\n",
              "     width=\"24px\">\n",
              "    <g>\n",
              "        <path d=\"M19 3H5c-1.1 0-2 .9-2 2v14c0 1.1.9 2 2 2h14c1.1 0 2-.9 2-2V5c0-1.1-.9-2-2-2zM9 17H7v-7h2v7zm4 0h-2V7h2v10zm4 0h-2v-4h2v4z\"/>\n",
              "    </g>\n",
              "</svg>\n",
              "  </button>\n",
              "\n",
              "<style>\n",
              "  .colab-df-quickchart {\n",
              "      --bg-color: #E8F0FE;\n",
              "      --fill-color: #1967D2;\n",
              "      --hover-bg-color: #E2EBFA;\n",
              "      --hover-fill-color: #174EA6;\n",
              "      --disabled-fill-color: #AAA;\n",
              "      --disabled-bg-color: #DDD;\n",
              "  }\n",
              "\n",
              "  [theme=dark] .colab-df-quickchart {\n",
              "      --bg-color: #3B4455;\n",
              "      --fill-color: #D2E3FC;\n",
              "      --hover-bg-color: #434B5C;\n",
              "      --hover-fill-color: #FFFFFF;\n",
              "      --disabled-bg-color: #3B4455;\n",
              "      --disabled-fill-color: #666;\n",
              "  }\n",
              "\n",
              "  .colab-df-quickchart {\n",
              "    background-color: var(--bg-color);\n",
              "    border: none;\n",
              "    border-radius: 50%;\n",
              "    cursor: pointer;\n",
              "    display: none;\n",
              "    fill: var(--fill-color);\n",
              "    height: 32px;\n",
              "    padding: 0;\n",
              "    width: 32px;\n",
              "  }\n",
              "\n",
              "  .colab-df-quickchart:hover {\n",
              "    background-color: var(--hover-bg-color);\n",
              "    box-shadow: 0 1px 2px rgba(60, 64, 67, 0.3), 0 1px 3px 1px rgba(60, 64, 67, 0.15);\n",
              "    fill: var(--button-hover-fill-color);\n",
              "  }\n",
              "\n",
              "  .colab-df-quickchart-complete:disabled,\n",
              "  .colab-df-quickchart-complete:disabled:hover {\n",
              "    background-color: var(--disabled-bg-color);\n",
              "    fill: var(--disabled-fill-color);\n",
              "    box-shadow: none;\n",
              "  }\n",
              "\n",
              "  .colab-df-spinner {\n",
              "    border: 2px solid var(--fill-color);\n",
              "    border-color: transparent;\n",
              "    border-bottom-color: var(--fill-color);\n",
              "    animation:\n",
              "      spin 1s steps(1) infinite;\n",
              "  }\n",
              "\n",
              "  @keyframes spin {\n",
              "    0% {\n",
              "      border-color: transparent;\n",
              "      border-bottom-color: var(--fill-color);\n",
              "      border-left-color: var(--fill-color);\n",
              "    }\n",
              "    20% {\n",
              "      border-color: transparent;\n",
              "      border-left-color: var(--fill-color);\n",
              "      border-top-color: var(--fill-color);\n",
              "    }\n",
              "    30% {\n",
              "      border-color: transparent;\n",
              "      border-left-color: var(--fill-color);\n",
              "      border-top-color: var(--fill-color);\n",
              "      border-right-color: var(--fill-color);\n",
              "    }\n",
              "    40% {\n",
              "      border-color: transparent;\n",
              "      border-right-color: var(--fill-color);\n",
              "      border-top-color: var(--fill-color);\n",
              "    }\n",
              "    60% {\n",
              "      border-color: transparent;\n",
              "      border-right-color: var(--fill-color);\n",
              "    }\n",
              "    80% {\n",
              "      border-color: transparent;\n",
              "      border-right-color: var(--fill-color);\n",
              "      border-bottom-color: var(--fill-color);\n",
              "    }\n",
              "    90% {\n",
              "      border-color: transparent;\n",
              "      border-bottom-color: var(--fill-color);\n",
              "    }\n",
              "  }\n",
              "</style>\n",
              "\n",
              "  <script>\n",
              "    async function quickchart(key) {\n",
              "      const quickchartButtonEl =\n",
              "        document.querySelector('#' + key + ' button');\n",
              "      quickchartButtonEl.disabled = true;  // To prevent multiple clicks.\n",
              "      quickchartButtonEl.classList.add('colab-df-spinner');\n",
              "      try {\n",
              "        const charts = await google.colab.kernel.invokeFunction(\n",
              "            'suggestCharts', [key], {});\n",
              "      } catch (error) {\n",
              "        console.error('Error during call to suggestCharts:', error);\n",
              "      }\n",
              "      quickchartButtonEl.classList.remove('colab-df-spinner');\n",
              "      quickchartButtonEl.classList.add('colab-df-quickchart-complete');\n",
              "    }\n",
              "    (() => {\n",
              "      let quickchartButtonEl =\n",
              "        document.querySelector('#df-fe61f1be-ac18-48a7-a0de-220e29373b2a button');\n",
              "      quickchartButtonEl.style.display =\n",
              "        google.colab.kernel.accessAllowed ? 'block' : 'none';\n",
              "    })();\n",
              "  </script>\n",
              "</div>\n",
              "\n",
              "    </div>\n",
              "  </div>\n"
            ],
            "application/vnd.google.colaboratory.intrinsic+json": {
              "type": "dataframe",
              "variable_name": "merged_data"
            }
          },
          "metadata": {},
          "execution_count": 7
        }
      ]
    },
    {
      "cell_type": "code",
      "source": [
        "merged_data.columns"
      ],
      "metadata": {
        "colab": {
          "base_uri": "https://localhost:8080/"
        },
        "id": "QFgrS1rbaQFH",
        "outputId": "76150541-d56a-467b-d3fb-bd0347c8ec17"
      },
      "execution_count": 8,
      "outputs": [
        {
          "output_type": "execute_result",
          "data": {
            "text/plain": [
              "Index(['UID_x', 'pay_grade', 'rank_x', 'salary', 'year', 'spp_date',\n",
              "       'cleaned_rank_x', 'link_UID', 'row_id',\n",
              "       'complaints-accused_2000-2018_2018-03_ID', 'cr_id', 'accusation_id',\n",
              "       'allegation_category', 'allegation_category_code',\n",
              "       'current_investigator_category', 'current_investigator_category_code',\n",
              "       'unit', 'unit_detail', 'accused_arrested', 'duty_status', 'injured',\n",
              "       'final_finding', 'finding_narrative', 'penalty_id', 'penalty_code',\n",
              "       'number_of_days', 'final_finding_narrative', 'star', 'rank_y',\n",
              "       'final_finding_USE', 'final_outcome_USE', 'merge', 'UID_y', 'UID',\n",
              "       'first_name', 'last_name', 'middle_initial', 'middle_initial2',\n",
              "       'suffix_name', 'birth_year', 'race', 'gender', 'appointed_date',\n",
              "       'resignation_date', 'current_status', 'current_star', 'current_unit',\n",
              "       'current_rank', 'start_date', 'org_hire_date', 'profile_count',\n",
              "       'cleaned_rank_y'],\n",
              "      dtype='object')"
            ]
          },
          "metadata": {},
          "execution_count": 8
        }
      ]
    },
    {
      "cell_type": "code",
      "source": [
        "selected_columns = merged_data[['link_UID', 'race','gender','birth_year','salary', 'appointed_date', 'cleaned_rank_x','allegation_category','final_finding','penalty_code','number_of_days']]\n",
        "selected_columns.sample(n=10)"
      ],
      "metadata": {
        "colab": {
          "base_uri": "https://localhost:8080/",
          "height": 363
        },
        "id": "ptBZKIOtGE7_",
        "outputId": "68f26a0e-10f5-42f1-c014-a5702a463a2d"
      },
      "execution_count": 37,
      "outputs": [
        {
          "output_type": "execute_result",
          "data": {
            "text/plain": [
              "         link_UID                    race  gender  birth_year    salary  \\\n",
              "1010677    8762.0                   WHITE    MALE      1971.0   64662.0   \n",
              "713331    16824.0                   WHITE  FEMALE      1955.0   89718.0   \n",
              "29814      9583.0                HISPANIC    MALE      1963.0   80724.0   \n",
              "458656    22692.0                   WHITE    MALE      1973.0   92778.0   \n",
              "715276      650.0                   BLACK    MALE      1965.0   89130.0   \n",
              "192299     9741.0                   BLACK    MALE      1975.0   86142.0   \n",
              "531249    10239.0                HISPANIC    MALE      1965.0  103932.0   \n",
              "87319      2666.0                HISPANIC    MALE      1978.0   68994.0   \n",
              "484261    20610.0  ASIAN/PACIFIC ISLANDER    MALE      1971.0   86520.0   \n",
              "928761    22622.0                HISPANIC    MALE      1971.0   80724.0   \n",
              "\n",
              "        appointed_date  cleaned_rank_x  \\\n",
              "1010677     1996-12-02  POLICE OFFICER   \n",
              "713331      1995-12-04  POLICE OFFICER   \n",
              "29814       1996-05-06  POLICE OFFICER   \n",
              "458656      1998-05-26        SERGEANT   \n",
              "715276      1997-07-07  POLICE OFFICER   \n",
              "192299      2004-09-27  POLICE OFFICER   \n",
              "531249      1991-12-02       DETECTIVE   \n",
              "87319       2013-02-19  POLICE OFFICER   \n",
              "484261      1999-10-25  POLICE OFFICER   \n",
              "928761      1995-06-05  POLICE OFFICER   \n",
              "\n",
              "                            allegation_category  final_finding penalty_code  \\\n",
              "1010677            MISUSE OF DEPARTMENT RECORDS      UNFOUNDED          NaN   \n",
              "713331                                      NaN            NaN          NaN   \n",
              "29814        EXCESSIVE FORCE / ON DUTY - INJURY  NOT SUSTAINED          NaN   \n",
              "458656                            MISCELLANEOUS      SUSTAINED   SUSPENSION   \n",
              "715276                                    FALSE      SUSTAINED   SUSPENSION   \n",
              "192299             PROPER CARE - INJURY / DEATH      SUSTAINED   SUSPENSION   \n",
              "531249   EXCESSIVE FORCE / OFF DUTY - NO INJURY  NOT SUSTAINED          NaN   \n",
              "87319             ILLEGAL ARREST / FALSE ARREST     EXONERATED          NaN   \n",
              "484261                    RACIAL / ETHNIC, ETC.  NOT SUSTAINED          NaN   \n",
              "928761                      FAILURE TO IDENTIFY  NOT SUSTAINED          NaN   \n",
              "\n",
              "         number_of_days  \n",
              "1010677             NaN  \n",
              "713331              NaN  \n",
              "29814               NaN  \n",
              "458656              5.0  \n",
              "715276             30.0  \n",
              "192299             20.0  \n",
              "531249              NaN  \n",
              "87319               NaN  \n",
              "484261              NaN  \n",
              "928761              NaN  "
            ],
            "text/html": [
              "\n",
              "  <div id=\"df-68bdb457-b86d-43d5-a7b8-610c767bcb29\" class=\"colab-df-container\">\n",
              "    <div>\n",
              "<style scoped>\n",
              "    .dataframe tbody tr th:only-of-type {\n",
              "        vertical-align: middle;\n",
              "    }\n",
              "\n",
              "    .dataframe tbody tr th {\n",
              "        vertical-align: top;\n",
              "    }\n",
              "\n",
              "    .dataframe thead th {\n",
              "        text-align: right;\n",
              "    }\n",
              "</style>\n",
              "<table border=\"1\" class=\"dataframe\">\n",
              "  <thead>\n",
              "    <tr style=\"text-align: right;\">\n",
              "      <th></th>\n",
              "      <th>link_UID</th>\n",
              "      <th>race</th>\n",
              "      <th>gender</th>\n",
              "      <th>birth_year</th>\n",
              "      <th>salary</th>\n",
              "      <th>appointed_date</th>\n",
              "      <th>cleaned_rank_x</th>\n",
              "      <th>allegation_category</th>\n",
              "      <th>final_finding</th>\n",
              "      <th>penalty_code</th>\n",
              "      <th>number_of_days</th>\n",
              "    </tr>\n",
              "  </thead>\n",
              "  <tbody>\n",
              "    <tr>\n",
              "      <th>1010677</th>\n",
              "      <td>8762.0</td>\n",
              "      <td>WHITE</td>\n",
              "      <td>MALE</td>\n",
              "      <td>1971.0</td>\n",
              "      <td>64662.0</td>\n",
              "      <td>1996-12-02</td>\n",
              "      <td>POLICE OFFICER</td>\n",
              "      <td>MISUSE OF DEPARTMENT RECORDS</td>\n",
              "      <td>UNFOUNDED</td>\n",
              "      <td>NaN</td>\n",
              "      <td>NaN</td>\n",
              "    </tr>\n",
              "    <tr>\n",
              "      <th>713331</th>\n",
              "      <td>16824.0</td>\n",
              "      <td>WHITE</td>\n",
              "      <td>FEMALE</td>\n",
              "      <td>1955.0</td>\n",
              "      <td>89718.0</td>\n",
              "      <td>1995-12-04</td>\n",
              "      <td>POLICE OFFICER</td>\n",
              "      <td>NaN</td>\n",
              "      <td>NaN</td>\n",
              "      <td>NaN</td>\n",
              "      <td>NaN</td>\n",
              "    </tr>\n",
              "    <tr>\n",
              "      <th>29814</th>\n",
              "      <td>9583.0</td>\n",
              "      <td>HISPANIC</td>\n",
              "      <td>MALE</td>\n",
              "      <td>1963.0</td>\n",
              "      <td>80724.0</td>\n",
              "      <td>1996-05-06</td>\n",
              "      <td>POLICE OFFICER</td>\n",
              "      <td>EXCESSIVE FORCE / ON DUTY - INJURY</td>\n",
              "      <td>NOT SUSTAINED</td>\n",
              "      <td>NaN</td>\n",
              "      <td>NaN</td>\n",
              "    </tr>\n",
              "    <tr>\n",
              "      <th>458656</th>\n",
              "      <td>22692.0</td>\n",
              "      <td>WHITE</td>\n",
              "      <td>MALE</td>\n",
              "      <td>1973.0</td>\n",
              "      <td>92778.0</td>\n",
              "      <td>1998-05-26</td>\n",
              "      <td>SERGEANT</td>\n",
              "      <td>MISCELLANEOUS</td>\n",
              "      <td>SUSTAINED</td>\n",
              "      <td>SUSPENSION</td>\n",
              "      <td>5.0</td>\n",
              "    </tr>\n",
              "    <tr>\n",
              "      <th>715276</th>\n",
              "      <td>650.0</td>\n",
              "      <td>BLACK</td>\n",
              "      <td>MALE</td>\n",
              "      <td>1965.0</td>\n",
              "      <td>89130.0</td>\n",
              "      <td>1997-07-07</td>\n",
              "      <td>POLICE OFFICER</td>\n",
              "      <td>FALSE</td>\n",
              "      <td>SUSTAINED</td>\n",
              "      <td>SUSPENSION</td>\n",
              "      <td>30.0</td>\n",
              "    </tr>\n",
              "    <tr>\n",
              "      <th>192299</th>\n",
              "      <td>9741.0</td>\n",
              "      <td>BLACK</td>\n",
              "      <td>MALE</td>\n",
              "      <td>1975.0</td>\n",
              "      <td>86142.0</td>\n",
              "      <td>2004-09-27</td>\n",
              "      <td>POLICE OFFICER</td>\n",
              "      <td>PROPER CARE - INJURY / DEATH</td>\n",
              "      <td>SUSTAINED</td>\n",
              "      <td>SUSPENSION</td>\n",
              "      <td>20.0</td>\n",
              "    </tr>\n",
              "    <tr>\n",
              "      <th>531249</th>\n",
              "      <td>10239.0</td>\n",
              "      <td>HISPANIC</td>\n",
              "      <td>MALE</td>\n",
              "      <td>1965.0</td>\n",
              "      <td>103932.0</td>\n",
              "      <td>1991-12-02</td>\n",
              "      <td>DETECTIVE</td>\n",
              "      <td>EXCESSIVE FORCE / OFF DUTY - NO INJURY</td>\n",
              "      <td>NOT SUSTAINED</td>\n",
              "      <td>NaN</td>\n",
              "      <td>NaN</td>\n",
              "    </tr>\n",
              "    <tr>\n",
              "      <th>87319</th>\n",
              "      <td>2666.0</td>\n",
              "      <td>HISPANIC</td>\n",
              "      <td>MALE</td>\n",
              "      <td>1978.0</td>\n",
              "      <td>68994.0</td>\n",
              "      <td>2013-02-19</td>\n",
              "      <td>POLICE OFFICER</td>\n",
              "      <td>ILLEGAL ARREST / FALSE ARREST</td>\n",
              "      <td>EXONERATED</td>\n",
              "      <td>NaN</td>\n",
              "      <td>NaN</td>\n",
              "    </tr>\n",
              "    <tr>\n",
              "      <th>484261</th>\n",
              "      <td>20610.0</td>\n",
              "      <td>ASIAN/PACIFIC ISLANDER</td>\n",
              "      <td>MALE</td>\n",
              "      <td>1971.0</td>\n",
              "      <td>86520.0</td>\n",
              "      <td>1999-10-25</td>\n",
              "      <td>POLICE OFFICER</td>\n",
              "      <td>RACIAL / ETHNIC, ETC.</td>\n",
              "      <td>NOT SUSTAINED</td>\n",
              "      <td>NaN</td>\n",
              "      <td>NaN</td>\n",
              "    </tr>\n",
              "    <tr>\n",
              "      <th>928761</th>\n",
              "      <td>22622.0</td>\n",
              "      <td>HISPANIC</td>\n",
              "      <td>MALE</td>\n",
              "      <td>1971.0</td>\n",
              "      <td>80724.0</td>\n",
              "      <td>1995-06-05</td>\n",
              "      <td>POLICE OFFICER</td>\n",
              "      <td>FAILURE TO IDENTIFY</td>\n",
              "      <td>NOT SUSTAINED</td>\n",
              "      <td>NaN</td>\n",
              "      <td>NaN</td>\n",
              "    </tr>\n",
              "  </tbody>\n",
              "</table>\n",
              "</div>\n",
              "    <div class=\"colab-df-buttons\">\n",
              "\n",
              "  <div class=\"colab-df-container\">\n",
              "    <button class=\"colab-df-convert\" onclick=\"convertToInteractive('df-68bdb457-b86d-43d5-a7b8-610c767bcb29')\"\n",
              "            title=\"Convert this dataframe to an interactive table.\"\n",
              "            style=\"display:none;\">\n",
              "\n",
              "  <svg xmlns=\"http://www.w3.org/2000/svg\" height=\"24px\" viewBox=\"0 -960 960 960\">\n",
              "    <path d=\"M120-120v-720h720v720H120Zm60-500h600v-160H180v160Zm220 220h160v-160H400v160Zm0 220h160v-160H400v160ZM180-400h160v-160H180v160Zm440 0h160v-160H620v160ZM180-180h160v-160H180v160Zm440 0h160v-160H620v160Z\"/>\n",
              "  </svg>\n",
              "    </button>\n",
              "\n",
              "  <style>\n",
              "    .colab-df-container {\n",
              "      display:flex;\n",
              "      gap: 12px;\n",
              "    }\n",
              "\n",
              "    .colab-df-convert {\n",
              "      background-color: #E8F0FE;\n",
              "      border: none;\n",
              "      border-radius: 50%;\n",
              "      cursor: pointer;\n",
              "      display: none;\n",
              "      fill: #1967D2;\n",
              "      height: 32px;\n",
              "      padding: 0 0 0 0;\n",
              "      width: 32px;\n",
              "    }\n",
              "\n",
              "    .colab-df-convert:hover {\n",
              "      background-color: #E2EBFA;\n",
              "      box-shadow: 0px 1px 2px rgba(60, 64, 67, 0.3), 0px 1px 3px 1px rgba(60, 64, 67, 0.15);\n",
              "      fill: #174EA6;\n",
              "    }\n",
              "\n",
              "    .colab-df-buttons div {\n",
              "      margin-bottom: 4px;\n",
              "    }\n",
              "\n",
              "    [theme=dark] .colab-df-convert {\n",
              "      background-color: #3B4455;\n",
              "      fill: #D2E3FC;\n",
              "    }\n",
              "\n",
              "    [theme=dark] .colab-df-convert:hover {\n",
              "      background-color: #434B5C;\n",
              "      box-shadow: 0px 1px 3px 1px rgba(0, 0, 0, 0.15);\n",
              "      filter: drop-shadow(0px 1px 2px rgba(0, 0, 0, 0.3));\n",
              "      fill: #FFFFFF;\n",
              "    }\n",
              "  </style>\n",
              "\n",
              "    <script>\n",
              "      const buttonEl =\n",
              "        document.querySelector('#df-68bdb457-b86d-43d5-a7b8-610c767bcb29 button.colab-df-convert');\n",
              "      buttonEl.style.display =\n",
              "        google.colab.kernel.accessAllowed ? 'block' : 'none';\n",
              "\n",
              "      async function convertToInteractive(key) {\n",
              "        const element = document.querySelector('#df-68bdb457-b86d-43d5-a7b8-610c767bcb29');\n",
              "        const dataTable =\n",
              "          await google.colab.kernel.invokeFunction('convertToInteractive',\n",
              "                                                    [key], {});\n",
              "        if (!dataTable) return;\n",
              "\n",
              "        const docLinkHtml = 'Like what you see? Visit the ' +\n",
              "          '<a target=\"_blank\" href=https://colab.research.google.com/notebooks/data_table.ipynb>data table notebook</a>'\n",
              "          + ' to learn more about interactive tables.';\n",
              "        element.innerHTML = '';\n",
              "        dataTable['output_type'] = 'display_data';\n",
              "        await google.colab.output.renderOutput(dataTable, element);\n",
              "        const docLink = document.createElement('div');\n",
              "        docLink.innerHTML = docLinkHtml;\n",
              "        element.appendChild(docLink);\n",
              "      }\n",
              "    </script>\n",
              "  </div>\n",
              "\n",
              "\n",
              "<div id=\"df-21d48800-1b38-4de4-8512-9fb908998e8e\">\n",
              "  <button class=\"colab-df-quickchart\" onclick=\"quickchart('df-21d48800-1b38-4de4-8512-9fb908998e8e')\"\n",
              "            title=\"Suggest charts\"\n",
              "            style=\"display:none;\">\n",
              "\n",
              "<svg xmlns=\"http://www.w3.org/2000/svg\" height=\"24px\"viewBox=\"0 0 24 24\"\n",
              "     width=\"24px\">\n",
              "    <g>\n",
              "        <path d=\"M19 3H5c-1.1 0-2 .9-2 2v14c0 1.1.9 2 2 2h14c1.1 0 2-.9 2-2V5c0-1.1-.9-2-2-2zM9 17H7v-7h2v7zm4 0h-2V7h2v10zm4 0h-2v-4h2v4z\"/>\n",
              "    </g>\n",
              "</svg>\n",
              "  </button>\n",
              "\n",
              "<style>\n",
              "  .colab-df-quickchart {\n",
              "      --bg-color: #E8F0FE;\n",
              "      --fill-color: #1967D2;\n",
              "      --hover-bg-color: #E2EBFA;\n",
              "      --hover-fill-color: #174EA6;\n",
              "      --disabled-fill-color: #AAA;\n",
              "      --disabled-bg-color: #DDD;\n",
              "  }\n",
              "\n",
              "  [theme=dark] .colab-df-quickchart {\n",
              "      --bg-color: #3B4455;\n",
              "      --fill-color: #D2E3FC;\n",
              "      --hover-bg-color: #434B5C;\n",
              "      --hover-fill-color: #FFFFFF;\n",
              "      --disabled-bg-color: #3B4455;\n",
              "      --disabled-fill-color: #666;\n",
              "  }\n",
              "\n",
              "  .colab-df-quickchart {\n",
              "    background-color: var(--bg-color);\n",
              "    border: none;\n",
              "    border-radius: 50%;\n",
              "    cursor: pointer;\n",
              "    display: none;\n",
              "    fill: var(--fill-color);\n",
              "    height: 32px;\n",
              "    padding: 0;\n",
              "    width: 32px;\n",
              "  }\n",
              "\n",
              "  .colab-df-quickchart:hover {\n",
              "    background-color: var(--hover-bg-color);\n",
              "    box-shadow: 0 1px 2px rgba(60, 64, 67, 0.3), 0 1px 3px 1px rgba(60, 64, 67, 0.15);\n",
              "    fill: var(--button-hover-fill-color);\n",
              "  }\n",
              "\n",
              "  .colab-df-quickchart-complete:disabled,\n",
              "  .colab-df-quickchart-complete:disabled:hover {\n",
              "    background-color: var(--disabled-bg-color);\n",
              "    fill: var(--disabled-fill-color);\n",
              "    box-shadow: none;\n",
              "  }\n",
              "\n",
              "  .colab-df-spinner {\n",
              "    border: 2px solid var(--fill-color);\n",
              "    border-color: transparent;\n",
              "    border-bottom-color: var(--fill-color);\n",
              "    animation:\n",
              "      spin 1s steps(1) infinite;\n",
              "  }\n",
              "\n",
              "  @keyframes spin {\n",
              "    0% {\n",
              "      border-color: transparent;\n",
              "      border-bottom-color: var(--fill-color);\n",
              "      border-left-color: var(--fill-color);\n",
              "    }\n",
              "    20% {\n",
              "      border-color: transparent;\n",
              "      border-left-color: var(--fill-color);\n",
              "      border-top-color: var(--fill-color);\n",
              "    }\n",
              "    30% {\n",
              "      border-color: transparent;\n",
              "      border-left-color: var(--fill-color);\n",
              "      border-top-color: var(--fill-color);\n",
              "      border-right-color: var(--fill-color);\n",
              "    }\n",
              "    40% {\n",
              "      border-color: transparent;\n",
              "      border-right-color: var(--fill-color);\n",
              "      border-top-color: var(--fill-color);\n",
              "    }\n",
              "    60% {\n",
              "      border-color: transparent;\n",
              "      border-right-color: var(--fill-color);\n",
              "    }\n",
              "    80% {\n",
              "      border-color: transparent;\n",
              "      border-right-color: var(--fill-color);\n",
              "      border-bottom-color: var(--fill-color);\n",
              "    }\n",
              "    90% {\n",
              "      border-color: transparent;\n",
              "      border-bottom-color: var(--fill-color);\n",
              "    }\n",
              "  }\n",
              "</style>\n",
              "\n",
              "  <script>\n",
              "    async function quickchart(key) {\n",
              "      const quickchartButtonEl =\n",
              "        document.querySelector('#' + key + ' button');\n",
              "      quickchartButtonEl.disabled = true;  // To prevent multiple clicks.\n",
              "      quickchartButtonEl.classList.add('colab-df-spinner');\n",
              "      try {\n",
              "        const charts = await google.colab.kernel.invokeFunction(\n",
              "            'suggestCharts', [key], {});\n",
              "      } catch (error) {\n",
              "        console.error('Error during call to suggestCharts:', error);\n",
              "      }\n",
              "      quickchartButtonEl.classList.remove('colab-df-spinner');\n",
              "      quickchartButtonEl.classList.add('colab-df-quickchart-complete');\n",
              "    }\n",
              "    (() => {\n",
              "      let quickchartButtonEl =\n",
              "        document.querySelector('#df-21d48800-1b38-4de4-8512-9fb908998e8e button');\n",
              "      quickchartButtonEl.style.display =\n",
              "        google.colab.kernel.accessAllowed ? 'block' : 'none';\n",
              "    })();\n",
              "  </script>\n",
              "</div>\n",
              "\n",
              "    </div>\n",
              "  </div>\n"
            ],
            "application/vnd.google.colaboratory.intrinsic+json": {
              "type": "dataframe",
              "repr_error": "0"
            }
          },
          "metadata": {},
          "execution_count": 37
        }
      ]
    },
    {
      "cell_type": "markdown",
      "source": [
        "# Finding the complaint outcomes"
      ],
      "metadata": {
        "id": "gfNLvZi-_B7u"
      }
    },
    {
      "cell_type": "code",
      "source": [
        "outcome_counts = merged_data['final_finding'].value_counts(dropna=False)\n",
        "outcome_counts.head(5)\n",
        "# no penalty = not punished at all"
      ],
      "metadata": {
        "colab": {
          "base_uri": "https://localhost:8080/"
        },
        "id": "ykFH1cRHJlX2",
        "outputId": "aeac8f7d-33ef-45ac-eecf-2850ddcd53bc"
      },
      "execution_count": 29,
      "outputs": [
        {
          "output_type": "execute_result",
          "data": {
            "text/plain": [
              "final_finding\n",
              "NOT SUSTAINED    522438\n",
              "UNFOUNDED        281641\n",
              "SUSTAINED        248586\n",
              "NaN              103220\n",
              "EXONERATED        44324\n",
              "Name: count, dtype: int64"
            ]
          },
          "metadata": {},
          "execution_count": 29
        }
      ]
    },
    {
      "cell_type": "markdown",
      "source": [
        "# Finding the penalty outcomes"
      ],
      "metadata": {
        "id": "z0p-JKPnAC5a"
      }
    },
    {
      "cell_type": "code",
      "source": [
        "penalty_counts = merged_data['penalty_code'].value_counts()\n",
        "penalty_counts.head(5)"
      ],
      "metadata": {
        "colab": {
          "base_uri": "https://localhost:8080/"
        },
        "id": "NBnCHL-x_3jJ",
        "outputId": "4b50de0d-b9f7-45c5-bbae-06a6552d51b8"
      },
      "execution_count": 13,
      "outputs": [
        {
          "output_type": "execute_result",
          "data": {
            "text/plain": [
              "penalty_code\n",
              "SUSPENSION              266196\n",
              "SEPARATION               33317\n",
              "REPRIMAND                30990\n",
              "VIOLATION NOTED          17648\n",
              "WORK REGULAR DAY OFF       120\n",
              "Name: count, dtype: int64"
            ]
          },
          "metadata": {},
          "execution_count": 13
        }
      ]
    },
    {
      "cell_type": "markdown",
      "source": [
        "# Finding each of the unique ranks and the average salary for each"
      ],
      "metadata": {
        "id": "w9ZUE7cG_IbR"
      }
    },
    {
      "cell_type": "code",
      "source": [
        "average_salary_by_cleaned_rank = merged_data.groupby('cleaned_rank_x')['salary'].mean()\n",
        "print(average_salary_by_cleaned_rank)\n",
        "\n",
        "# You can also sort it\n",
        "# average_salary_by_cleaned_rank_sorted = average_salary_by_cleaned_rank.sort_values(ascending=False)\n",
        "# print(average_salary_by_cleaned_rank_sorted)\n"
      ],
      "metadata": {
        "colab": {
          "base_uri": "https://localhost:8080/"
        },
        "id": "bzRYM1Og6j8T",
        "outputId": "f86d99fd-2ba4-4b69-fb97-240a8cc4dbfc"
      },
      "execution_count": 14,
      "outputs": [
        {
          "output_type": "stream",
          "name": "stdout",
          "text": [
            "cleaned_rank_x\n",
            "ASSISTANT SUPERINTENDENT           180981.000000\n",
            "CAPTAIN                            134891.152941\n",
            "CHIEF                              171558.592320\n",
            "CIVILIAN                           131423.387755\n",
            "COMMANDER                          145242.150355\n",
            "DEPUTY CHIEF                       154133.273159\n",
            "DEPUTY SUPERINTENDENT              154424.328358\n",
            "DETECTIVE                           84573.199795\n",
            "FIELD TRAINING OFFICER              78085.163996\n",
            "FIRST DEPUTY SUPERINTENDENT        178790.888889\n",
            "GENERAL COUNSEL                    143630.210526\n",
            "INVESTIGATOR                        66913.966423\n",
            "LIEUTENANT                         121986.094715\n",
            "POLICE OFFICER                      71793.794864\n",
            "SERGEANT                            93035.690763\n",
            "SUPERINTENDENT'S CHIEF OF STAFF    158337.000000\n",
            "Name: salary, dtype: float64\n"
          ]
        }
      ]
    },
    {
      "cell_type": "code",
      "source": [
        "average_salary_by_rank = merged_data.groupby('rank_y')['salary'].mean()\n",
        "average_salary_by_rank\n",
        "\n",
        "# the cleaned_rank definitely works better"
      ],
      "metadata": {
        "colab": {
          "base_uri": "https://localhost:8080/"
        },
        "id": "tgWdyojY8sFP",
        "outputId": "5d899aad-193f-474a-f8a4-d8515a3221aa"
      },
      "execution_count": 15,
      "outputs": [
        {
          "output_type": "execute_result",
          "data": {
            "text/plain": [
              "rank_y\n",
              "ASST DEPUTY SUP         126030.000000\n",
              "CAPTAIN OF POLICE       126635.938356\n",
              "CHIEF                   132631.500000\n",
              "COMMANDER               118636.029630\n",
              "CROSSING GUARD           70483.500000\n",
              "DEP CHIEF               152322.923077\n",
              "DEPUTY SUPT.            138033.333333\n",
              "DETENTION AIDE           69071.181818\n",
              "EXPL TECH 1              87144.000000\n",
              "FIRST DEPUTY SUPT.      149076.000000\n",
              "LIEUTENANT OF POLICE     92339.034135\n",
              "MACHINIST AUTO           79693.125000\n",
              "P O ASSGN SEC SPEC       76324.084034\n",
              "PO (PER ARB AWARD)       82814.025641\n",
              "PO AS DETECTIVE          81221.915128\n",
              "PO ASGN EVID. TECHNI     76838.222222\n",
              "PO ASGN GANG CRMS SP     83648.963979\n",
              "PO ASGN LATEN F/P EX     72468.000000\n",
              "PO ASSG CANINE HANDL     73066.959677\n",
              "PO ASSGN TRAFF SPEC      78449.059126\n",
              "PO ASSIGN YOUTH OFF      83985.675676\n",
              "PO LEGAL OFF 1           83845.875000\n",
              "PO LEGAL OFF 2          100827.272727\n",
              "PO/EXP DET CAN HAND      74512.664835\n",
              "PO/FIELD TRNING OFF      76631.444201\n",
              "PO/MARINE OFFICER        78153.129856\n",
              "PO/MOUNTED PAT OFF.      78055.500000\n",
              "POL FORENSIC INV I       88127.177419\n",
              "POLICE AGENT             79637.250000\n",
              "POLICE COMM OPER 2       81631.875000\n",
              "POLICE OFFICER           73063.805776\n",
              "PRINC METHOD ANALYST     78414.375000\n",
              "SERGEANT OF POLICE       87892.465213\n",
              "Name: salary, dtype: float64"
            ]
          },
          "metadata": {},
          "execution_count": 15
        }
      ]
    },
    {
      "cell_type": "markdown",
      "source": [
        "# Draft"
      ],
      "metadata": {
        "id": "kDy9St-E0qH4"
      }
    },
    {
      "cell_type": "code",
      "source": [
        "num_days = merged_data['number_of_days'].value_counts()\n",
        "num_days.head(5)"
      ],
      "metadata": {
        "colab": {
          "base_uri": "https://localhost:8080/"
        },
        "id": "RXLpmWZVyh1n",
        "outputId": "c5ca5a19-d759-4357-8b45-0cfc8ab28c32"
      },
      "execution_count": 16,
      "outputs": [
        {
          "output_type": "execute_result",
          "data": {
            "text/plain": [
              "number_of_days\n",
              "5.0     36255\n",
              "30.0    33488\n",
              "1.0     26933\n",
              "3.0     26086\n",
              "15.0    24602\n",
              "Name: count, dtype: int64"
            ]
          },
          "metadata": {},
          "execution_count": 16
        }
      ]
    },
    {
      "cell_type": "code",
      "source": [
        "allegation_category = merged_data['allegation_category'].value_counts()\n",
        "allegation_category.head(5)"
      ],
      "metadata": {
        "colab": {
          "base_uri": "https://localhost:8080/"
        },
        "id": "B1ByfBPqzrPt",
        "outputId": "9737fd0f-4903-43b7-91da-faa139008daf"
      },
      "execution_count": 17,
      "outputs": [
        {
          "output_type": "execute_result",
          "data": {
            "text/plain": [
              "allegation_category\n",
              "MISCELLANEOUS                         202064\n",
              "EXCESSIVE FORCE / ON DUTY - INJURY     91177\n",
              "USE OF PROFANITY                       71759\n",
              "PUSH/PULL/GRAB                         50303\n",
              "CLOSED HAND STRIKE (PUNCH)             43370\n",
              "Name: count, dtype: int64"
            ]
          },
          "metadata": {},
          "execution_count": 17
        }
      ]
    },
    {
      "cell_type": "code",
      "source": [
        "penalty_code = merged_data['penalty_code'].value_counts(dropna=False) # don't drop NaNs, they probably mean no penalty\n",
        "penalty_code.head(5)"
      ],
      "metadata": {
        "colab": {
          "base_uri": "https://localhost:8080/"
        },
        "id": "UXvT3tFs0kha",
        "outputId": "24e8b265-0523-4640-9016-42b8e8b5bb50"
      },
      "execution_count": 18,
      "outputs": [
        {
          "output_type": "execute_result",
          "data": {
            "text/plain": [
              "penalty_code\n",
              "NaN                861267\n",
              "SUSPENSION         266196\n",
              "SEPARATION          33317\n",
              "REPRIMAND           30990\n",
              "VIOLATION NOTED     17648\n",
              "Name: count, dtype: int64"
            ]
          },
          "metadata": {},
          "execution_count": 18
        }
      ]
    },
    {
      "cell_type": "code",
      "source": [
        "filtered_No_Penalty= merged_data[merged_data['final_finding_narrative'] == 'FINAL- No Penalty']['penalty_code']\n",
        "\n",
        "# This one is checking: if the final finding narrative is final-no penalty, their penalty code should be NaN\n",
        "print(filtered_No_Penalty)\n",
        "print(filtered_No_Penalty.isna().all())\n",
        "print(filtered_No_Penalty.shape[0])"
      ],
      "metadata": {
        "colab": {
          "base_uri": "https://localhost:8080/"
        },
        "id": "b2A6mglYZFyN",
        "outputId": "d9a0b1b8-e068-4983-fdb6-0cff5db7e5f1"
      },
      "execution_count": 19,
      "outputs": [
        {
          "output_type": "stream",
          "name": "stdout",
          "text": [
            "19         NaN\n",
            "23         NaN\n",
            "24         NaN\n",
            "25         NaN\n",
            "27         NaN\n",
            "          ... \n",
            "1209035    NaN\n",
            "1209036    NaN\n",
            "1209037    NaN\n",
            "1209038    NaN\n",
            "1209039    NaN\n",
            "Name: penalty_code, Length: 188404, dtype: object\n",
            "True\n",
            "188404\n"
          ]
        }
      ]
    },
    {
      "cell_type": "code",
      "source": [
        "filtered_INITIAL= merged_data[merged_data['final_finding_narrative'] == 'INITIAL']['penalty_code']\n",
        "\n",
        "# This one is checking: if the final finding narrative is initial, their penalty code could vary a lot\n",
        "print(filtered_INITIAL)\n",
        "print((filtered_INITIAL=='SUSPENSION').all())\n",
        "non_suspension_data = filtered_INITIAL[filtered_INITIAL != \"SUSPENSION\"]\n",
        "print(non_suspension_data)"
      ],
      "metadata": {
        "colab": {
          "base_uri": "https://localhost:8080/"
        },
        "id": "1xi7f9cHZpG9",
        "outputId": "a169baf3-1711-49f1-e680-e44ec335efb4"
      },
      "execution_count": 21,
      "outputs": [
        {
          "output_type": "stream",
          "name": "stdout",
          "text": [
            "164        SUSPENSION\n",
            "174        SUSPENSION\n",
            "289        SUSPENSION\n",
            "290        SUSPENSION\n",
            "291        SUSPENSION\n",
            "              ...    \n",
            "1208122    SUSPENSION\n",
            "1208132    SUSPENSION\n",
            "1208142    SUSPENSION\n",
            "1208152    SUSPENSION\n",
            "1208162    SUSPENSION\n",
            "Name: penalty_code, Length: 40581, dtype: object\n",
            "False\n",
            "506         REPRIMAND\n",
            "1019       SEPARATION\n",
            "1020       SEPARATION\n",
            "1021       SEPARATION\n",
            "1025       SEPARATION\n",
            "              ...    \n",
            "1201708     REPRIMAND\n",
            "1201723     REPRIMAND\n",
            "1201738     REPRIMAND\n",
            "1201753     REPRIMAND\n",
            "1201768     REPRIMAND\n",
            "Name: penalty_code, Length: 9103, dtype: object\n"
          ]
        }
      ]
    },
    {
      "cell_type": "code",
      "source": [
        "# Load the datasets\n",
        "# complaints = pd.read_csv(file_path + 'complaints-accused.csv')\n",
        "\n",
        "\n",
        "# Merge the DataFrames on the UID columns\n",
        "# The 'left_on' corresponds to the column in complaints-accused, and 'right_on' is the column in final-profiles.\n",
        "# merged_salary_data = pd.merge(salary, officers, left_on='link_UID', right_on='link_UID', how='left')\n",
        "# merged_salary_rank_data = pd.merge(salary_ranks, officers, left_on='link_UID', right_on='link_UID', how='left')\n",
        "# Print the first few rows of the merged data to verify the merge\n",
        "# print(merged_salary_rank_data.head())\n",
        "\n",
        "# Optionally, save the merged data to a new CSV file for further analysis or reporting\n",
        "# merged_data.to_csv('merged_complaints_officers.csv', index=False)"
      ],
      "metadata": {
        "id": "_ZOglMIk5klJ"
      },
      "execution_count": null,
      "outputs": []
    },
    {
      "cell_type": "code",
      "source": [],
      "metadata": {
        "id": "_AeX72W59SpN"
      },
      "execution_count": null,
      "outputs": []
    }
  ]
}