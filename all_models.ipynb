{
  "nbformat": 4,
  "nbformat_minor": 0,
  "metadata": {
    "colab": {
      "provenance": []
    },
    "kernelspec": {
      "name": "python3",
      "display_name": "Python 3"
    },
    "language_info": {
      "name": "python"
    },
    "widgets": {
      "application/vnd.jupyter.widget-state+json": {
        "f586e6c622854859ab84c04177f848e9": {
          "model_module": "@jupyter-widgets/controls",
          "model_name": "HBoxModel",
          "model_module_version": "1.5.0",
          "state": {
            "_dom_classes": [],
            "_model_module": "@jupyter-widgets/controls",
            "_model_module_version": "1.5.0",
            "_model_name": "HBoxModel",
            "_view_count": null,
            "_view_module": "@jupyter-widgets/controls",
            "_view_module_version": "1.5.0",
            "_view_name": "HBoxView",
            "box_style": "",
            "children": [
              "IPY_MODEL_b156b79a65cc4cfd93b19ae2b3f762b0",
              "IPY_MODEL_277c9900d44841fb884941d29f4faef7",
              "IPY_MODEL_3205620277074149ad2e341f95ce6e67"
            ],
            "layout": "IPY_MODEL_aa520622570c4268a7a5444929b29604"
          }
        },
        "b156b79a65cc4cfd93b19ae2b3f762b0": {
          "model_module": "@jupyter-widgets/controls",
          "model_name": "HTMLModel",
          "model_module_version": "1.5.0",
          "state": {
            "_dom_classes": [],
            "_model_module": "@jupyter-widgets/controls",
            "_model_module_version": "1.5.0",
            "_model_name": "HTMLModel",
            "_view_count": null,
            "_view_module": "@jupyter-widgets/controls",
            "_view_module_version": "1.5.0",
            "_view_name": "HTMLView",
            "description": "",
            "description_tooltip": null,
            "layout": "IPY_MODEL_6888d43543714eba8fd0aa1b2bf1ac31",
            "placeholder": "​",
            "style": "IPY_MODEL_8b8d151552a1416fbb98e521c6972268",
            "value": "100%"
          }
        },
        "277c9900d44841fb884941d29f4faef7": {
          "model_module": "@jupyter-widgets/controls",
          "model_name": "FloatProgressModel",
          "model_module_version": "1.5.0",
          "state": {
            "_dom_classes": [],
            "_model_module": "@jupyter-widgets/controls",
            "_model_module_version": "1.5.0",
            "_model_name": "FloatProgressModel",
            "_view_count": null,
            "_view_module": "@jupyter-widgets/controls",
            "_view_module_version": "1.5.0",
            "_view_name": "ProgressView",
            "bar_style": "success",
            "description": "",
            "description_tooltip": null,
            "layout": "IPY_MODEL_79dc97c4e23f43c9915d3724f2aa061c",
            "max": 10,
            "min": 0,
            "orientation": "horizontal",
            "style": "IPY_MODEL_17ffc688d1794ddbab2cace03c5fabec",
            "value": 10
          }
        },
        "3205620277074149ad2e341f95ce6e67": {
          "model_module": "@jupyter-widgets/controls",
          "model_name": "HTMLModel",
          "model_module_version": "1.5.0",
          "state": {
            "_dom_classes": [],
            "_model_module": "@jupyter-widgets/controls",
            "_model_module_version": "1.5.0",
            "_model_name": "HTMLModel",
            "_view_count": null,
            "_view_module": "@jupyter-widgets/controls",
            "_view_module_version": "1.5.0",
            "_view_name": "HTMLView",
            "description": "",
            "description_tooltip": null,
            "layout": "IPY_MODEL_5295c14374bd453d8eb413d24b6808c9",
            "placeholder": "​",
            "style": "IPY_MODEL_97addce592b644f88a781fdcb380c586",
            "value": " 10/10 [00:00&lt;00:00, 18.05it/s]"
          }
        },
        "aa520622570c4268a7a5444929b29604": {
          "model_module": "@jupyter-widgets/base",
          "model_name": "LayoutModel",
          "model_module_version": "1.2.0",
          "state": {
            "_model_module": "@jupyter-widgets/base",
            "_model_module_version": "1.2.0",
            "_model_name": "LayoutModel",
            "_view_count": null,
            "_view_module": "@jupyter-widgets/base",
            "_view_module_version": "1.2.0",
            "_view_name": "LayoutView",
            "align_content": null,
            "align_items": null,
            "align_self": null,
            "border": null,
            "bottom": null,
            "display": null,
            "flex": null,
            "flex_flow": null,
            "grid_area": null,
            "grid_auto_columns": null,
            "grid_auto_flow": null,
            "grid_auto_rows": null,
            "grid_column": null,
            "grid_gap": null,
            "grid_row": null,
            "grid_template_areas": null,
            "grid_template_columns": null,
            "grid_template_rows": null,
            "height": null,
            "justify_content": null,
            "justify_items": null,
            "left": null,
            "margin": null,
            "max_height": null,
            "max_width": null,
            "min_height": null,
            "min_width": null,
            "object_fit": null,
            "object_position": null,
            "order": null,
            "overflow": null,
            "overflow_x": null,
            "overflow_y": null,
            "padding": null,
            "right": null,
            "top": null,
            "visibility": null,
            "width": null
          }
        },
        "6888d43543714eba8fd0aa1b2bf1ac31": {
          "model_module": "@jupyter-widgets/base",
          "model_name": "LayoutModel",
          "model_module_version": "1.2.0",
          "state": {
            "_model_module": "@jupyter-widgets/base",
            "_model_module_version": "1.2.0",
            "_model_name": "LayoutModel",
            "_view_count": null,
            "_view_module": "@jupyter-widgets/base",
            "_view_module_version": "1.2.0",
            "_view_name": "LayoutView",
            "align_content": null,
            "align_items": null,
            "align_self": null,
            "border": null,
            "bottom": null,
            "display": null,
            "flex": null,
            "flex_flow": null,
            "grid_area": null,
            "grid_auto_columns": null,
            "grid_auto_flow": null,
            "grid_auto_rows": null,
            "grid_column": null,
            "grid_gap": null,
            "grid_row": null,
            "grid_template_areas": null,
            "grid_template_columns": null,
            "grid_template_rows": null,
            "height": null,
            "justify_content": null,
            "justify_items": null,
            "left": null,
            "margin": null,
            "max_height": null,
            "max_width": null,
            "min_height": null,
            "min_width": null,
            "object_fit": null,
            "object_position": null,
            "order": null,
            "overflow": null,
            "overflow_x": null,
            "overflow_y": null,
            "padding": null,
            "right": null,
            "top": null,
            "visibility": null,
            "width": null
          }
        },
        "8b8d151552a1416fbb98e521c6972268": {
          "model_module": "@jupyter-widgets/controls",
          "model_name": "DescriptionStyleModel",
          "model_module_version": "1.5.0",
          "state": {
            "_model_module": "@jupyter-widgets/controls",
            "_model_module_version": "1.5.0",
            "_model_name": "DescriptionStyleModel",
            "_view_count": null,
            "_view_module": "@jupyter-widgets/base",
            "_view_module_version": "1.2.0",
            "_view_name": "StyleView",
            "description_width": ""
          }
        },
        "79dc97c4e23f43c9915d3724f2aa061c": {
          "model_module": "@jupyter-widgets/base",
          "model_name": "LayoutModel",
          "model_module_version": "1.2.0",
          "state": {
            "_model_module": "@jupyter-widgets/base",
            "_model_module_version": "1.2.0",
            "_model_name": "LayoutModel",
            "_view_count": null,
            "_view_module": "@jupyter-widgets/base",
            "_view_module_version": "1.2.0",
            "_view_name": "LayoutView",
            "align_content": null,
            "align_items": null,
            "align_self": null,
            "border": null,
            "bottom": null,
            "display": null,
            "flex": null,
            "flex_flow": null,
            "grid_area": null,
            "grid_auto_columns": null,
            "grid_auto_flow": null,
            "grid_auto_rows": null,
            "grid_column": null,
            "grid_gap": null,
            "grid_row": null,
            "grid_template_areas": null,
            "grid_template_columns": null,
            "grid_template_rows": null,
            "height": null,
            "justify_content": null,
            "justify_items": null,
            "left": null,
            "margin": null,
            "max_height": null,
            "max_width": null,
            "min_height": null,
            "min_width": null,
            "object_fit": null,
            "object_position": null,
            "order": null,
            "overflow": null,
            "overflow_x": null,
            "overflow_y": null,
            "padding": null,
            "right": null,
            "top": null,
            "visibility": null,
            "width": null
          }
        },
        "17ffc688d1794ddbab2cace03c5fabec": {
          "model_module": "@jupyter-widgets/controls",
          "model_name": "ProgressStyleModel",
          "model_module_version": "1.5.0",
          "state": {
            "_model_module": "@jupyter-widgets/controls",
            "_model_module_version": "1.5.0",
            "_model_name": "ProgressStyleModel",
            "_view_count": null,
            "_view_module": "@jupyter-widgets/base",
            "_view_module_version": "1.2.0",
            "_view_name": "StyleView",
            "bar_color": null,
            "description_width": ""
          }
        },
        "5295c14374bd453d8eb413d24b6808c9": {
          "model_module": "@jupyter-widgets/base",
          "model_name": "LayoutModel",
          "model_module_version": "1.2.0",
          "state": {
            "_model_module": "@jupyter-widgets/base",
            "_model_module_version": "1.2.0",
            "_model_name": "LayoutModel",
            "_view_count": null,
            "_view_module": "@jupyter-widgets/base",
            "_view_module_version": "1.2.0",
            "_view_name": "LayoutView",
            "align_content": null,
            "align_items": null,
            "align_self": null,
            "border": null,
            "bottom": null,
            "display": null,
            "flex": null,
            "flex_flow": null,
            "grid_area": null,
            "grid_auto_columns": null,
            "grid_auto_flow": null,
            "grid_auto_rows": null,
            "grid_column": null,
            "grid_gap": null,
            "grid_row": null,
            "grid_template_areas": null,
            "grid_template_columns": null,
            "grid_template_rows": null,
            "height": null,
            "justify_content": null,
            "justify_items": null,
            "left": null,
            "margin": null,
            "max_height": null,
            "max_width": null,
            "min_height": null,
            "min_width": null,
            "object_fit": null,
            "object_position": null,
            "order": null,
            "overflow": null,
            "overflow_x": null,
            "overflow_y": null,
            "padding": null,
            "right": null,
            "top": null,
            "visibility": null,
            "width": null
          }
        },
        "97addce592b644f88a781fdcb380c586": {
          "model_module": "@jupyter-widgets/controls",
          "model_name": "DescriptionStyleModel",
          "model_module_version": "1.5.0",
          "state": {
            "_model_module": "@jupyter-widgets/controls",
            "_model_module_version": "1.5.0",
            "_model_name": "DescriptionStyleModel",
            "_view_count": null,
            "_view_module": "@jupyter-widgets/base",
            "_view_module_version": "1.2.0",
            "_view_name": "StyleView",
            "description_width": ""
          }
        }
      }
    }
  },
  "cells": [
    {
      "cell_type": "code",
      "source": [
        "from google.colab import drive\n",
        "drive.mount('/content/drive')\n",
        "import pandas as pd\n",
        "import numpy as np\n",
        "file_path = '/content/drive/MyDrive/chicago-police/' # change this\n",
        "\n",
        "# Load the datasets\n",
        "complaints_allegation = pd.read_csv(file_path + 'complaints-allegation.csv')\n",
        "officers = pd.read_csv(file_path + 'final-profiles.csv')\n",
        "salary = pd.read_csv(file_path + 'salary_2002-2017_2017-09.csv')\n",
        "salary_ranks = pd.read_csv(file_path + 'salary-ranks_2002-2017_2017-09.csv')\n",
        "complaints = pd.read_csv(file_path + 'complaints-complaints.csv')\n",
        "complaints_allegation = pd.merge(complaints_allegation, complaints, on = 'cr_id', how='left')\n",
        "merged_data_1 = pd.merge(salary_ranks, complaints_allegation, left_on='link_UID', right_on='link_UID', how='left')\n",
        "merged_data = pd.merge(merged_data_1, officers, left_on='link_UID', right_on='link_UID', how='left')\n",
        "# selected_columns = merged_data[['link_UID', 'race','gender','birth_year','salary', 'appointed_date', 'cleaned_rank_x','allegation_category','final_finding','penalty_code','number_of_days']]\n",
        "# selected_columns.sample(n=10)\n",
        "# sustained_df = merged_data[merged_data['final_finding'] == 'SUSTAINED']##\n",
        "outcome_counts = merged_data['allegation_category'].value_counts(dropna=False)\n",
        "# outcome_counts.head(10)\n",
        "category_mapping = {\n",
        "    'MISCELLANEOUS': 'Non-Violent',\n",
        "    'DOMESTIC ALTERCATION - PHYSICAL ABUSE': 'Violent',\n",
        "    'NEGLECT OF DUTY': 'Non-Violent',\n",
        "    'EXCESSIVE FORCE - USE OF FIREARM / OFF DUTY - INJURY': 'Violent',\n",
        "    'UNNECESSARY DISPLAY OF WEAPON / ON DUTY': 'Non-Violent',\n",
        "    'USE OF PROFANITY': 'Non-Violent',\n",
        "    'EXCESSIVE FORCE / OFF DUTY - NO INJURY': 'Violent',\n",
        "    'EXCESSIVE FORCE / On DUTY - INJURY': 'Violent',\n",
        "    'CONDUCT UNBECOMING': 'Non-Violent',\n",
        "    'NO INJURY': \"Non-Violent\",\n",
        "    'PUSH/PULL/GRAB': \"Violent\",\n",
        "    'INJURY': \"Violent\",\n",
        "    'FALSE': \"Non-Violent\",\n",
        "    'FAIL TO SUBMIT': \"Non-Violent\",\n",
        "    'INADEQUATE / FAILURE TO PROVIDE SERVICE': \"Non-Violent\",\n",
        "    'HARASSMENT': \"Non-Violent\",\n",
        "    'EXCESSIVE FORCE - USE OF FIREARM / OFF DUTY - NO INJURY': \"Violent\",\n",
        "    'VERBAL ABUSE': \"Non-Violent\",\n",
        "    'FAIL TO OBTAIN A COMPLAINT REGISTER NUMBER': \"Non-Violent\",\n",
        "    'LEAVING ASSIGNMENT (DISTRICT, BEAT, SECTOR, COURT)': \"Non-Violent\",\n",
        "    'INTOXICATED OFF DUTY': \"Non-Violent\",\n",
        "    'CLOSED HAND STRIKE (PUNCH)': \"Violent\",\n",
        "}\n",
        "# sustained_df['violence_classification'] = sustained_df['allegation_category'].map(category_mapping).fillna('Non-Violent')\n",
        "merged_data.loc[:, 'violence_classification'] = merged_data['allegation_category'].map(category_mapping).fillna('Non-Violent')\n"
      ],
      "metadata": {
        "colab": {
          "base_uri": "https://localhost:8080/"
        },
        "id": "AzKAznOnZD1m",
        "outputId": "76773638-7261-4911-d7b8-748a8c5cb54a"
      },
      "execution_count": 1,
      "outputs": [
        {
          "output_type": "stream",
          "name": "stdout",
          "text": [
            "Mounted at /content/drive\n"
          ]
        },
        {
          "output_type": "stream",
          "name": "stderr",
          "text": [
            "<ipython-input-1-160daa6b98bf>:8: DtypeWarning: Columns (16,18,22) have mixed types. Specify dtype option on import or set low_memory=False.\n",
            "  complaints_allegation = pd.read_csv(file_path + 'complaints-allegation.csv')\n",
            "<ipython-input-1-160daa6b98bf>:9: DtypeWarning: Columns (4,15) have mixed types. Specify dtype option on import or set low_memory=False.\n",
            "  officers = pd.read_csv(file_path + 'final-profiles.csv')\n",
            "<ipython-input-1-160daa6b98bf>:12: DtypeWarning: Columns (0,5,6,7,8,9,10) have mixed types. Specify dtype option on import or set low_memory=False.\n",
            "  complaints = pd.read_csv(file_path + 'complaints-complaints.csv')\n"
          ]
        }
      ]
    },
    {
      "cell_type": "code",
      "source": [
        "selected_columns = merged_data[['complaint_date','link_UID', 'race','gender','birth_year','salary', 'appointed_date', 'violence_classification', 'cleaned_rank_x','allegation_category','final_finding','penalty_code','number_of_days']]\n",
        "selected_columns.sample(n=10)"
      ],
      "metadata": {
        "colab": {
          "base_uri": "https://localhost:8080/",
          "height": 522
        },
        "id": "ptBZKIOtGE7_",
        "outputId": "97c83828-2224-42fe-ec67-ba736b60ab6b"
      },
      "execution_count": 2,
      "outputs": [
        {
          "output_type": "execute_result",
          "data": {
            "text/plain": [
              "       complaint_date  link_UID      race  gender  birth_year    salary  \\\n",
              "657472     2010-10-13    5710.0  HISPANIC    MALE      1977.0   83616.0   \n",
              "922122     2008-02-23   10338.0  HISPANIC    MALE      1956.0   83706.0   \n",
              "76331             NaN    4637.0     WHITE    MALE      1970.0   84876.0   \n",
              "292035            NaN    6184.0     BLACK    MALE      1960.0   80724.0   \n",
              "544213     2008-03-09    2453.0     BLACK    MALE      1973.0   89130.0   \n",
              "655084            NaN   23457.0  HISPANIC    MALE      1964.0   70656.0   \n",
              "456914            NaN   27224.0     BLACK  FEMALE      1961.0   78360.0   \n",
              "818497            NaN   18297.0     WHITE    MALE      1968.0   70656.0   \n",
              "620776     2006-10-06   23951.0     WHITE    MALE      1979.0   99444.0   \n",
              "483635     2011-09-04   12628.0     BLACK    MALE      1963.0  102978.0   \n",
              "\n",
              "       appointed_date violence_classification  cleaned_rank_x  \\\n",
              "657472     2001-07-30             Non-Violent  POLICE OFFICER   \n",
              "922122     1990-03-26             Non-Violent  POLICE OFFICER   \n",
              "76331      1997-07-07             Non-Violent  POLICE OFFICER   \n",
              "292035     1994-05-31             Non-Violent  POLICE OFFICER   \n",
              "544213     1998-04-13             Non-Violent  POLICE OFFICER   \n",
              "655084     1995-07-10             Non-Violent  POLICE OFFICER   \n",
              "456914     1991-03-27             Non-Violent  POLICE OFFICER   \n",
              "818497     1995-06-05             Non-Violent  POLICE OFFICER   \n",
              "620776     2002-03-25                 Violent        SERGEANT   \n",
              "483635     1986-10-13             Non-Violent        SERGEANT   \n",
              "\n",
              "                            allegation_category  final_finding penalty_code  \\\n",
              "657472                            MISCELLANEOUS  NOT SUSTAINED          NaN   \n",
              "922122                       HANDCUFF TOO TIGHT  NOT SUSTAINED          NaN   \n",
              "76331                                       NaN            NaN          NaN   \n",
              "292035                                      NaN            NaN          NaN   \n",
              "544213        ALTERCATION / DISTURBANCE - OTHER      SUSTAINED   SUSPENSION   \n",
              "655084       EXCESSIVE FORCE / ON DUTY - INJURY      UNFOUNDED          NaN   \n",
              "456914                                      NaN            NaN          NaN   \n",
              "818497                                      NaN            NaN          NaN   \n",
              "620776               CLOSED HAND STRIKE (PUNCH)  NOT SUSTAINED          NaN   \n",
              "483635  UNNECESSARY DISPLAY OF WEAPON / ON DUTY  NOT SUSTAINED          NaN   \n",
              "\n",
              "        number_of_days  \n",
              "657472             NaN  \n",
              "922122             NaN  \n",
              "76331              NaN  \n",
              "292035             NaN  \n",
              "544213            30.0  \n",
              "655084             NaN  \n",
              "456914             NaN  \n",
              "818497             NaN  \n",
              "620776             NaN  \n",
              "483635             NaN  "
            ],
            "text/html": [
              "\n",
              "  <div id=\"df-205af50e-5f1e-4f3c-8ec4-a23c75b73365\" class=\"colab-df-container\">\n",
              "    <div>\n",
              "<style scoped>\n",
              "    .dataframe tbody tr th:only-of-type {\n",
              "        vertical-align: middle;\n",
              "    }\n",
              "\n",
              "    .dataframe tbody tr th {\n",
              "        vertical-align: top;\n",
              "    }\n",
              "\n",
              "    .dataframe thead th {\n",
              "        text-align: right;\n",
              "    }\n",
              "</style>\n",
              "<table border=\"1\" class=\"dataframe\">\n",
              "  <thead>\n",
              "    <tr style=\"text-align: right;\">\n",
              "      <th></th>\n",
              "      <th>complaint_date</th>\n",
              "      <th>link_UID</th>\n",
              "      <th>race</th>\n",
              "      <th>gender</th>\n",
              "      <th>birth_year</th>\n",
              "      <th>salary</th>\n",
              "      <th>appointed_date</th>\n",
              "      <th>violence_classification</th>\n",
              "      <th>cleaned_rank_x</th>\n",
              "      <th>allegation_category</th>\n",
              "      <th>final_finding</th>\n",
              "      <th>penalty_code</th>\n",
              "      <th>number_of_days</th>\n",
              "    </tr>\n",
              "  </thead>\n",
              "  <tbody>\n",
              "    <tr>\n",
              "      <th>657472</th>\n",
              "      <td>2010-10-13</td>\n",
              "      <td>5710.0</td>\n",
              "      <td>HISPANIC</td>\n",
              "      <td>MALE</td>\n",
              "      <td>1977.0</td>\n",
              "      <td>83616.0</td>\n",
              "      <td>2001-07-30</td>\n",
              "      <td>Non-Violent</td>\n",
              "      <td>POLICE OFFICER</td>\n",
              "      <td>MISCELLANEOUS</td>\n",
              "      <td>NOT SUSTAINED</td>\n",
              "      <td>NaN</td>\n",
              "      <td>NaN</td>\n",
              "    </tr>\n",
              "    <tr>\n",
              "      <th>922122</th>\n",
              "      <td>2008-02-23</td>\n",
              "      <td>10338.0</td>\n",
              "      <td>HISPANIC</td>\n",
              "      <td>MALE</td>\n",
              "      <td>1956.0</td>\n",
              "      <td>83706.0</td>\n",
              "      <td>1990-03-26</td>\n",
              "      <td>Non-Violent</td>\n",
              "      <td>POLICE OFFICER</td>\n",
              "      <td>HANDCUFF TOO TIGHT</td>\n",
              "      <td>NOT SUSTAINED</td>\n",
              "      <td>NaN</td>\n",
              "      <td>NaN</td>\n",
              "    </tr>\n",
              "    <tr>\n",
              "      <th>76331</th>\n",
              "      <td>NaN</td>\n",
              "      <td>4637.0</td>\n",
              "      <td>WHITE</td>\n",
              "      <td>MALE</td>\n",
              "      <td>1970.0</td>\n",
              "      <td>84876.0</td>\n",
              "      <td>1997-07-07</td>\n",
              "      <td>Non-Violent</td>\n",
              "      <td>POLICE OFFICER</td>\n",
              "      <td>NaN</td>\n",
              "      <td>NaN</td>\n",
              "      <td>NaN</td>\n",
              "      <td>NaN</td>\n",
              "    </tr>\n",
              "    <tr>\n",
              "      <th>292035</th>\n",
              "      <td>NaN</td>\n",
              "      <td>6184.0</td>\n",
              "      <td>BLACK</td>\n",
              "      <td>MALE</td>\n",
              "      <td>1960.0</td>\n",
              "      <td>80724.0</td>\n",
              "      <td>1994-05-31</td>\n",
              "      <td>Non-Violent</td>\n",
              "      <td>POLICE OFFICER</td>\n",
              "      <td>NaN</td>\n",
              "      <td>NaN</td>\n",
              "      <td>NaN</td>\n",
              "      <td>NaN</td>\n",
              "    </tr>\n",
              "    <tr>\n",
              "      <th>544213</th>\n",
              "      <td>2008-03-09</td>\n",
              "      <td>2453.0</td>\n",
              "      <td>BLACK</td>\n",
              "      <td>MALE</td>\n",
              "      <td>1973.0</td>\n",
              "      <td>89130.0</td>\n",
              "      <td>1998-04-13</td>\n",
              "      <td>Non-Violent</td>\n",
              "      <td>POLICE OFFICER</td>\n",
              "      <td>ALTERCATION / DISTURBANCE - OTHER</td>\n",
              "      <td>SUSTAINED</td>\n",
              "      <td>SUSPENSION</td>\n",
              "      <td>30.0</td>\n",
              "    </tr>\n",
              "    <tr>\n",
              "      <th>655084</th>\n",
              "      <td>NaN</td>\n",
              "      <td>23457.0</td>\n",
              "      <td>HISPANIC</td>\n",
              "      <td>MALE</td>\n",
              "      <td>1964.0</td>\n",
              "      <td>70656.0</td>\n",
              "      <td>1995-07-10</td>\n",
              "      <td>Non-Violent</td>\n",
              "      <td>POLICE OFFICER</td>\n",
              "      <td>EXCESSIVE FORCE / ON DUTY - INJURY</td>\n",
              "      <td>UNFOUNDED</td>\n",
              "      <td>NaN</td>\n",
              "      <td>NaN</td>\n",
              "    </tr>\n",
              "    <tr>\n",
              "      <th>456914</th>\n",
              "      <td>NaN</td>\n",
              "      <td>27224.0</td>\n",
              "      <td>BLACK</td>\n",
              "      <td>FEMALE</td>\n",
              "      <td>1961.0</td>\n",
              "      <td>78360.0</td>\n",
              "      <td>1991-03-27</td>\n",
              "      <td>Non-Violent</td>\n",
              "      <td>POLICE OFFICER</td>\n",
              "      <td>NaN</td>\n",
              "      <td>NaN</td>\n",
              "      <td>NaN</td>\n",
              "      <td>NaN</td>\n",
              "    </tr>\n",
              "    <tr>\n",
              "      <th>818497</th>\n",
              "      <td>NaN</td>\n",
              "      <td>18297.0</td>\n",
              "      <td>WHITE</td>\n",
              "      <td>MALE</td>\n",
              "      <td>1968.0</td>\n",
              "      <td>70656.0</td>\n",
              "      <td>1995-06-05</td>\n",
              "      <td>Non-Violent</td>\n",
              "      <td>POLICE OFFICER</td>\n",
              "      <td>NaN</td>\n",
              "      <td>NaN</td>\n",
              "      <td>NaN</td>\n",
              "      <td>NaN</td>\n",
              "    </tr>\n",
              "    <tr>\n",
              "      <th>620776</th>\n",
              "      <td>2006-10-06</td>\n",
              "      <td>23951.0</td>\n",
              "      <td>WHITE</td>\n",
              "      <td>MALE</td>\n",
              "      <td>1979.0</td>\n",
              "      <td>99444.0</td>\n",
              "      <td>2002-03-25</td>\n",
              "      <td>Violent</td>\n",
              "      <td>SERGEANT</td>\n",
              "      <td>CLOSED HAND STRIKE (PUNCH)</td>\n",
              "      <td>NOT SUSTAINED</td>\n",
              "      <td>NaN</td>\n",
              "      <td>NaN</td>\n",
              "    </tr>\n",
              "    <tr>\n",
              "      <th>483635</th>\n",
              "      <td>2011-09-04</td>\n",
              "      <td>12628.0</td>\n",
              "      <td>BLACK</td>\n",
              "      <td>MALE</td>\n",
              "      <td>1963.0</td>\n",
              "      <td>102978.0</td>\n",
              "      <td>1986-10-13</td>\n",
              "      <td>Non-Violent</td>\n",
              "      <td>SERGEANT</td>\n",
              "      <td>UNNECESSARY DISPLAY OF WEAPON / ON DUTY</td>\n",
              "      <td>NOT SUSTAINED</td>\n",
              "      <td>NaN</td>\n",
              "      <td>NaN</td>\n",
              "    </tr>\n",
              "  </tbody>\n",
              "</table>\n",
              "</div>\n",
              "    <div class=\"colab-df-buttons\">\n",
              "\n",
              "  <div class=\"colab-df-container\">\n",
              "    <button class=\"colab-df-convert\" onclick=\"convertToInteractive('df-205af50e-5f1e-4f3c-8ec4-a23c75b73365')\"\n",
              "            title=\"Convert this dataframe to an interactive table.\"\n",
              "            style=\"display:none;\">\n",
              "\n",
              "  <svg xmlns=\"http://www.w3.org/2000/svg\" height=\"24px\" viewBox=\"0 -960 960 960\">\n",
              "    <path d=\"M120-120v-720h720v720H120Zm60-500h600v-160H180v160Zm220 220h160v-160H400v160Zm0 220h160v-160H400v160ZM180-400h160v-160H180v160Zm440 0h160v-160H620v160ZM180-180h160v-160H180v160Zm440 0h160v-160H620v160Z\"/>\n",
              "  </svg>\n",
              "    </button>\n",
              "\n",
              "  <style>\n",
              "    .colab-df-container {\n",
              "      display:flex;\n",
              "      gap: 12px;\n",
              "    }\n",
              "\n",
              "    .colab-df-convert {\n",
              "      background-color: #E8F0FE;\n",
              "      border: none;\n",
              "      border-radius: 50%;\n",
              "      cursor: pointer;\n",
              "      display: none;\n",
              "      fill: #1967D2;\n",
              "      height: 32px;\n",
              "      padding: 0 0 0 0;\n",
              "      width: 32px;\n",
              "    }\n",
              "\n",
              "    .colab-df-convert:hover {\n",
              "      background-color: #E2EBFA;\n",
              "      box-shadow: 0px 1px 2px rgba(60, 64, 67, 0.3), 0px 1px 3px 1px rgba(60, 64, 67, 0.15);\n",
              "      fill: #174EA6;\n",
              "    }\n",
              "\n",
              "    .colab-df-buttons div {\n",
              "      margin-bottom: 4px;\n",
              "    }\n",
              "\n",
              "    [theme=dark] .colab-df-convert {\n",
              "      background-color: #3B4455;\n",
              "      fill: #D2E3FC;\n",
              "    }\n",
              "\n",
              "    [theme=dark] .colab-df-convert:hover {\n",
              "      background-color: #434B5C;\n",
              "      box-shadow: 0px 1px 3px 1px rgba(0, 0, 0, 0.15);\n",
              "      filter: drop-shadow(0px 1px 2px rgba(0, 0, 0, 0.3));\n",
              "      fill: #FFFFFF;\n",
              "    }\n",
              "  </style>\n",
              "\n",
              "    <script>\n",
              "      const buttonEl =\n",
              "        document.querySelector('#df-205af50e-5f1e-4f3c-8ec4-a23c75b73365 button.colab-df-convert');\n",
              "      buttonEl.style.display =\n",
              "        google.colab.kernel.accessAllowed ? 'block' : 'none';\n",
              "\n",
              "      async function convertToInteractive(key) {\n",
              "        const element = document.querySelector('#df-205af50e-5f1e-4f3c-8ec4-a23c75b73365');\n",
              "        const dataTable =\n",
              "          await google.colab.kernel.invokeFunction('convertToInteractive',\n",
              "                                                    [key], {});\n",
              "        if (!dataTable) return;\n",
              "\n",
              "        const docLinkHtml = 'Like what you see? Visit the ' +\n",
              "          '<a target=\"_blank\" href=https://colab.research.google.com/notebooks/data_table.ipynb>data table notebook</a>'\n",
              "          + ' to learn more about interactive tables.';\n",
              "        element.innerHTML = '';\n",
              "        dataTable['output_type'] = 'display_data';\n",
              "        await google.colab.output.renderOutput(dataTable, element);\n",
              "        const docLink = document.createElement('div');\n",
              "        docLink.innerHTML = docLinkHtml;\n",
              "        element.appendChild(docLink);\n",
              "      }\n",
              "    </script>\n",
              "  </div>\n",
              "\n",
              "\n",
              "<div id=\"df-dc652981-5ddf-4216-bef4-612ee417690b\">\n",
              "  <button class=\"colab-df-quickchart\" onclick=\"quickchart('df-dc652981-5ddf-4216-bef4-612ee417690b')\"\n",
              "            title=\"Suggest charts\"\n",
              "            style=\"display:none;\">\n",
              "\n",
              "<svg xmlns=\"http://www.w3.org/2000/svg\" height=\"24px\"viewBox=\"0 0 24 24\"\n",
              "     width=\"24px\">\n",
              "    <g>\n",
              "        <path d=\"M19 3H5c-1.1 0-2 .9-2 2v14c0 1.1.9 2 2 2h14c1.1 0 2-.9 2-2V5c0-1.1-.9-2-2-2zM9 17H7v-7h2v7zm4 0h-2V7h2v10zm4 0h-2v-4h2v4z\"/>\n",
              "    </g>\n",
              "</svg>\n",
              "  </button>\n",
              "\n",
              "<style>\n",
              "  .colab-df-quickchart {\n",
              "      --bg-color: #E8F0FE;\n",
              "      --fill-color: #1967D2;\n",
              "      --hover-bg-color: #E2EBFA;\n",
              "      --hover-fill-color: #174EA6;\n",
              "      --disabled-fill-color: #AAA;\n",
              "      --disabled-bg-color: #DDD;\n",
              "  }\n",
              "\n",
              "  [theme=dark] .colab-df-quickchart {\n",
              "      --bg-color: #3B4455;\n",
              "      --fill-color: #D2E3FC;\n",
              "      --hover-bg-color: #434B5C;\n",
              "      --hover-fill-color: #FFFFFF;\n",
              "      --disabled-bg-color: #3B4455;\n",
              "      --disabled-fill-color: #666;\n",
              "  }\n",
              "\n",
              "  .colab-df-quickchart {\n",
              "    background-color: var(--bg-color);\n",
              "    border: none;\n",
              "    border-radius: 50%;\n",
              "    cursor: pointer;\n",
              "    display: none;\n",
              "    fill: var(--fill-color);\n",
              "    height: 32px;\n",
              "    padding: 0;\n",
              "    width: 32px;\n",
              "  }\n",
              "\n",
              "  .colab-df-quickchart:hover {\n",
              "    background-color: var(--hover-bg-color);\n",
              "    box-shadow: 0 1px 2px rgba(60, 64, 67, 0.3), 0 1px 3px 1px rgba(60, 64, 67, 0.15);\n",
              "    fill: var(--button-hover-fill-color);\n",
              "  }\n",
              "\n",
              "  .colab-df-quickchart-complete:disabled,\n",
              "  .colab-df-quickchart-complete:disabled:hover {\n",
              "    background-color: var(--disabled-bg-color);\n",
              "    fill: var(--disabled-fill-color);\n",
              "    box-shadow: none;\n",
              "  }\n",
              "\n",
              "  .colab-df-spinner {\n",
              "    border: 2px solid var(--fill-color);\n",
              "    border-color: transparent;\n",
              "    border-bottom-color: var(--fill-color);\n",
              "    animation:\n",
              "      spin 1s steps(1) infinite;\n",
              "  }\n",
              "\n",
              "  @keyframes spin {\n",
              "    0% {\n",
              "      border-color: transparent;\n",
              "      border-bottom-color: var(--fill-color);\n",
              "      border-left-color: var(--fill-color);\n",
              "    }\n",
              "    20% {\n",
              "      border-color: transparent;\n",
              "      border-left-color: var(--fill-color);\n",
              "      border-top-color: var(--fill-color);\n",
              "    }\n",
              "    30% {\n",
              "      border-color: transparent;\n",
              "      border-left-color: var(--fill-color);\n",
              "      border-top-color: var(--fill-color);\n",
              "      border-right-color: var(--fill-color);\n",
              "    }\n",
              "    40% {\n",
              "      border-color: transparent;\n",
              "      border-right-color: var(--fill-color);\n",
              "      border-top-color: var(--fill-color);\n",
              "    }\n",
              "    60% {\n",
              "      border-color: transparent;\n",
              "      border-right-color: var(--fill-color);\n",
              "    }\n",
              "    80% {\n",
              "      border-color: transparent;\n",
              "      border-right-color: var(--fill-color);\n",
              "      border-bottom-color: var(--fill-color);\n",
              "    }\n",
              "    90% {\n",
              "      border-color: transparent;\n",
              "      border-bottom-color: var(--fill-color);\n",
              "    }\n",
              "  }\n",
              "</style>\n",
              "\n",
              "  <script>\n",
              "    async function quickchart(key) {\n",
              "      const quickchartButtonEl =\n",
              "        document.querySelector('#' + key + ' button');\n",
              "      quickchartButtonEl.disabled = true;  // To prevent multiple clicks.\n",
              "      quickchartButtonEl.classList.add('colab-df-spinner');\n",
              "      try {\n",
              "        const charts = await google.colab.kernel.invokeFunction(\n",
              "            'suggestCharts', [key], {});\n",
              "      } catch (error) {\n",
              "        console.error('Error during call to suggestCharts:', error);\n",
              "      }\n",
              "      quickchartButtonEl.classList.remove('colab-df-spinner');\n",
              "      quickchartButtonEl.classList.add('colab-df-quickchart-complete');\n",
              "    }\n",
              "    (() => {\n",
              "      let quickchartButtonEl =\n",
              "        document.querySelector('#df-dc652981-5ddf-4216-bef4-612ee417690b button');\n",
              "      quickchartButtonEl.style.display =\n",
              "        google.colab.kernel.accessAllowed ? 'block' : 'none';\n",
              "    })();\n",
              "  </script>\n",
              "</div>\n",
              "\n",
              "    </div>\n",
              "  </div>\n"
            ],
            "application/vnd.google.colaboratory.intrinsic+json": {
              "type": "dataframe",
              "repr_error": "0"
            }
          },
          "metadata": {},
          "execution_count": 2
        }
      ]
    },
    {
      "cell_type": "code",
      "source": [
        "selected_columns['age_to_complaint'] = pd.to_datetime(selected_columns['complaint_date']).dt.year - pd.to_datetime(selected_columns['birth_year']).dt.year"
      ],
      "metadata": {
        "colab": {
          "base_uri": "https://localhost:8080/"
        },
        "id": "Q2xUmUo6VEXf",
        "outputId": "22140c6c-72c7-4577-8ce7-732bcaeb564d"
      },
      "execution_count": 3,
      "outputs": [
        {
          "output_type": "stream",
          "name": "stderr",
          "text": [
            "<ipython-input-3-720e3bae3f70>:1: SettingWithCopyWarning: \n",
            "A value is trying to be set on a copy of a slice from a DataFrame.\n",
            "Try using .loc[row_indexer,col_indexer] = value instead\n",
            "\n",
            "See the caveats in the documentation: https://pandas.pydata.org/pandas-docs/stable/user_guide/indexing.html#returning-a-view-versus-a-copy\n",
            "  selected_columns['age_to_complaint'] = pd.to_datetime(selected_columns['complaint_date']).dt.year - pd.to_datetime(selected_columns['birth_year']).dt.year\n"
          ]
        }
      ]
    },
    {
      "cell_type": "code",
      "source": [
        "selected_columns['years_in_rank_to_complaint'] = pd.to_datetime(selected_columns['complaint_date']).dt.year - pd.to_datetime(selected_columns['appointed_date']).dt.year"
      ],
      "metadata": {
        "colab": {
          "base_uri": "https://localhost:8080/"
        },
        "id": "EAwfy5Y7Vn71",
        "outputId": "54c02762-ffe4-4848-c785-3d836c2923dc"
      },
      "execution_count": 4,
      "outputs": [
        {
          "output_type": "stream",
          "name": "stderr",
          "text": [
            "<ipython-input-4-02844910812f>:1: SettingWithCopyWarning: \n",
            "A value is trying to be set on a copy of a slice from a DataFrame.\n",
            "Try using .loc[row_indexer,col_indexer] = value instead\n",
            "\n",
            "See the caveats in the documentation: https://pandas.pydata.org/pandas-docs/stable/user_guide/indexing.html#returning-a-view-versus-a-copy\n",
            "  selected_columns['years_in_rank_to_complaint'] = pd.to_datetime(selected_columns['complaint_date']).dt.year - pd.to_datetime(selected_columns['appointed_date']).dt.year\n"
          ]
        }
      ]
    },
    {
      "cell_type": "markdown",
      "source": [
        "### 1. Backdoor\n",
        "- We only consider the ones that are labeled as **'SUSTAINED'** or **'NOT SUSTAINED'**, because it's difficult to determine the severity of the rest."
      ],
      "metadata": {
        "id": "meUqBbkY6Nhw"
      }
    },
    {
      "cell_type": "code",
      "source": [
        "both_rows = selected_columns[selected_columns['final_finding'].isin(['SUSTAINED', 'NOT SUSTAINED'])]\n",
        "both_rows"
      ],
      "metadata": {
        "colab": {
          "base_uri": "https://localhost:8080/",
          "height": 687
        },
        "id": "V-la3aNiY2JC",
        "outputId": "eca229e0-84c5-432a-a94f-19edd969ec8c"
      },
      "execution_count": 5,
      "outputs": [
        {
          "output_type": "execute_result",
          "data": {
            "text/plain": [
              "        complaint_date  link_UID      race gender  birth_year    salary  \\\n",
              "1           2011-03-18    3978.0  HISPANIC   MALE      1980.0  101442.0   \n",
              "2           2011-03-18    3978.0  HISPANIC   MALE      1980.0  101442.0   \n",
              "3           2011-03-18    3978.0  HISPANIC   MALE      1980.0  101442.0   \n",
              "4           2011-03-18    3978.0  HISPANIC   MALE      1980.0  101442.0   \n",
              "5           2007-05-07    3978.0  HISPANIC   MALE      1980.0  101442.0   \n",
              "...                ...       ...       ...    ...         ...       ...   \n",
              "1208819            NaN   32461.0     WHITE   MALE      1945.0   83214.0   \n",
              "1208820            NaN   32461.0     WHITE   MALE      1945.0   40632.0   \n",
              "1208969            NaN   32464.0     WHITE   MALE      1943.0   73476.0   \n",
              "1208970            NaN   32464.0     WHITE   MALE      1943.0  111036.0   \n",
              "1208971            NaN   32464.0     WHITE   MALE      1943.0  145452.0   \n",
              "\n",
              "        appointed_date violence_classification          cleaned_rank_x  \\\n",
              "1           2004-11-29             Non-Violent                SERGEANT   \n",
              "2           2004-11-29             Non-Violent                SERGEANT   \n",
              "3           2004-11-29             Non-Violent                SERGEANT   \n",
              "4           2004-11-29             Non-Violent                SERGEANT   \n",
              "5           2004-11-29             Non-Violent                SERGEANT   \n",
              "...                ...                     ...                     ...   \n",
              "1208819     2007-03-16             Non-Violent  FIELD TRAINING OFFICER   \n",
              "1208820     2007-03-16             Non-Violent  FIELD TRAINING OFFICER   \n",
              "1208969     2007-02-01             Non-Violent          POLICE OFFICER   \n",
              "1208970     2007-02-01             Non-Violent               COMMANDER   \n",
              "1208971     2007-02-01             Non-Violent            DEPUTY CHIEF   \n",
              "\n",
              "                              allegation_category  final_finding penalty_code  \\\n",
              "1                                USE OF PROFANITY  NOT SUSTAINED          NaN   \n",
              "2         UNNECESSARY DISPLAY OF WEAPON / ON DUTY  NOT SUSTAINED          NaN   \n",
              "3                    TAKE DOWN (THROWN TO GROUND)  NOT SUSTAINED          NaN   \n",
              "4        SEARCH OF PREMISE - PROPERTY / USC TAKEN  NOT SUSTAINED          NaN   \n",
              "5                              HANDCUFF TOO TIGHT  NOT SUSTAINED          NaN   \n",
              "...                                           ...            ...          ...   \n",
              "1208819  UNNECESSARY DISPLAY OF WEAPON / OFF DUTY  NOT SUSTAINED          NaN   \n",
              "1208820  UNNECESSARY DISPLAY OF WEAPON / OFF DUTY  NOT SUSTAINED          NaN   \n",
              "1208969        EXCESSIVE FORCE / ON DUTY - INJURY  NOT SUSTAINED          NaN   \n",
              "1208970        EXCESSIVE FORCE / ON DUTY - INJURY  NOT SUSTAINED          NaN   \n",
              "1208971        EXCESSIVE FORCE / ON DUTY - INJURY  NOT SUSTAINED          NaN   \n",
              "\n",
              "         number_of_days  age_to_complaint  years_in_rank_to_complaint  \n",
              "1                   NaN              41.0                         7.0  \n",
              "2                   NaN              41.0                         7.0  \n",
              "3                   NaN              41.0                         7.0  \n",
              "4                   NaN              41.0                         7.0  \n",
              "5                   NaN              37.0                         3.0  \n",
              "...                 ...               ...                         ...  \n",
              "1208819             NaN               NaN                         NaN  \n",
              "1208820             NaN               NaN                         NaN  \n",
              "1208969             NaN               NaN                         NaN  \n",
              "1208970             NaN               NaN                         NaN  \n",
              "1208971             NaN               NaN                         NaN  \n",
              "\n",
              "[771024 rows x 15 columns]"
            ],
            "text/html": [
              "\n",
              "  <div id=\"df-7b371a2f-898d-4b8c-b48e-13036818b569\" class=\"colab-df-container\">\n",
              "    <div>\n",
              "<style scoped>\n",
              "    .dataframe tbody tr th:only-of-type {\n",
              "        vertical-align: middle;\n",
              "    }\n",
              "\n",
              "    .dataframe tbody tr th {\n",
              "        vertical-align: top;\n",
              "    }\n",
              "\n",
              "    .dataframe thead th {\n",
              "        text-align: right;\n",
              "    }\n",
              "</style>\n",
              "<table border=\"1\" class=\"dataframe\">\n",
              "  <thead>\n",
              "    <tr style=\"text-align: right;\">\n",
              "      <th></th>\n",
              "      <th>complaint_date</th>\n",
              "      <th>link_UID</th>\n",
              "      <th>race</th>\n",
              "      <th>gender</th>\n",
              "      <th>birth_year</th>\n",
              "      <th>salary</th>\n",
              "      <th>appointed_date</th>\n",
              "      <th>violence_classification</th>\n",
              "      <th>cleaned_rank_x</th>\n",
              "      <th>allegation_category</th>\n",
              "      <th>final_finding</th>\n",
              "      <th>penalty_code</th>\n",
              "      <th>number_of_days</th>\n",
              "      <th>age_to_complaint</th>\n",
              "      <th>years_in_rank_to_complaint</th>\n",
              "    </tr>\n",
              "  </thead>\n",
              "  <tbody>\n",
              "    <tr>\n",
              "      <th>1</th>\n",
              "      <td>2011-03-18</td>\n",
              "      <td>3978.0</td>\n",
              "      <td>HISPANIC</td>\n",
              "      <td>MALE</td>\n",
              "      <td>1980.0</td>\n",
              "      <td>101442.0</td>\n",
              "      <td>2004-11-29</td>\n",
              "      <td>Non-Violent</td>\n",
              "      <td>SERGEANT</td>\n",
              "      <td>USE OF PROFANITY</td>\n",
              "      <td>NOT SUSTAINED</td>\n",
              "      <td>NaN</td>\n",
              "      <td>NaN</td>\n",
              "      <td>41.0</td>\n",
              "      <td>7.0</td>\n",
              "    </tr>\n",
              "    <tr>\n",
              "      <th>2</th>\n",
              "      <td>2011-03-18</td>\n",
              "      <td>3978.0</td>\n",
              "      <td>HISPANIC</td>\n",
              "      <td>MALE</td>\n",
              "      <td>1980.0</td>\n",
              "      <td>101442.0</td>\n",
              "      <td>2004-11-29</td>\n",
              "      <td>Non-Violent</td>\n",
              "      <td>SERGEANT</td>\n",
              "      <td>UNNECESSARY DISPLAY OF WEAPON / ON DUTY</td>\n",
              "      <td>NOT SUSTAINED</td>\n",
              "      <td>NaN</td>\n",
              "      <td>NaN</td>\n",
              "      <td>41.0</td>\n",
              "      <td>7.0</td>\n",
              "    </tr>\n",
              "    <tr>\n",
              "      <th>3</th>\n",
              "      <td>2011-03-18</td>\n",
              "      <td>3978.0</td>\n",
              "      <td>HISPANIC</td>\n",
              "      <td>MALE</td>\n",
              "      <td>1980.0</td>\n",
              "      <td>101442.0</td>\n",
              "      <td>2004-11-29</td>\n",
              "      <td>Non-Violent</td>\n",
              "      <td>SERGEANT</td>\n",
              "      <td>TAKE DOWN (THROWN TO GROUND)</td>\n",
              "      <td>NOT SUSTAINED</td>\n",
              "      <td>NaN</td>\n",
              "      <td>NaN</td>\n",
              "      <td>41.0</td>\n",
              "      <td>7.0</td>\n",
              "    </tr>\n",
              "    <tr>\n",
              "      <th>4</th>\n",
              "      <td>2011-03-18</td>\n",
              "      <td>3978.0</td>\n",
              "      <td>HISPANIC</td>\n",
              "      <td>MALE</td>\n",
              "      <td>1980.0</td>\n",
              "      <td>101442.0</td>\n",
              "      <td>2004-11-29</td>\n",
              "      <td>Non-Violent</td>\n",
              "      <td>SERGEANT</td>\n",
              "      <td>SEARCH OF PREMISE - PROPERTY / USC TAKEN</td>\n",
              "      <td>NOT SUSTAINED</td>\n",
              "      <td>NaN</td>\n",
              "      <td>NaN</td>\n",
              "      <td>41.0</td>\n",
              "      <td>7.0</td>\n",
              "    </tr>\n",
              "    <tr>\n",
              "      <th>5</th>\n",
              "      <td>2007-05-07</td>\n",
              "      <td>3978.0</td>\n",
              "      <td>HISPANIC</td>\n",
              "      <td>MALE</td>\n",
              "      <td>1980.0</td>\n",
              "      <td>101442.0</td>\n",
              "      <td>2004-11-29</td>\n",
              "      <td>Non-Violent</td>\n",
              "      <td>SERGEANT</td>\n",
              "      <td>HANDCUFF TOO TIGHT</td>\n",
              "      <td>NOT SUSTAINED</td>\n",
              "      <td>NaN</td>\n",
              "      <td>NaN</td>\n",
              "      <td>37.0</td>\n",
              "      <td>3.0</td>\n",
              "    </tr>\n",
              "    <tr>\n",
              "      <th>...</th>\n",
              "      <td>...</td>\n",
              "      <td>...</td>\n",
              "      <td>...</td>\n",
              "      <td>...</td>\n",
              "      <td>...</td>\n",
              "      <td>...</td>\n",
              "      <td>...</td>\n",
              "      <td>...</td>\n",
              "      <td>...</td>\n",
              "      <td>...</td>\n",
              "      <td>...</td>\n",
              "      <td>...</td>\n",
              "      <td>...</td>\n",
              "      <td>...</td>\n",
              "      <td>...</td>\n",
              "    </tr>\n",
              "    <tr>\n",
              "      <th>1208819</th>\n",
              "      <td>NaN</td>\n",
              "      <td>32461.0</td>\n",
              "      <td>WHITE</td>\n",
              "      <td>MALE</td>\n",
              "      <td>1945.0</td>\n",
              "      <td>83214.0</td>\n",
              "      <td>2007-03-16</td>\n",
              "      <td>Non-Violent</td>\n",
              "      <td>FIELD TRAINING OFFICER</td>\n",
              "      <td>UNNECESSARY DISPLAY OF WEAPON / OFF DUTY</td>\n",
              "      <td>NOT SUSTAINED</td>\n",
              "      <td>NaN</td>\n",
              "      <td>NaN</td>\n",
              "      <td>NaN</td>\n",
              "      <td>NaN</td>\n",
              "    </tr>\n",
              "    <tr>\n",
              "      <th>1208820</th>\n",
              "      <td>NaN</td>\n",
              "      <td>32461.0</td>\n",
              "      <td>WHITE</td>\n",
              "      <td>MALE</td>\n",
              "      <td>1945.0</td>\n",
              "      <td>40632.0</td>\n",
              "      <td>2007-03-16</td>\n",
              "      <td>Non-Violent</td>\n",
              "      <td>FIELD TRAINING OFFICER</td>\n",
              "      <td>UNNECESSARY DISPLAY OF WEAPON / OFF DUTY</td>\n",
              "      <td>NOT SUSTAINED</td>\n",
              "      <td>NaN</td>\n",
              "      <td>NaN</td>\n",
              "      <td>NaN</td>\n",
              "      <td>NaN</td>\n",
              "    </tr>\n",
              "    <tr>\n",
              "      <th>1208969</th>\n",
              "      <td>NaN</td>\n",
              "      <td>32464.0</td>\n",
              "      <td>WHITE</td>\n",
              "      <td>MALE</td>\n",
              "      <td>1943.0</td>\n",
              "      <td>73476.0</td>\n",
              "      <td>2007-02-01</td>\n",
              "      <td>Non-Violent</td>\n",
              "      <td>POLICE OFFICER</td>\n",
              "      <td>EXCESSIVE FORCE / ON DUTY - INJURY</td>\n",
              "      <td>NOT SUSTAINED</td>\n",
              "      <td>NaN</td>\n",
              "      <td>NaN</td>\n",
              "      <td>NaN</td>\n",
              "      <td>NaN</td>\n",
              "    </tr>\n",
              "    <tr>\n",
              "      <th>1208970</th>\n",
              "      <td>NaN</td>\n",
              "      <td>32464.0</td>\n",
              "      <td>WHITE</td>\n",
              "      <td>MALE</td>\n",
              "      <td>1943.0</td>\n",
              "      <td>111036.0</td>\n",
              "      <td>2007-02-01</td>\n",
              "      <td>Non-Violent</td>\n",
              "      <td>COMMANDER</td>\n",
              "      <td>EXCESSIVE FORCE / ON DUTY - INJURY</td>\n",
              "      <td>NOT SUSTAINED</td>\n",
              "      <td>NaN</td>\n",
              "      <td>NaN</td>\n",
              "      <td>NaN</td>\n",
              "      <td>NaN</td>\n",
              "    </tr>\n",
              "    <tr>\n",
              "      <th>1208971</th>\n",
              "      <td>NaN</td>\n",
              "      <td>32464.0</td>\n",
              "      <td>WHITE</td>\n",
              "      <td>MALE</td>\n",
              "      <td>1943.0</td>\n",
              "      <td>145452.0</td>\n",
              "      <td>2007-02-01</td>\n",
              "      <td>Non-Violent</td>\n",
              "      <td>DEPUTY CHIEF</td>\n",
              "      <td>EXCESSIVE FORCE / ON DUTY - INJURY</td>\n",
              "      <td>NOT SUSTAINED</td>\n",
              "      <td>NaN</td>\n",
              "      <td>NaN</td>\n",
              "      <td>NaN</td>\n",
              "      <td>NaN</td>\n",
              "    </tr>\n",
              "  </tbody>\n",
              "</table>\n",
              "<p>771024 rows × 15 columns</p>\n",
              "</div>\n",
              "    <div class=\"colab-df-buttons\">\n",
              "\n",
              "  <div class=\"colab-df-container\">\n",
              "    <button class=\"colab-df-convert\" onclick=\"convertToInteractive('df-7b371a2f-898d-4b8c-b48e-13036818b569')\"\n",
              "            title=\"Convert this dataframe to an interactive table.\"\n",
              "            style=\"display:none;\">\n",
              "\n",
              "  <svg xmlns=\"http://www.w3.org/2000/svg\" height=\"24px\" viewBox=\"0 -960 960 960\">\n",
              "    <path d=\"M120-120v-720h720v720H120Zm60-500h600v-160H180v160Zm220 220h160v-160H400v160Zm0 220h160v-160H400v160ZM180-400h160v-160H180v160Zm440 0h160v-160H620v160ZM180-180h160v-160H180v160Zm440 0h160v-160H620v160Z\"/>\n",
              "  </svg>\n",
              "    </button>\n",
              "\n",
              "  <style>\n",
              "    .colab-df-container {\n",
              "      display:flex;\n",
              "      gap: 12px;\n",
              "    }\n",
              "\n",
              "    .colab-df-convert {\n",
              "      background-color: #E8F0FE;\n",
              "      border: none;\n",
              "      border-radius: 50%;\n",
              "      cursor: pointer;\n",
              "      display: none;\n",
              "      fill: #1967D2;\n",
              "      height: 32px;\n",
              "      padding: 0 0 0 0;\n",
              "      width: 32px;\n",
              "    }\n",
              "\n",
              "    .colab-df-convert:hover {\n",
              "      background-color: #E2EBFA;\n",
              "      box-shadow: 0px 1px 2px rgba(60, 64, 67, 0.3), 0px 1px 3px 1px rgba(60, 64, 67, 0.15);\n",
              "      fill: #174EA6;\n",
              "    }\n",
              "\n",
              "    .colab-df-buttons div {\n",
              "      margin-bottom: 4px;\n",
              "    }\n",
              "\n",
              "    [theme=dark] .colab-df-convert {\n",
              "      background-color: #3B4455;\n",
              "      fill: #D2E3FC;\n",
              "    }\n",
              "\n",
              "    [theme=dark] .colab-df-convert:hover {\n",
              "      background-color: #434B5C;\n",
              "      box-shadow: 0px 1px 3px 1px rgba(0, 0, 0, 0.15);\n",
              "      filter: drop-shadow(0px 1px 2px rgba(0, 0, 0, 0.3));\n",
              "      fill: #FFFFFF;\n",
              "    }\n",
              "  </style>\n",
              "\n",
              "    <script>\n",
              "      const buttonEl =\n",
              "        document.querySelector('#df-7b371a2f-898d-4b8c-b48e-13036818b569 button.colab-df-convert');\n",
              "      buttonEl.style.display =\n",
              "        google.colab.kernel.accessAllowed ? 'block' : 'none';\n",
              "\n",
              "      async function convertToInteractive(key) {\n",
              "        const element = document.querySelector('#df-7b371a2f-898d-4b8c-b48e-13036818b569');\n",
              "        const dataTable =\n",
              "          await google.colab.kernel.invokeFunction('convertToInteractive',\n",
              "                                                    [key], {});\n",
              "        if (!dataTable) return;\n",
              "\n",
              "        const docLinkHtml = 'Like what you see? Visit the ' +\n",
              "          '<a target=\"_blank\" href=https://colab.research.google.com/notebooks/data_table.ipynb>data table notebook</a>'\n",
              "          + ' to learn more about interactive tables.';\n",
              "        element.innerHTML = '';\n",
              "        dataTable['output_type'] = 'display_data';\n",
              "        await google.colab.output.renderOutput(dataTable, element);\n",
              "        const docLink = document.createElement('div');\n",
              "        docLink.innerHTML = docLinkHtml;\n",
              "        element.appendChild(docLink);\n",
              "      }\n",
              "    </script>\n",
              "  </div>\n",
              "\n",
              "\n",
              "<div id=\"df-859441ce-f75e-4782-9e9f-b5360ee01ee6\">\n",
              "  <button class=\"colab-df-quickchart\" onclick=\"quickchart('df-859441ce-f75e-4782-9e9f-b5360ee01ee6')\"\n",
              "            title=\"Suggest charts\"\n",
              "            style=\"display:none;\">\n",
              "\n",
              "<svg xmlns=\"http://www.w3.org/2000/svg\" height=\"24px\"viewBox=\"0 0 24 24\"\n",
              "     width=\"24px\">\n",
              "    <g>\n",
              "        <path d=\"M19 3H5c-1.1 0-2 .9-2 2v14c0 1.1.9 2 2 2h14c1.1 0 2-.9 2-2V5c0-1.1-.9-2-2-2zM9 17H7v-7h2v7zm4 0h-2V7h2v10zm4 0h-2v-4h2v4z\"/>\n",
              "    </g>\n",
              "</svg>\n",
              "  </button>\n",
              "\n",
              "<style>\n",
              "  .colab-df-quickchart {\n",
              "      --bg-color: #E8F0FE;\n",
              "      --fill-color: #1967D2;\n",
              "      --hover-bg-color: #E2EBFA;\n",
              "      --hover-fill-color: #174EA6;\n",
              "      --disabled-fill-color: #AAA;\n",
              "      --disabled-bg-color: #DDD;\n",
              "  }\n",
              "\n",
              "  [theme=dark] .colab-df-quickchart {\n",
              "      --bg-color: #3B4455;\n",
              "      --fill-color: #D2E3FC;\n",
              "      --hover-bg-color: #434B5C;\n",
              "      --hover-fill-color: #FFFFFF;\n",
              "      --disabled-bg-color: #3B4455;\n",
              "      --disabled-fill-color: #666;\n",
              "  }\n",
              "\n",
              "  .colab-df-quickchart {\n",
              "    background-color: var(--bg-color);\n",
              "    border: none;\n",
              "    border-radius: 50%;\n",
              "    cursor: pointer;\n",
              "    display: none;\n",
              "    fill: var(--fill-color);\n",
              "    height: 32px;\n",
              "    padding: 0;\n",
              "    width: 32px;\n",
              "  }\n",
              "\n",
              "  .colab-df-quickchart:hover {\n",
              "    background-color: var(--hover-bg-color);\n",
              "    box-shadow: 0 1px 2px rgba(60, 64, 67, 0.3), 0 1px 3px 1px rgba(60, 64, 67, 0.15);\n",
              "    fill: var(--button-hover-fill-color);\n",
              "  }\n",
              "\n",
              "  .colab-df-quickchart-complete:disabled,\n",
              "  .colab-df-quickchart-complete:disabled:hover {\n",
              "    background-color: var(--disabled-bg-color);\n",
              "    fill: var(--disabled-fill-color);\n",
              "    box-shadow: none;\n",
              "  }\n",
              "\n",
              "  .colab-df-spinner {\n",
              "    border: 2px solid var(--fill-color);\n",
              "    border-color: transparent;\n",
              "    border-bottom-color: var(--fill-color);\n",
              "    animation:\n",
              "      spin 1s steps(1) infinite;\n",
              "  }\n",
              "\n",
              "  @keyframes spin {\n",
              "    0% {\n",
              "      border-color: transparent;\n",
              "      border-bottom-color: var(--fill-color);\n",
              "      border-left-color: var(--fill-color);\n",
              "    }\n",
              "    20% {\n",
              "      border-color: transparent;\n",
              "      border-left-color: var(--fill-color);\n",
              "      border-top-color: var(--fill-color);\n",
              "    }\n",
              "    30% {\n",
              "      border-color: transparent;\n",
              "      border-left-color: var(--fill-color);\n",
              "      border-top-color: var(--fill-color);\n",
              "      border-right-color: var(--fill-color);\n",
              "    }\n",
              "    40% {\n",
              "      border-color: transparent;\n",
              "      border-right-color: var(--fill-color);\n",
              "      border-top-color: var(--fill-color);\n",
              "    }\n",
              "    60% {\n",
              "      border-color: transparent;\n",
              "      border-right-color: var(--fill-color);\n",
              "    }\n",
              "    80% {\n",
              "      border-color: transparent;\n",
              "      border-right-color: var(--fill-color);\n",
              "      border-bottom-color: var(--fill-color);\n",
              "    }\n",
              "    90% {\n",
              "      border-color: transparent;\n",
              "      border-bottom-color: var(--fill-color);\n",
              "    }\n",
              "  }\n",
              "</style>\n",
              "\n",
              "  <script>\n",
              "    async function quickchart(key) {\n",
              "      const quickchartButtonEl =\n",
              "        document.querySelector('#' + key + ' button');\n",
              "      quickchartButtonEl.disabled = true;  // To prevent multiple clicks.\n",
              "      quickchartButtonEl.classList.add('colab-df-spinner');\n",
              "      try {\n",
              "        const charts = await google.colab.kernel.invokeFunction(\n",
              "            'suggestCharts', [key], {});\n",
              "      } catch (error) {\n",
              "        console.error('Error during call to suggestCharts:', error);\n",
              "      }\n",
              "      quickchartButtonEl.classList.remove('colab-df-spinner');\n",
              "      quickchartButtonEl.classList.add('colab-df-quickchart-complete');\n",
              "    }\n",
              "    (() => {\n",
              "      let quickchartButtonEl =\n",
              "        document.querySelector('#df-859441ce-f75e-4782-9e9f-b5360ee01ee6 button');\n",
              "      quickchartButtonEl.style.display =\n",
              "        google.colab.kernel.accessAllowed ? 'block' : 'none';\n",
              "    })();\n",
              "  </script>\n",
              "</div>\n",
              "\n",
              "  <div id=\"id_3199c847-f23c-470a-bf76-8fa35230729b\">\n",
              "    <style>\n",
              "      .colab-df-generate {\n",
              "        background-color: #E8F0FE;\n",
              "        border: none;\n",
              "        border-radius: 50%;\n",
              "        cursor: pointer;\n",
              "        display: none;\n",
              "        fill: #1967D2;\n",
              "        height: 32px;\n",
              "        padding: 0 0 0 0;\n",
              "        width: 32px;\n",
              "      }\n",
              "\n",
              "      .colab-df-generate:hover {\n",
              "        background-color: #E2EBFA;\n",
              "        box-shadow: 0px 1px 2px rgba(60, 64, 67, 0.3), 0px 1px 3px 1px rgba(60, 64, 67, 0.15);\n",
              "        fill: #174EA6;\n",
              "      }\n",
              "\n",
              "      [theme=dark] .colab-df-generate {\n",
              "        background-color: #3B4455;\n",
              "        fill: #D2E3FC;\n",
              "      }\n",
              "\n",
              "      [theme=dark] .colab-df-generate:hover {\n",
              "        background-color: #434B5C;\n",
              "        box-shadow: 0px 1px 3px 1px rgba(0, 0, 0, 0.15);\n",
              "        filter: drop-shadow(0px 1px 2px rgba(0, 0, 0, 0.3));\n",
              "        fill: #FFFFFF;\n",
              "      }\n",
              "    </style>\n",
              "    <button class=\"colab-df-generate\" onclick=\"generateWithVariable('both_rows')\"\n",
              "            title=\"Generate code using this dataframe.\"\n",
              "            style=\"display:none;\">\n",
              "\n",
              "  <svg xmlns=\"http://www.w3.org/2000/svg\" height=\"24px\"viewBox=\"0 0 24 24\"\n",
              "       width=\"24px\">\n",
              "    <path d=\"M7,19H8.4L18.45,9,17,7.55,7,17.6ZM5,21V16.75L18.45,3.32a2,2,0,0,1,2.83,0l1.4,1.43a1.91,1.91,0,0,1,.58,1.4,1.91,1.91,0,0,1-.58,1.4L9.25,21ZM18.45,9,17,7.55Zm-12,3A5.31,5.31,0,0,0,4.9,8.1,5.31,5.31,0,0,0,1,6.5,5.31,5.31,0,0,0,4.9,4.9,5.31,5.31,0,0,0,6.5,1,5.31,5.31,0,0,0,8.1,4.9,5.31,5.31,0,0,0,12,6.5,5.46,5.46,0,0,0,6.5,12Z\"/>\n",
              "  </svg>\n",
              "    </button>\n",
              "    <script>\n",
              "      (() => {\n",
              "      const buttonEl =\n",
              "        document.querySelector('#id_3199c847-f23c-470a-bf76-8fa35230729b button.colab-df-generate');\n",
              "      buttonEl.style.display =\n",
              "        google.colab.kernel.accessAllowed ? 'block' : 'none';\n",
              "\n",
              "      buttonEl.onclick = () => {\n",
              "        google.colab.notebook.generateWithVariable('both_rows');\n",
              "      }\n",
              "      })();\n",
              "    </script>\n",
              "  </div>\n",
              "\n",
              "    </div>\n",
              "  </div>\n"
            ],
            "application/vnd.google.colaboratory.intrinsic+json": {
              "type": "dataframe",
              "variable_name": "both_rows"
            }
          },
          "metadata": {},
          "execution_count": 5
        }
      ]
    },
    {
      "cell_type": "code",
      "source": [
        "model_df = both_rows[['final_finding','penalty_code','gender','race','allegation_category', 'cleaned_rank_x', 'violence_classification','age_to_complaint','years_in_rank_to_complaint']]"
      ],
      "metadata": {
        "id": "NLZwrOd2HWX8"
      },
      "execution_count": 6,
      "outputs": []
    },
    {
      "cell_type": "code",
      "source": [
        "model_df.head(10)"
      ],
      "metadata": {
        "colab": {
          "base_uri": "https://localhost:8080/",
          "height": 609
        },
        "id": "quzZMWpVJnCD",
        "outputId": "0a03fa7c-fde6-4bbb-e25c-844551e91d47"
      },
      "execution_count": 7,
      "outputs": [
        {
          "output_type": "execute_result",
          "data": {
            "text/plain": [
              "    final_finding penalty_code gender                    race  \\\n",
              "1   NOT SUSTAINED          NaN   MALE                HISPANIC   \n",
              "2   NOT SUSTAINED          NaN   MALE                HISPANIC   \n",
              "3   NOT SUSTAINED          NaN   MALE                HISPANIC   \n",
              "4   NOT SUSTAINED          NaN   MALE                HISPANIC   \n",
              "5   NOT SUSTAINED          NaN   MALE                HISPANIC   \n",
              "24  NOT SUSTAINED          NaN   MALE  ASIAN/PACIFIC ISLANDER   \n",
              "25  NOT SUSTAINED          NaN   MALE  ASIAN/PACIFIC ISLANDER   \n",
              "27  NOT SUSTAINED          NaN   MALE                HISPANIC   \n",
              "28  NOT SUSTAINED          NaN   MALE                HISPANIC   \n",
              "29  NOT SUSTAINED          NaN   MALE                HISPANIC   \n",
              "\n",
              "                                  allegation_category  cleaned_rank_x  \\\n",
              "1                                    USE OF PROFANITY        SERGEANT   \n",
              "2             UNNECESSARY DISPLAY OF WEAPON / ON DUTY        SERGEANT   \n",
              "3                        TAKE DOWN (THROWN TO GROUND)        SERGEANT   \n",
              "4            SEARCH OF PREMISE - PROPERTY / USC TAKEN        SERGEANT   \n",
              "5                                  HANDCUFF TOO TIGHT        SERGEANT   \n",
              "24                  SEARCH OF PREMISE WITHOUT WARRANT  POLICE OFFICER   \n",
              "25  EXCESSIVE FORCE - USE OF FIREARM / OFF DUTY - ...  POLICE OFFICER   \n",
              "27                   DOMESTIC INCIDENT - NOT PHYSICAL        SERGEANT   \n",
              "28                   DOMESTIC INCIDENT - NOT PHYSICAL        SERGEANT   \n",
              "29                   DOMESTIC INCIDENT - NOT PHYSICAL        SERGEANT   \n",
              "\n",
              "   violence_classification  age_to_complaint  years_in_rank_to_complaint  \n",
              "1              Non-Violent              41.0                         7.0  \n",
              "2              Non-Violent              41.0                         7.0  \n",
              "3              Non-Violent              41.0                         7.0  \n",
              "4              Non-Violent              41.0                         7.0  \n",
              "5              Non-Violent              37.0                         3.0  \n",
              "24             Non-Violent               NaN                         NaN  \n",
              "25                 Violent               NaN                         NaN  \n",
              "27             Non-Violent               NaN                         NaN  \n",
              "28             Non-Violent               NaN                         NaN  \n",
              "29             Non-Violent               NaN                         NaN  "
            ],
            "text/html": [
              "\n",
              "  <div id=\"df-b3cc33c8-ec14-401e-849c-3b508126477c\" class=\"colab-df-container\">\n",
              "    <div>\n",
              "<style scoped>\n",
              "    .dataframe tbody tr th:only-of-type {\n",
              "        vertical-align: middle;\n",
              "    }\n",
              "\n",
              "    .dataframe tbody tr th {\n",
              "        vertical-align: top;\n",
              "    }\n",
              "\n",
              "    .dataframe thead th {\n",
              "        text-align: right;\n",
              "    }\n",
              "</style>\n",
              "<table border=\"1\" class=\"dataframe\">\n",
              "  <thead>\n",
              "    <tr style=\"text-align: right;\">\n",
              "      <th></th>\n",
              "      <th>final_finding</th>\n",
              "      <th>penalty_code</th>\n",
              "      <th>gender</th>\n",
              "      <th>race</th>\n",
              "      <th>allegation_category</th>\n",
              "      <th>cleaned_rank_x</th>\n",
              "      <th>violence_classification</th>\n",
              "      <th>age_to_complaint</th>\n",
              "      <th>years_in_rank_to_complaint</th>\n",
              "    </tr>\n",
              "  </thead>\n",
              "  <tbody>\n",
              "    <tr>\n",
              "      <th>1</th>\n",
              "      <td>NOT SUSTAINED</td>\n",
              "      <td>NaN</td>\n",
              "      <td>MALE</td>\n",
              "      <td>HISPANIC</td>\n",
              "      <td>USE OF PROFANITY</td>\n",
              "      <td>SERGEANT</td>\n",
              "      <td>Non-Violent</td>\n",
              "      <td>41.0</td>\n",
              "      <td>7.0</td>\n",
              "    </tr>\n",
              "    <tr>\n",
              "      <th>2</th>\n",
              "      <td>NOT SUSTAINED</td>\n",
              "      <td>NaN</td>\n",
              "      <td>MALE</td>\n",
              "      <td>HISPANIC</td>\n",
              "      <td>UNNECESSARY DISPLAY OF WEAPON / ON DUTY</td>\n",
              "      <td>SERGEANT</td>\n",
              "      <td>Non-Violent</td>\n",
              "      <td>41.0</td>\n",
              "      <td>7.0</td>\n",
              "    </tr>\n",
              "    <tr>\n",
              "      <th>3</th>\n",
              "      <td>NOT SUSTAINED</td>\n",
              "      <td>NaN</td>\n",
              "      <td>MALE</td>\n",
              "      <td>HISPANIC</td>\n",
              "      <td>TAKE DOWN (THROWN TO GROUND)</td>\n",
              "      <td>SERGEANT</td>\n",
              "      <td>Non-Violent</td>\n",
              "      <td>41.0</td>\n",
              "      <td>7.0</td>\n",
              "    </tr>\n",
              "    <tr>\n",
              "      <th>4</th>\n",
              "      <td>NOT SUSTAINED</td>\n",
              "      <td>NaN</td>\n",
              "      <td>MALE</td>\n",
              "      <td>HISPANIC</td>\n",
              "      <td>SEARCH OF PREMISE - PROPERTY / USC TAKEN</td>\n",
              "      <td>SERGEANT</td>\n",
              "      <td>Non-Violent</td>\n",
              "      <td>41.0</td>\n",
              "      <td>7.0</td>\n",
              "    </tr>\n",
              "    <tr>\n",
              "      <th>5</th>\n",
              "      <td>NOT SUSTAINED</td>\n",
              "      <td>NaN</td>\n",
              "      <td>MALE</td>\n",
              "      <td>HISPANIC</td>\n",
              "      <td>HANDCUFF TOO TIGHT</td>\n",
              "      <td>SERGEANT</td>\n",
              "      <td>Non-Violent</td>\n",
              "      <td>37.0</td>\n",
              "      <td>3.0</td>\n",
              "    </tr>\n",
              "    <tr>\n",
              "      <th>24</th>\n",
              "      <td>NOT SUSTAINED</td>\n",
              "      <td>NaN</td>\n",
              "      <td>MALE</td>\n",
              "      <td>ASIAN/PACIFIC ISLANDER</td>\n",
              "      <td>SEARCH OF PREMISE WITHOUT WARRANT</td>\n",
              "      <td>POLICE OFFICER</td>\n",
              "      <td>Non-Violent</td>\n",
              "      <td>NaN</td>\n",
              "      <td>NaN</td>\n",
              "    </tr>\n",
              "    <tr>\n",
              "      <th>25</th>\n",
              "      <td>NOT SUSTAINED</td>\n",
              "      <td>NaN</td>\n",
              "      <td>MALE</td>\n",
              "      <td>ASIAN/PACIFIC ISLANDER</td>\n",
              "      <td>EXCESSIVE FORCE - USE OF FIREARM / OFF DUTY - ...</td>\n",
              "      <td>POLICE OFFICER</td>\n",
              "      <td>Violent</td>\n",
              "      <td>NaN</td>\n",
              "      <td>NaN</td>\n",
              "    </tr>\n",
              "    <tr>\n",
              "      <th>27</th>\n",
              "      <td>NOT SUSTAINED</td>\n",
              "      <td>NaN</td>\n",
              "      <td>MALE</td>\n",
              "      <td>HISPANIC</td>\n",
              "      <td>DOMESTIC INCIDENT - NOT PHYSICAL</td>\n",
              "      <td>SERGEANT</td>\n",
              "      <td>Non-Violent</td>\n",
              "      <td>NaN</td>\n",
              "      <td>NaN</td>\n",
              "    </tr>\n",
              "    <tr>\n",
              "      <th>28</th>\n",
              "      <td>NOT SUSTAINED</td>\n",
              "      <td>NaN</td>\n",
              "      <td>MALE</td>\n",
              "      <td>HISPANIC</td>\n",
              "      <td>DOMESTIC INCIDENT - NOT PHYSICAL</td>\n",
              "      <td>SERGEANT</td>\n",
              "      <td>Non-Violent</td>\n",
              "      <td>NaN</td>\n",
              "      <td>NaN</td>\n",
              "    </tr>\n",
              "    <tr>\n",
              "      <th>29</th>\n",
              "      <td>NOT SUSTAINED</td>\n",
              "      <td>NaN</td>\n",
              "      <td>MALE</td>\n",
              "      <td>HISPANIC</td>\n",
              "      <td>DOMESTIC INCIDENT - NOT PHYSICAL</td>\n",
              "      <td>SERGEANT</td>\n",
              "      <td>Non-Violent</td>\n",
              "      <td>NaN</td>\n",
              "      <td>NaN</td>\n",
              "    </tr>\n",
              "  </tbody>\n",
              "</table>\n",
              "</div>\n",
              "    <div class=\"colab-df-buttons\">\n",
              "\n",
              "  <div class=\"colab-df-container\">\n",
              "    <button class=\"colab-df-convert\" onclick=\"convertToInteractive('df-b3cc33c8-ec14-401e-849c-3b508126477c')\"\n",
              "            title=\"Convert this dataframe to an interactive table.\"\n",
              "            style=\"display:none;\">\n",
              "\n",
              "  <svg xmlns=\"http://www.w3.org/2000/svg\" height=\"24px\" viewBox=\"0 -960 960 960\">\n",
              "    <path d=\"M120-120v-720h720v720H120Zm60-500h600v-160H180v160Zm220 220h160v-160H400v160Zm0 220h160v-160H400v160ZM180-400h160v-160H180v160Zm440 0h160v-160H620v160ZM180-180h160v-160H180v160Zm440 0h160v-160H620v160Z\"/>\n",
              "  </svg>\n",
              "    </button>\n",
              "\n",
              "  <style>\n",
              "    .colab-df-container {\n",
              "      display:flex;\n",
              "      gap: 12px;\n",
              "    }\n",
              "\n",
              "    .colab-df-convert {\n",
              "      background-color: #E8F0FE;\n",
              "      border: none;\n",
              "      border-radius: 50%;\n",
              "      cursor: pointer;\n",
              "      display: none;\n",
              "      fill: #1967D2;\n",
              "      height: 32px;\n",
              "      padding: 0 0 0 0;\n",
              "      width: 32px;\n",
              "    }\n",
              "\n",
              "    .colab-df-convert:hover {\n",
              "      background-color: #E2EBFA;\n",
              "      box-shadow: 0px 1px 2px rgba(60, 64, 67, 0.3), 0px 1px 3px 1px rgba(60, 64, 67, 0.15);\n",
              "      fill: #174EA6;\n",
              "    }\n",
              "\n",
              "    .colab-df-buttons div {\n",
              "      margin-bottom: 4px;\n",
              "    }\n",
              "\n",
              "    [theme=dark] .colab-df-convert {\n",
              "      background-color: #3B4455;\n",
              "      fill: #D2E3FC;\n",
              "    }\n",
              "\n",
              "    [theme=dark] .colab-df-convert:hover {\n",
              "      background-color: #434B5C;\n",
              "      box-shadow: 0px 1px 3px 1px rgba(0, 0, 0, 0.15);\n",
              "      filter: drop-shadow(0px 1px 2px rgba(0, 0, 0, 0.3));\n",
              "      fill: #FFFFFF;\n",
              "    }\n",
              "  </style>\n",
              "\n",
              "    <script>\n",
              "      const buttonEl =\n",
              "        document.querySelector('#df-b3cc33c8-ec14-401e-849c-3b508126477c button.colab-df-convert');\n",
              "      buttonEl.style.display =\n",
              "        google.colab.kernel.accessAllowed ? 'block' : 'none';\n",
              "\n",
              "      async function convertToInteractive(key) {\n",
              "        const element = document.querySelector('#df-b3cc33c8-ec14-401e-849c-3b508126477c');\n",
              "        const dataTable =\n",
              "          await google.colab.kernel.invokeFunction('convertToInteractive',\n",
              "                                                    [key], {});\n",
              "        if (!dataTable) return;\n",
              "\n",
              "        const docLinkHtml = 'Like what you see? Visit the ' +\n",
              "          '<a target=\"_blank\" href=https://colab.research.google.com/notebooks/data_table.ipynb>data table notebook</a>'\n",
              "          + ' to learn more about interactive tables.';\n",
              "        element.innerHTML = '';\n",
              "        dataTable['output_type'] = 'display_data';\n",
              "        await google.colab.output.renderOutput(dataTable, element);\n",
              "        const docLink = document.createElement('div');\n",
              "        docLink.innerHTML = docLinkHtml;\n",
              "        element.appendChild(docLink);\n",
              "      }\n",
              "    </script>\n",
              "  </div>\n",
              "\n",
              "\n",
              "<div id=\"df-bd667c8c-0b5f-4497-a0d8-50a038d8dbb3\">\n",
              "  <button class=\"colab-df-quickchart\" onclick=\"quickchart('df-bd667c8c-0b5f-4497-a0d8-50a038d8dbb3')\"\n",
              "            title=\"Suggest charts\"\n",
              "            style=\"display:none;\">\n",
              "\n",
              "<svg xmlns=\"http://www.w3.org/2000/svg\" height=\"24px\"viewBox=\"0 0 24 24\"\n",
              "     width=\"24px\">\n",
              "    <g>\n",
              "        <path d=\"M19 3H5c-1.1 0-2 .9-2 2v14c0 1.1.9 2 2 2h14c1.1 0 2-.9 2-2V5c0-1.1-.9-2-2-2zM9 17H7v-7h2v7zm4 0h-2V7h2v10zm4 0h-2v-4h2v4z\"/>\n",
              "    </g>\n",
              "</svg>\n",
              "  </button>\n",
              "\n",
              "<style>\n",
              "  .colab-df-quickchart {\n",
              "      --bg-color: #E8F0FE;\n",
              "      --fill-color: #1967D2;\n",
              "      --hover-bg-color: #E2EBFA;\n",
              "      --hover-fill-color: #174EA6;\n",
              "      --disabled-fill-color: #AAA;\n",
              "      --disabled-bg-color: #DDD;\n",
              "  }\n",
              "\n",
              "  [theme=dark] .colab-df-quickchart {\n",
              "      --bg-color: #3B4455;\n",
              "      --fill-color: #D2E3FC;\n",
              "      --hover-bg-color: #434B5C;\n",
              "      --hover-fill-color: #FFFFFF;\n",
              "      --disabled-bg-color: #3B4455;\n",
              "      --disabled-fill-color: #666;\n",
              "  }\n",
              "\n",
              "  .colab-df-quickchart {\n",
              "    background-color: var(--bg-color);\n",
              "    border: none;\n",
              "    border-radius: 50%;\n",
              "    cursor: pointer;\n",
              "    display: none;\n",
              "    fill: var(--fill-color);\n",
              "    height: 32px;\n",
              "    padding: 0;\n",
              "    width: 32px;\n",
              "  }\n",
              "\n",
              "  .colab-df-quickchart:hover {\n",
              "    background-color: var(--hover-bg-color);\n",
              "    box-shadow: 0 1px 2px rgba(60, 64, 67, 0.3), 0 1px 3px 1px rgba(60, 64, 67, 0.15);\n",
              "    fill: var(--button-hover-fill-color);\n",
              "  }\n",
              "\n",
              "  .colab-df-quickchart-complete:disabled,\n",
              "  .colab-df-quickchart-complete:disabled:hover {\n",
              "    background-color: var(--disabled-bg-color);\n",
              "    fill: var(--disabled-fill-color);\n",
              "    box-shadow: none;\n",
              "  }\n",
              "\n",
              "  .colab-df-spinner {\n",
              "    border: 2px solid var(--fill-color);\n",
              "    border-color: transparent;\n",
              "    border-bottom-color: var(--fill-color);\n",
              "    animation:\n",
              "      spin 1s steps(1) infinite;\n",
              "  }\n",
              "\n",
              "  @keyframes spin {\n",
              "    0% {\n",
              "      border-color: transparent;\n",
              "      border-bottom-color: var(--fill-color);\n",
              "      border-left-color: var(--fill-color);\n",
              "    }\n",
              "    20% {\n",
              "      border-color: transparent;\n",
              "      border-left-color: var(--fill-color);\n",
              "      border-top-color: var(--fill-color);\n",
              "    }\n",
              "    30% {\n",
              "      border-color: transparent;\n",
              "      border-left-color: var(--fill-color);\n",
              "      border-top-color: var(--fill-color);\n",
              "      border-right-color: var(--fill-color);\n",
              "    }\n",
              "    40% {\n",
              "      border-color: transparent;\n",
              "      border-right-color: var(--fill-color);\n",
              "      border-top-color: var(--fill-color);\n",
              "    }\n",
              "    60% {\n",
              "      border-color: transparent;\n",
              "      border-right-color: var(--fill-color);\n",
              "    }\n",
              "    80% {\n",
              "      border-color: transparent;\n",
              "      border-right-color: var(--fill-color);\n",
              "      border-bottom-color: var(--fill-color);\n",
              "    }\n",
              "    90% {\n",
              "      border-color: transparent;\n",
              "      border-bottom-color: var(--fill-color);\n",
              "    }\n",
              "  }\n",
              "</style>\n",
              "\n",
              "  <script>\n",
              "    async function quickchart(key) {\n",
              "      const quickchartButtonEl =\n",
              "        document.querySelector('#' + key + ' button');\n",
              "      quickchartButtonEl.disabled = true;  // To prevent multiple clicks.\n",
              "      quickchartButtonEl.classList.add('colab-df-spinner');\n",
              "      try {\n",
              "        const charts = await google.colab.kernel.invokeFunction(\n",
              "            'suggestCharts', [key], {});\n",
              "      } catch (error) {\n",
              "        console.error('Error during call to suggestCharts:', error);\n",
              "      }\n",
              "      quickchartButtonEl.classList.remove('colab-df-spinner');\n",
              "      quickchartButtonEl.classList.add('colab-df-quickchart-complete');\n",
              "    }\n",
              "    (() => {\n",
              "      let quickchartButtonEl =\n",
              "        document.querySelector('#df-bd667c8c-0b5f-4497-a0d8-50a038d8dbb3 button');\n",
              "      quickchartButtonEl.style.display =\n",
              "        google.colab.kernel.accessAllowed ? 'block' : 'none';\n",
              "    })();\n",
              "  </script>\n",
              "</div>\n",
              "\n",
              "    </div>\n",
              "  </div>\n"
            ],
            "application/vnd.google.colaboratory.intrinsic+json": {
              "type": "dataframe",
              "variable_name": "model_df"
            }
          },
          "metadata": {},
          "execution_count": 7
        }
      ]
    },
    {
      "cell_type": "code",
      "source": [
        "model_df.penalty_code.value_counts()"
      ],
      "metadata": {
        "colab": {
          "base_uri": "https://localhost:8080/"
        },
        "id": "RMB3GAWoKUha",
        "outputId": "d858c175-9f52-4cf4-9b4e-0a8fbc8999a7"
      },
      "execution_count": 8,
      "outputs": [
        {
          "output_type": "execute_result",
          "data": {
            "text/plain": [
              "penalty_code\n",
              "SUSPENSION              247324\n",
              "SEPARATION               31870\n",
              "REPRIMAND                25961\n",
              "VIOLATION NOTED          14021\n",
              "WORK REGULAR DAY OFF       120\n",
              "Name: count, dtype: int64"
            ]
          },
          "metadata": {},
          "execution_count": 8
        }
      ]
    },
    {
      "cell_type": "code",
      "source": [
        "model_df['penalized'] = model_df['penalty_code'].apply(lambda x: 1 if x in ['SUSPENSION', 'SEPARATION'] else 0)"
      ],
      "metadata": {
        "colab": {
          "base_uri": "https://localhost:8080/"
        },
        "id": "3j9fH2IqO3qB",
        "outputId": "aefb5066-5338-41b5-dda0-86c3741ab0b8"
      },
      "execution_count": 9,
      "outputs": [
        {
          "output_type": "stream",
          "name": "stderr",
          "text": [
            "<ipython-input-9-4d1e7d261f8d>:1: SettingWithCopyWarning: \n",
            "A value is trying to be set on a copy of a slice from a DataFrame.\n",
            "Try using .loc[row_indexer,col_indexer] = value instead\n",
            "\n",
            "See the caveats in the documentation: https://pandas.pydata.org/pandas-docs/stable/user_guide/indexing.html#returning-a-view-versus-a-copy\n",
            "  model_df['penalized'] = model_df['penalty_code'].apply(lambda x: 1 if x in ['SUSPENSION', 'SEPARATION'] else 0)\n"
          ]
        }
      ]
    },
    {
      "cell_type": "code",
      "source": [
        "model_df['white'] = model_df['race'].apply(lambda x: 1 if x == 'WHITE' else 0)"
      ],
      "metadata": {
        "colab": {
          "base_uri": "https://localhost:8080/"
        },
        "id": "oJymTsfxPBHI",
        "outputId": "1952a6af-8197-4f69-9569-97443ce60f19"
      },
      "execution_count": 10,
      "outputs": [
        {
          "output_type": "stream",
          "name": "stderr",
          "text": [
            "<ipython-input-10-0afcff4228ad>:1: SettingWithCopyWarning: \n",
            "A value is trying to be set on a copy of a slice from a DataFrame.\n",
            "Try using .loc[row_indexer,col_indexer] = value instead\n",
            "\n",
            "See the caveats in the documentation: https://pandas.pydata.org/pandas-docs/stable/user_guide/indexing.html#returning-a-view-versus-a-copy\n",
            "  model_df['white'] = model_df['race'].apply(lambda x: 1 if x == 'WHITE' else 0)\n"
          ]
        }
      ]
    },
    {
      "cell_type": "code",
      "source": [
        "model_df['male'] = model_df['gender'].apply(lambda x: 1 if x == 'MALE' else 0)"
      ],
      "metadata": {
        "colab": {
          "base_uri": "https://localhost:8080/"
        },
        "id": "aLJDHICbPhrO",
        "outputId": "ebd18665-dbc3-4b8c-dfd1-eca94702ef9a"
      },
      "execution_count": 11,
      "outputs": [
        {
          "output_type": "stream",
          "name": "stderr",
          "text": [
            "<ipython-input-11-307361f5afdf>:1: SettingWithCopyWarning: \n",
            "A value is trying to be set on a copy of a slice from a DataFrame.\n",
            "Try using .loc[row_indexer,col_indexer] = value instead\n",
            "\n",
            "See the caveats in the documentation: https://pandas.pydata.org/pandas-docs/stable/user_guide/indexing.html#returning-a-view-versus-a-copy\n",
            "  model_df['male'] = model_df['gender'].apply(lambda x: 1 if x == 'MALE' else 0)\n"
          ]
        }
      ]
    },
    {
      "cell_type": "code",
      "source": [
        "model_df['Violent'] = model_df['violence_classification'].apply(lambda x: 1 if x == 'Violent' else 0)"
      ],
      "metadata": {
        "colab": {
          "base_uri": "https://localhost:8080/"
        },
        "id": "EHmZQZP0cv5Y",
        "outputId": "c2f39b2d-1478-4f22-d177-81bb01e189cb"
      },
      "execution_count": 12,
      "outputs": [
        {
          "output_type": "stream",
          "name": "stderr",
          "text": [
            "<ipython-input-12-5ec61e2009e3>:1: SettingWithCopyWarning: \n",
            "A value is trying to be set on a copy of a slice from a DataFrame.\n",
            "Try using .loc[row_indexer,col_indexer] = value instead\n",
            "\n",
            "See the caveats in the documentation: https://pandas.pydata.org/pandas-docs/stable/user_guide/indexing.html#returning-a-view-versus-a-copy\n",
            "  model_df['Violent'] = model_df['violence_classification'].apply(lambda x: 1 if x == 'Violent' else 0)\n"
          ]
        }
      ]
    },
    {
      "cell_type": "code",
      "source": [
        "model_df['NonViolent'] = model_df['violence_classification'].apply(lambda x: 1 if x == 'Non-Violent' else 0)"
      ],
      "metadata": {
        "id": "TAv_ZdcyrPLU",
        "colab": {
          "base_uri": "https://localhost:8080/"
        },
        "outputId": "7fd7de9d-3f5a-4e6e-8f95-470055c1c3e0"
      },
      "execution_count": 13,
      "outputs": [
        {
          "output_type": "stream",
          "name": "stderr",
          "text": [
            "<ipython-input-13-d2572bc589aa>:1: SettingWithCopyWarning: \n",
            "A value is trying to be set on a copy of a slice from a DataFrame.\n",
            "Try using .loc[row_indexer,col_indexer] = value instead\n",
            "\n",
            "See the caveats in the documentation: https://pandas.pydata.org/pandas-docs/stable/user_guide/indexing.html#returning-a-view-versus-a-copy\n",
            "  model_df['NonViolent'] = model_df['violence_classification'].apply(lambda x: 1 if x == 'Non-Violent' else 0)\n"
          ]
        }
      ]
    },
    {
      "cell_type": "code",
      "source": [
        "rank_order = {\n",
        "    'CIVILIAN': 1,\n",
        "    'POLICE OFFICER': 2,\n",
        "    'FIELD TRAINING OFFICER': 3,\n",
        "    'INVESTIGATOR': 4,\n",
        "    'DETECTIVE': 5,\n",
        "    'SERGEANT': 6,\n",
        "    'LIEUTENANT': 7,\n",
        "    'CAPTAIN': 8,\n",
        "    'COMMANDER': 9,\n",
        "    'DEPUTY CHIEF': 10\n",
        "}"
      ],
      "metadata": {
        "id": "iymdi-tHQCDh"
      },
      "execution_count": 14,
      "outputs": []
    },
    {
      "cell_type": "code",
      "source": [
        "model_df['rank'] = model_df['cleaned_rank_x'].map(rank_order)"
      ],
      "metadata": {
        "id": "-Kw6_ryNPnPw"
      },
      "execution_count": 15,
      "outputs": []
    },
    {
      "cell_type": "code",
      "source": [
        "model_df['penalty_code'].value_counts(dropna = False)"
      ],
      "metadata": {
        "colab": {
          "base_uri": "https://localhost:8080/"
        },
        "id": "IrNqj9ehbWl6",
        "outputId": "79835c36-b34e-4c46-ca6d-242f10491059"
      },
      "execution_count": 16,
      "outputs": [
        {
          "output_type": "execute_result",
          "data": {
            "text/plain": [
              "penalty_code\n",
              "NaN                     451728\n",
              "SUSPENSION              247324\n",
              "SEPARATION               31870\n",
              "REPRIMAND                25961\n",
              "VIOLATION NOTED          14021\n",
              "WORK REGULAR DAY OFF       120\n",
              "Name: count, dtype: int64"
            ]
          },
          "metadata": {},
          "execution_count": 16
        }
      ]
    },
    {
      "cell_type": "code",
      "source": [
        "model_df['finding'] = model_df['final_finding'].apply(lambda x: 1 if x == 'SUSTAINED' else 0)"
      ],
      "metadata": {
        "id": "YLG6EEf5ZBkd"
      },
      "execution_count": 17,
      "outputs": []
    },
    {
      "cell_type": "code",
      "source": [
        "model_df['rank'].value_counts()"
      ],
      "metadata": {
        "colab": {
          "base_uri": "https://localhost:8080/"
        },
        "id": "QxakmL-3VPly",
        "outputId": "ab2dd804-2cbe-48af-a928-cc2f74640eb2"
      },
      "execution_count": 18,
      "outputs": [
        {
          "output_type": "execute_result",
          "data": {
            "text/plain": [
              "rank\n",
              "2.0     649347\n",
              "6.0      67836\n",
              "5.0      36444\n",
              "3.0      10229\n",
              "7.0       5436\n",
              "9.0        973\n",
              "4.0        528\n",
              "10.0       137\n",
              "8.0         49\n",
              "1.0         10\n",
              "Name: count, dtype: int64"
            ]
          },
          "metadata": {},
          "execution_count": 18
        }
      ]
    },
    {
      "cell_type": "code",
      "source": [
        "model_df.dropna(inplace = True)"
      ],
      "metadata": {
        "id": "QSwH9YjmZNCP"
      },
      "execution_count": 19,
      "outputs": []
    },
    {
      "cell_type": "markdown",
      "source": [
        "### 1.1 Add ``Final Finding (SUSTAINED/NOT SUSTAINED)``, ``Age at Allegation``, ``Years in Rank at Allegation``, and ``Allegation Type`` to the preliminary model"
      ],
      "metadata": {
        "id": "sn-bjJuEZYrd"
      }
    },
    {
      "cell_type": "code",
      "source": [
        "model_df['rank'].value_counts()"
      ],
      "metadata": {
        "colab": {
          "base_uri": "https://localhost:8080/"
        },
        "id": "d_sZ8DnLaaE0",
        "outputId": "cad1971b-943a-42f4-bc08-7736ab94e827"
      },
      "execution_count": 20,
      "outputs": [
        {
          "output_type": "execute_result",
          "data": {
            "text/plain": [
              "rank\n",
              "2.0     222125\n",
              "6.0      22070\n",
              "5.0       9106\n",
              "3.0       4092\n",
              "7.0       2179\n",
              "4.0        303\n",
              "9.0        261\n",
              "10.0        24\n",
              "8.0         17\n",
              "1.0          4\n",
              "Name: count, dtype: int64"
            ]
          },
          "metadata": {},
          "execution_count": 20
        }
      ]
    },
    {
      "cell_type": "code",
      "source": [
        "rank_order = {\n",
        "    'CIVILIAN': 1, # removed\n",
        "    'POLICE OFFICER': 2,\n",
        "    'FIELD TRAINING OFFICER': 3,\n",
        "    'INVESTIGATOR': 4, #removed\n",
        "    'DETECTIVE': 5,\n",
        "    'SERGEANT': 6,\n",
        "    'LIEUTENANT': 7,\n",
        "    'CAPTAIN': 8, # removed\n",
        "    'COMMANDER': 9, # removed\n",
        "    'DEPUTY CHIEF': 10 # removed\n",
        "}"
      ],
      "metadata": {
        "id": "uK0RQpKvanPt"
      },
      "execution_count": 21,
      "outputs": []
    },
    {
      "cell_type": "code",
      "source": [
        "import statsmodels.api as sm\n",
        "import statsmodels.formula.api as smf\n",
        "\n",
        "#formula = 'penalized ~ white + male + finding + age_to_complaint + years_in_rank_to_complaint + Violent'\n",
        "\n",
        "results = []\n",
        "\n",
        "for rank in range(1, 11):\n",
        "\n",
        "    if rank in [1, 4, 8, 9, 10]: # remove low frequency ranks\n",
        "        continue\n",
        "\n",
        "    print(rank)\n",
        "\n",
        "    curr_slice = model_df[model_df['rank'] == rank]\n",
        "    if curr_slice.shape[0] < 2:\n",
        "        print(f\"Insufficient data for rank {rank}\")\n",
        "        continue\n",
        "\n",
        "    y = curr_slice['penalized']\n",
        "    X = curr_slice[['white', 'male', 'finding', 'age_to_complaint', 'years_in_rank_to_complaint', 'Violent']]\n",
        "    X = sm.add_constant(X)\n",
        "\n",
        "    model = sm.Logit(y, X)\n",
        "    result = model.fit_regularized(method='l1', alpha=1e-3)\n",
        "    pred = result.predict(sm.add_constant(model_df[['white', 'male', 'finding', 'age_to_complaint', 'years_in_rank_to_complaint', 'Violent']]))\n",
        "\n",
        "    results.append(pred.mean())"
      ],
      "metadata": {
        "id": "UEcXtMiK8uXc",
        "colab": {
          "base_uri": "https://localhost:8080/"
        },
        "outputId": "db9165f8-8906-4081-b13e-e60561d4fa48"
      },
      "execution_count": 22,
      "outputs": [
        {
          "output_type": "stream",
          "name": "stdout",
          "text": [
            "2\n",
            "Optimization terminated successfully    (Exit mode 0)\n",
            "            Current function value: 0.37456216818454335\n",
            "            Iterations: 45\n",
            "            Function evaluations: 52\n",
            "            Gradient evaluations: 45\n",
            "3\n",
            "Optimization terminated successfully    (Exit mode 0)\n",
            "            Current function value: 0.3975787826354188\n",
            "            Iterations: 52\n",
            "            Function evaluations: 58\n",
            "            Gradient evaluations: 52\n"
          ]
        },
        {
          "output_type": "stream",
          "name": "stderr",
          "text": [
            "/usr/local/lib/python3.10/dist-packages/statsmodels/base/l1_solvers_common.py:71: ConvergenceWarning: QC check did not pass for 7 out of 7 parameters\n",
            "Try increasing solver accuracy or number of iterations, decreasing alpha, or switch solvers\n",
            "  warnings.warn(message, ConvergenceWarning)\n",
            "/usr/local/lib/python3.10/dist-packages/statsmodels/base/l1_solvers_common.py:144: ConvergenceWarning: Could not trim params automatically due to failed QC check. Trimming using trim_mode == 'size' will still work.\n",
            "  warnings.warn(msg, ConvergenceWarning)\n",
            "/usr/local/lib/python3.10/dist-packages/statsmodels/base/l1_solvers_common.py:71: ConvergenceWarning: QC check did not pass for 7 out of 7 parameters\n",
            "Try increasing solver accuracy or number of iterations, decreasing alpha, or switch solvers\n",
            "  warnings.warn(message, ConvergenceWarning)\n",
            "/usr/local/lib/python3.10/dist-packages/statsmodels/base/l1_solvers_common.py:144: ConvergenceWarning: Could not trim params automatically due to failed QC check. Trimming using trim_mode == 'size' will still work.\n",
            "  warnings.warn(msg, ConvergenceWarning)\n"
          ]
        },
        {
          "output_type": "stream",
          "name": "stdout",
          "text": [
            "5\n",
            "Optimization terminated successfully    (Exit mode 0)\n",
            "            Current function value: 0.4174270127102785\n",
            "            Iterations: 45\n",
            "            Function evaluations: 50\n",
            "            Gradient evaluations: 45\n"
          ]
        },
        {
          "output_type": "stream",
          "name": "stderr",
          "text": [
            "/usr/local/lib/python3.10/dist-packages/statsmodels/base/l1_solvers_common.py:71: ConvergenceWarning: QC check did not pass for 4 out of 7 parameters\n",
            "Try increasing solver accuracy or number of iterations, decreasing alpha, or switch solvers\n",
            "  warnings.warn(message, ConvergenceWarning)\n",
            "/usr/local/lib/python3.10/dist-packages/statsmodels/base/l1_solvers_common.py:144: ConvergenceWarning: Could not trim params automatically due to failed QC check. Trimming using trim_mode == 'size' will still work.\n",
            "  warnings.warn(msg, ConvergenceWarning)\n"
          ]
        },
        {
          "output_type": "stream",
          "name": "stdout",
          "text": [
            "6\n",
            "Optimization terminated successfully    (Exit mode 0)\n",
            "            Current function value: 0.43717559002422174\n",
            "            Iterations: 45\n",
            "            Function evaluations: 51\n",
            "            Gradient evaluations: 45\n",
            "7\n"
          ]
        },
        {
          "output_type": "stream",
          "name": "stderr",
          "text": [
            "/usr/local/lib/python3.10/dist-packages/statsmodels/base/l1_solvers_common.py:71: ConvergenceWarning: QC check did not pass for 6 out of 7 parameters\n",
            "Try increasing solver accuracy or number of iterations, decreasing alpha, or switch solvers\n",
            "  warnings.warn(message, ConvergenceWarning)\n",
            "/usr/local/lib/python3.10/dist-packages/statsmodels/base/l1_solvers_common.py:144: ConvergenceWarning: Could not trim params automatically due to failed QC check. Trimming using trim_mode == 'size' will still work.\n",
            "  warnings.warn(msg, ConvergenceWarning)\n"
          ]
        },
        {
          "output_type": "stream",
          "name": "stdout",
          "text": [
            "Optimization terminated successfully    (Exit mode 0)\n",
            "            Current function value: 0.37447338184818124\n",
            "            Iterations: 51\n",
            "            Function evaluations: 56\n",
            "            Gradient evaluations: 51\n"
          ]
        },
        {
          "output_type": "stream",
          "name": "stderr",
          "text": [
            "/usr/local/lib/python3.10/dist-packages/statsmodels/base/l1_solvers_common.py:71: ConvergenceWarning: QC check did not pass for 6 out of 7 parameters\n",
            "Try increasing solver accuracy or number of iterations, decreasing alpha, or switch solvers\n",
            "  warnings.warn(message, ConvergenceWarning)\n",
            "/usr/local/lib/python3.10/dist-packages/statsmodels/base/l1_solvers_common.py:144: ConvergenceWarning: Could not trim params automatically due to failed QC check. Trimming using trim_mode == 'size' will still work.\n",
            "  warnings.warn(msg, ConvergenceWarning)\n"
          ]
        }
      ]
    },
    {
      "cell_type": "code",
      "source": [
        "results #estimates for 2 3 4 5 6 7"
      ],
      "metadata": {
        "colab": {
          "base_uri": "https://localhost:8080/"
        },
        "id": "IoImLGm9pyy_",
        "outputId": "e82f0b4f-9b57-40bb-bb2c-7f6b60195903"
      },
      "execution_count": 23,
      "outputs": [
        {
          "output_type": "execute_result",
          "data": {
            "text/plain": [
              "[0.8675171453243843,\n",
              " 0.7634436031087095,\n",
              " 0.810666746595846,\n",
              " 0.8117951433471539,\n",
              " 0.5603164160962678]"
            ]
          },
          "metadata": {},
          "execution_count": 23
        }
      ]
    },
    {
      "cell_type": "markdown",
      "source": [
        "### Estimates: 0 is Not Actually Penalized, 1 is Actually Penalized. Expect to decrease as rank increase."
      ],
      "metadata": {
        "id": "_4_PeGh9dhy5"
      }
    },
    {
      "cell_type": "code",
      "source": [
        "# fomartted result\n",
        "{\n",
        "    'POLICE OFFICER': 0.8675171453243843,\n",
        "    'FIELD TRAINING OFFICER': 0.7634436031087095,\n",
        "    'DETECTIVE': 0.810666746595846,\n",
        "    'SERGEANT': 0.8117951433471539,\n",
        "    'LIEUTENANT': 0.5603164160962678}"
      ],
      "metadata": {
        "id": "c6Osqyi_qCkN",
        "colab": {
          "base_uri": "https://localhost:8080/"
        },
        "outputId": "abd0a2c6-b882-465e-e7cf-97f72790a63f"
      },
      "execution_count": 24,
      "outputs": [
        {
          "output_type": "execute_result",
          "data": {
            "text/plain": [
              "{'POLICE OFFICER': 0.8675171453243843,\n",
              " 'FIELD TRAINING OFFICER': 0.7634436031087095,\n",
              " 'DETECTIVE': 0.810666746595846,\n",
              " 'SERGEANT': 0.8117951433471539,\n",
              " 'LIEUTENANT': 0.5603164160962678}"
            ]
          },
          "metadata": {},
          "execution_count": 24
        }
      ]
    },
    {
      "cell_type": "markdown",
      "source": [
        "### 1.2 Use Final Finding as Additional Outcome Variable"
      ],
      "metadata": {
        "id": "ACOBtUHGbdug"
      }
    },
    {
      "cell_type": "code",
      "source": [
        "import statsmodels.api as sm\n",
        "\n",
        "#formula = 'finding ~ white + male + age_to_complaint + years_in_rank_to_complaint + Violent'\n",
        "\n",
        "results = []\n",
        "\n",
        "for rank in range(1, 11):\n",
        "\n",
        "    if rank in [1, 4, 8, 9, 10]:\n",
        "        continue\n",
        "\n",
        "    print(rank)\n",
        "\n",
        "    curr_slice = model_df[model_df['rank'] == rank]\n",
        "    if curr_slice.shape[0] < 2:\n",
        "        print(f\"Insufficient data for rank {rank}\")\n",
        "        continue\n",
        "\n",
        "    y = curr_slice['finding']\n",
        "    X = curr_slice[['white', 'male', 'age_to_complaint', 'years_in_rank_to_complaint', 'Violent']]\n",
        "    X = sm.add_constant(X)\n",
        "\n",
        "    model = sm.Logit(y, X)\n",
        "    result = model.fit_regularized(method='l1', alpha=1e-3)\n",
        "    pred = result.predict(sm.add_constant(model_df[['white', 'male', 'age_to_complaint', 'years_in_rank_to_complaint', 'Violent']]))\n",
        "\n",
        "    results.append(pred.mean())"
      ],
      "metadata": {
        "id": "HsWfN5P4bcxj"
      },
      "execution_count": null,
      "outputs": []
    },
    {
      "cell_type": "code",
      "source": [
        "results"
      ],
      "metadata": {
        "colab": {
          "base_uri": "https://localhost:8080/"
        },
        "id": "4-FJgKA3c5jh",
        "outputId": "fe2ecb5d-c85a-4c80-aea8-60f98b38ba06"
      },
      "execution_count": 26,
      "outputs": [
        {
          "output_type": "execute_result",
          "data": {
            "text/plain": [
              "[0.6878188559419107,\n",
              " 0.5257736077299826,\n",
              " 0.6807130926862025,\n",
              " 0.6308228344530294,\n",
              " 0.5603661561409415]"
            ]
          },
          "metadata": {},
          "execution_count": 26
        }
      ]
    },
    {
      "cell_type": "markdown",
      "source": [
        "#### Estimates: 0 is NOT SUSTAINED, 1 is SUSTAINED. Expect to decrease as rank increase. Not our main focus of this project."
      ],
      "metadata": {
        "id": "elM3uCuPdSOw"
      }
    },
    {
      "cell_type": "code",
      "source": [
        "# Formatted Results\n",
        "{'POLICE OFFICER': 0.6878188559419107,\n",
        " 'FIELD TRAINING OFFICER': 5257736077299826,\n",
        " 'DETECTIVE': 0.6807130926862025,\n",
        " 'SERGEANT': 0.6308228344530294,\n",
        " 'LIEUTENANT': 0.5603661561409415}"
      ],
      "metadata": {
        "colab": {
          "base_uri": "https://localhost:8080/"
        },
        "id": "AmemknoydKlA",
        "outputId": "73a2428b-7f41-4216-f442-6d0a791f5282"
      },
      "execution_count": 27,
      "outputs": [
        {
          "output_type": "execute_result",
          "data": {
            "text/plain": [
              "{'POLICE OFFICER': 0.6878188559419107,\n",
              " 'FIELD TRAINING OFFICER': 5257736077299826,\n",
              " 'DETECTIVE': 0.6807130926862025,\n",
              " 'SERGEANT': 0.6308228344530294,\n",
              " 'LIEUTENANT': 0.5603661561409415}"
            ]
          },
          "metadata": {},
          "execution_count": 27
        }
      ]
    },
    {
      "cell_type": "markdown",
      "source": [
        "### 2. IPW"
      ],
      "metadata": {
        "id": "AQZcQsLoeHf9"
      }
    },
    {
      "cell_type": "markdown",
      "source": [
        "### 2.1 Use Naive Average as in HW2"
      ],
      "metadata": {
        "id": "98rF7h-peKAL"
      }
    },
    {
      "cell_type": "code",
      "source": [
        "from tqdm.auto import tqdm\n",
        "from sklearn.linear_model import LogisticRegression\n",
        "\n",
        "def ipw(df, treatment='rank', outcome='penalized', confounders=['white', 'male', 'finding', 'age_to_complaint', 'years_in_rank_to_complaint', 'Violent']):\n",
        "\n",
        "    results = []\n",
        "\n",
        "    X = df[confounders]\n",
        "    y = df[treatment]\n",
        "\n",
        "    model = LogisticRegression(multi_class='multinomial', solver='lbfgs', max_iter=1000)\n",
        "    model.fit(X, y)\n",
        "\n",
        "    propensity_scores = model.predict_proba(X)\n",
        "\n",
        "    treatment_levels = np.sort(df[treatment].unique())\n",
        "    treatment_map = {level: i for i, level in enumerate(treatment_levels)}\n",
        "    treatment_indices = df[treatment].map(treatment_map).values\n",
        "\n",
        "    df['weights'] = 1 / propensity_scores[np.arange(len(y)), treatment_indices]\n",
        "\n",
        "    a_vals = np.sort(df[treatment].unique())\n",
        "    print(a_vals)\n",
        "\n",
        "    for a in tqdm(a_vals):\n",
        "        weighted_average = np.average(df[df[treatment] == a][outcome], weights=df[df[treatment] == a]['weights'])\n",
        "        results.append(weighted_average)\n",
        "\n",
        "    return np.array(results)"
      ],
      "metadata": {
        "id": "dSmYoBH3feJD"
      },
      "execution_count": 28,
      "outputs": []
    },
    {
      "cell_type": "code",
      "source": [
        "results = ipw(model_df)"
      ],
      "metadata": {
        "colab": {
          "base_uri": "https://localhost:8080/",
          "height": 210,
          "referenced_widgets": [
            "f586e6c622854859ab84c04177f848e9",
            "b156b79a65cc4cfd93b19ae2b3f762b0",
            "277c9900d44841fb884941d29f4faef7",
            "3205620277074149ad2e341f95ce6e67",
            "aa520622570c4268a7a5444929b29604",
            "6888d43543714eba8fd0aa1b2bf1ac31",
            "8b8d151552a1416fbb98e521c6972268",
            "79dc97c4e23f43c9915d3724f2aa061c",
            "17ffc688d1794ddbab2cace03c5fabec",
            "5295c14374bd453d8eb413d24b6808c9",
            "97addce592b644f88a781fdcb380c586"
          ]
        },
        "id": "AkKTEBcJfstl",
        "outputId": "b92993c8-9ba3-43be-8d7b-8c5c7f3e3027"
      },
      "execution_count": 29,
      "outputs": [
        {
          "output_type": "stream",
          "name": "stdout",
          "text": [
            "[ 1.  2.  3.  4.  5.  6.  7.  8.  9. 10.]\n"
          ]
        },
        {
          "output_type": "stream",
          "name": "stderr",
          "text": [
            "/usr/local/lib/python3.10/dist-packages/sklearn/linear_model/_logistic.py:458: ConvergenceWarning: lbfgs failed to converge (status=1):\n",
            "STOP: TOTAL NO. of ITERATIONS REACHED LIMIT.\n",
            "\n",
            "Increase the number of iterations (max_iter) or scale the data as shown in:\n",
            "    https://scikit-learn.org/stable/modules/preprocessing.html\n",
            "Please also refer to the documentation for alternative solver options:\n",
            "    https://scikit-learn.org/stable/modules/linear_model.html#logistic-regression\n",
            "  n_iter_i = _check_optimize_result(\n"
          ]
        },
        {
          "output_type": "display_data",
          "data": {
            "text/plain": [
              "  0%|          | 0/10 [00:00<?, ?it/s]"
            ],
            "application/vnd.jupyter.widget-view+json": {
              "version_major": 2,
              "version_minor": 0,
              "model_id": "f586e6c622854859ab84c04177f848e9"
            }
          },
          "metadata": {}
        }
      ]
    },
    {
      "cell_type": "code",
      "source": [
        "results"
      ],
      "metadata": {
        "colab": {
          "base_uri": "https://localhost:8080/"
        },
        "id": "-Hgkwaodf3UU",
        "outputId": "5c3bc7d9-2b9b-484f-f524-39a4391f25ec"
      },
      "execution_count": null,
      "outputs": [
        {
          "output_type": "execute_result",
          "data": {
            "text/plain": [
              "array([0.        , 0.87034056, 0.80245359, 0.86845563, 0.81125897,\n",
              "       0.81507345, 0.72692741, 0.59495121, 0.04528976, 0.66666667])"
            ]
          },
          "metadata": {},
          "execution_count": 102
        }
      ]
    },
    {
      "cell_type": "markdown",
      "source": [
        "### Estimates: Did not remove low requency ranks"
      ],
      "metadata": {
        "id": "d0ppFor-g98u"
      }
    },
    {
      "cell_type": "code",
      "source": [
        "{\n",
        "    'CIVILIAN': 0.0, # remove\n",
        "    'POLICE OFFICER': 0.87034056,\n",
        "    'FIELD TRAINING OFFICER': 0.80245359,\n",
        "    'INVESTIGATOR': 0.86845563, # remove\n",
        "    'DETECTIVE': 0.81125897,\n",
        "    'SERGEANT': 0.81507345,\n",
        "    'LIEUTENANT': 0.72692741,\n",
        "    'CAPTAIN': 0.59495121, # remove\n",
        "    'COMMANDER': 0.04528976, # remove\n",
        "    'DEPUTY CHIEF': 0.66666667 # remove\n",
        "}"
      ],
      "metadata": {
        "colab": {
          "base_uri": "https://localhost:8080/"
        },
        "id": "CV-u0lOdhBlH",
        "outputId": "94fb5550-f6cc-4093-9db7-5fb9410f1a74"
      },
      "execution_count": 30,
      "outputs": [
        {
          "output_type": "execute_result",
          "data": {
            "text/plain": [
              "{'CIVILIAN': 0.0,\n",
              " 'POLICE OFFICER': 0.87034056,\n",
              " 'FIELD TRAINING OFFICER': 0.80245359,\n",
              " 'INVESTIGATOR': 0.86845563,\n",
              " 'DETECTIVE': 0.81125897,\n",
              " 'SERGEANT': 0.81507345,\n",
              " 'LIEUTENANT': 0.72692741,\n",
              " 'CAPTAIN': 0.59495121,\n",
              " 'COMMANDER': 0.04528976,\n",
              " 'DEPUTY CHIEF': 0.66666667}"
            ]
          },
          "metadata": {},
          "execution_count": 30
        }
      ]
    },
    {
      "cell_type": "code",
      "source": [
        "# Cleaned Version\n",
        "{\n",
        "    'POLICE OFFICER': 0.87034056,\n",
        "    'FIELD TRAINING OFFICER': 0.80245359,\n",
        "    'DETECTIVE': 0.81125897,\n",
        "    'SERGEANT': 0.81507345,\n",
        "    'LIEUTENANT': 0.72692741}"
      ],
      "metadata": {
        "colab": {
          "base_uri": "https://localhost:8080/"
        },
        "id": "nA7xVN16i6x-",
        "outputId": "a2af5e6e-ff54-4650-c08c-19e26008953a"
      },
      "execution_count": 31,
      "outputs": [
        {
          "output_type": "execute_result",
          "data": {
            "text/plain": [
              "{'POLICE OFFICER': 0.87034056,\n",
              " 'FIELD TRAINING OFFICER': 0.80245359,\n",
              " 'DETECTIVE': 0.81125897,\n",
              " 'SERGEANT': 0.81507345,\n",
              " 'LIEUTENANT': 0.72692741}"
            ]
          },
          "metadata": {},
          "execution_count": 31
        }
      ]
    },
    {
      "cell_type": "markdown",
      "source": [
        "### 2.2 Use Weigted Regression to Weight the Coefficients"
      ],
      "metadata": {
        "id": "bA6Lhc3zeO9W"
      }
    },
    {
      "cell_type": "code",
      "source": [
        "def ipw(df, treatment='rank', confounders=['white', 'male', 'finding', 'age_to_complaint', 'years_in_rank_to_complaint', 'Violent']):\n",
        "    X = df[confounders]\n",
        "    y = df[treatment]\n",
        "\n",
        "    model = LogisticRegression(multi_class='multinomial', solver='lbfgs', max_iter=1000)\n",
        "    model.fit(X, y)\n",
        "\n",
        "    propensity_scores = model.predict_proba(X)\n",
        "\n",
        "    treatment_levels = np.sort(df[treatment].unique())\n",
        "    treatment_map = {level: i for i, level in enumerate(treatment_levels)}\n",
        "    treatment_indices = df[treatment].map(treatment_map).values\n",
        "\n",
        "    df['weights'] = 1 / propensity_scores[np.arange(len(y)), treatment_indices]\n",
        "\n",
        "    return df\n"
      ],
      "metadata": {
        "id": "YXw4XKqAhed3"
      },
      "execution_count": 32,
      "outputs": []
    },
    {
      "cell_type": "code",
      "source": [
        "weighted_df = ipw(model_df)"
      ],
      "metadata": {
        "colab": {
          "base_uri": "https://localhost:8080/"
        },
        "id": "RUwSUULJhow6",
        "outputId": "a1c92c82-b923-490a-80b0-7407255d18f4"
      },
      "execution_count": 33,
      "outputs": [
        {
          "output_type": "stream",
          "name": "stderr",
          "text": [
            "/usr/local/lib/python3.10/dist-packages/sklearn/linear_model/_logistic.py:458: ConvergenceWarning: lbfgs failed to converge (status=1):\n",
            "STOP: TOTAL NO. of ITERATIONS REACHED LIMIT.\n",
            "\n",
            "Increase the number of iterations (max_iter) or scale the data as shown in:\n",
            "    https://scikit-learn.org/stable/modules/preprocessing.html\n",
            "Please also refer to the documentation for alternative solver options:\n",
            "    https://scikit-learn.org/stable/modules/linear_model.html#logistic-regression\n",
            "  n_iter_i = _check_optimize_result(\n"
          ]
        }
      ]
    },
    {
      "cell_type": "code",
      "source": [
        "results = []\n",
        "models = []\n",
        "ranks = [2, 3, 5, 6, 7]\n",
        "for rank in ranks:\n",
        "    curr_slice = weighted_df[weighted_df['rank'] == rank]\n",
        "    if curr_slice.shape[0] < 2:\n",
        "        print(f\"Insufficient data for rank {rank}\")\n",
        "        continue\n",
        "\n",
        "    y = curr_slice['penalized']\n",
        "    X = curr_slice[['white', 'male', 'finding','age_to_complaint','years_in_rank_to_complaint','Violent']]\n",
        "    X = sm.add_constant(X)\n",
        "\n",
        "    weights = curr_slice['weights']\n",
        "\n",
        "    model = sm.Logit(y, X)\n",
        "    result = model.fit_regularized(method='l1', alpha=1e-3, weights=weights)\n",
        "    pred = result.predict(sm.add_constant(weighted_df[['white', 'male', 'finding','age_to_complaint','years_in_rank_to_complaint','Violent']]))\n",
        "\n",
        "    models.append(result)\n",
        "\n",
        "    weighted_mean = np.average(pred, weights=weighted_df['weights'])\n",
        "    results.append(weighted_mean)\n"
      ],
      "metadata": {
        "id": "Uv8xDQGchsS4"
      },
      "execution_count": null,
      "outputs": []
    },
    {
      "cell_type": "code",
      "source": [
        "for model in models:\n",
        "    print(model.summary())"
      ],
      "metadata": {
        "colab": {
          "base_uri": "https://localhost:8080/"
        },
        "id": "oFaS6462nEEN",
        "outputId": "3a4f8846-97ec-4571-a48a-2d0f7b135f2c"
      },
      "execution_count": 55,
      "outputs": [
        {
          "output_type": "stream",
          "name": "stdout",
          "text": [
            "                           Logit Regression Results                           \n",
            "==============================================================================\n",
            "Dep. Variable:              penalized   No. Observations:               222125\n",
            "Model:                          Logit   Df Residuals:                   222118\n",
            "Method:                           MLE   Df Model:                            6\n",
            "Date:                Sun, 09 Jun 2024   Pseudo R-squ.:                 0.05704\n",
            "Time:                        01:29:41   Log-Likelihood:                -83200.\n",
            "converged:                       True   LL-Null:                       -88232.\n",
            "Covariance Type:            nonrobust   LLR p-value:                     0.000\n",
            "==============================================================================================\n",
            "                                 coef    std err          z      P>|z|      [0.025      0.975]\n",
            "----------------------------------------------------------------------------------------------\n",
            "const                          7.8299      0.084     93.071      0.000       7.665       7.995\n",
            "white                         -0.5629      0.013    -43.680      0.000      -0.588      -0.538\n",
            "male                           0.3998      0.018     22.481      0.000       0.365       0.435\n",
            "finding                        0.0898      0.013      6.713      0.000       0.064       0.116\n",
            "age_to_complaint              -0.1657      0.002    -77.819      0.000      -0.170      -0.161\n",
            "years_in_rank_to_complaint     0.0387      0.001     33.774      0.000       0.036       0.041\n",
            "Violent                        0.1841      0.022      8.251      0.000       0.140       0.228\n",
            "==============================================================================================\n",
            "                           Logit Regression Results                           \n",
            "==============================================================================\n",
            "Dep. Variable:              penalized   No. Observations:                 4092\n",
            "Model:                          Logit   Df Residuals:                     4085\n",
            "Method:                           MLE   Df Model:                            6\n",
            "Date:                Sun, 09 Jun 2024   Pseudo R-squ.:                  0.1311\n",
            "Time:                        01:29:41   Log-Likelihood:                -1626.9\n",
            "converged:                       True   LL-Null:                       -1872.4\n",
            "Covariance Type:            nonrobust   LLR p-value:                7.175e-103\n",
            "==============================================================================================\n",
            "                                 coef    std err          z      P>|z|      [0.025      0.975]\n",
            "----------------------------------------------------------------------------------------------\n",
            "const                          7.0700      0.754      9.379      0.000       5.593       8.547\n",
            "white                         -1.0597      0.104    -10.192      0.000      -1.264      -0.856\n",
            "male                           0.6794      0.157      4.324      0.000       0.371       0.987\n",
            "finding                       -0.5009      0.093     -5.397      0.000      -0.683      -0.319\n",
            "age_to_complaint              -0.1363      0.019     -7.274      0.000      -0.173      -0.100\n",
            "years_in_rank_to_complaint    -0.0325      0.008     -4.104      0.000      -0.048      -0.017\n",
            "Violent                        3.9282      0.714      5.503      0.000       2.529       5.327\n",
            "==============================================================================================\n",
            "                           Logit Regression Results                           \n",
            "==============================================================================\n",
            "Dep. Variable:              penalized   No. Observations:                 9106\n",
            "Model:                          Logit   Df Residuals:                     9099\n",
            "Method:                           MLE   Df Model:                            6\n",
            "Date:                Sun, 09 Jun 2024   Pseudo R-squ.:                 0.03980\n",
            "Time:                        01:29:41   Log-Likelihood:                -3801.1\n",
            "converged:                       True   LL-Null:                       -3958.6\n",
            "Covariance Type:            nonrobust   LLR p-value:                 4.747e-65\n",
            "==============================================================================================\n",
            "                                 coef    std err          z      P>|z|      [0.025      0.975]\n",
            "----------------------------------------------------------------------------------------------\n",
            "const                          3.0490      0.351      8.690      0.000       2.361       3.737\n",
            "white                          0.1129      0.072      1.559      0.119      -0.029       0.255\n",
            "male                           1.1810      0.070     16.861      0.000       1.044       1.318\n",
            "finding                        0.0756      0.066      1.150      0.250      -0.053       0.204\n",
            "age_to_complaint              -0.0857      0.010     -8.428      0.000      -0.106      -0.066\n",
            "years_in_rank_to_complaint     0.0598      0.007      8.807      0.000       0.047       0.073\n",
            "Violent                        0.1107      0.139      0.795      0.426      -0.162       0.384\n",
            "==============================================================================================\n",
            "                           Logit Regression Results                           \n",
            "==============================================================================\n",
            "Dep. Variable:              penalized   No. Observations:                22070\n",
            "Model:                          Logit   Df Residuals:                    22063\n",
            "Method:                           MLE   Df Model:                            6\n",
            "Date:                Sun, 09 Jun 2024   Pseudo R-squ.:                 0.04749\n",
            "Time:                        01:29:41   Log-Likelihood:                -9648.4\n",
            "converged:                       True   LL-Null:                       -10129.\n",
            "Covariance Type:            nonrobust   LLR p-value:                1.472e-204\n",
            "==============================================================================================\n",
            "                                 coef    std err          z      P>|z|      [0.025      0.975]\n",
            "----------------------------------------------------------------------------------------------\n",
            "const                          6.4346      0.224     28.704      0.000       5.995       6.874\n",
            "white                          0.1857      0.038      4.915      0.000       0.112       0.260\n",
            "male                          -0.2417      0.053     -4.534      0.000      -0.346      -0.137\n",
            "finding                       -0.4145      0.043     -9.689      0.000      -0.498      -0.331\n",
            "age_to_complaint              -0.1212      0.006    -20.760      0.000      -0.133      -0.110\n",
            "years_in_rank_to_complaint     0.0094      0.003      2.986      0.003       0.003       0.016\n",
            "Violent                        1.0695      0.091     11.713      0.000       0.891       1.248\n",
            "==============================================================================================\n",
            "                           Logit Regression Results                           \n",
            "==============================================================================\n",
            "Dep. Variable:              penalized   No. Observations:                 2179\n",
            "Model:                          Logit   Df Residuals:                     2172\n",
            "Method:                           MLE   Df Model:                            6\n",
            "Date:                Sun, 09 Jun 2024   Pseudo R-squ.:                  0.1518\n",
            "Time:                        01:29:41   Log-Likelihood:                -815.97\n",
            "converged:                       True   LL-Null:                       -961.94\n",
            "Covariance Type:            nonrobust   LLR p-value:                 4.328e-60\n",
            "==============================================================================================\n",
            "                                 coef    std err          z      P>|z|      [0.025      0.975]\n",
            "----------------------------------------------------------------------------------------------\n",
            "const                          0.4896      0.815      0.601      0.548      -1.108       2.088\n",
            "white                         -0.5415      0.156     -3.469      0.001      -0.847      -0.236\n",
            "male                           1.5596      0.252      6.187      0.000       1.066       2.054\n",
            "finding                       -2.1096      0.173    -12.197      0.000      -2.449      -1.771\n",
            "age_to_complaint              -0.0499      0.023     -2.163      0.031      -0.095      -0.005\n",
            "years_in_rank_to_complaint     0.1595      0.018      8.880      0.000       0.124       0.195\n",
            "Violent                        2.9228      0.350      8.361      0.000       2.238       3.608\n",
            "==============================================================================================\n"
          ]
        }
      ]
    },
    {
      "cell_type": "code",
      "source": [
        "results"
      ],
      "metadata": {
        "colab": {
          "base_uri": "https://localhost:8080/"
        },
        "id": "o1QDFrENieJZ",
        "outputId": "1ff17f09-05f0-4314-9e45-b5309dacd6f2"
      },
      "execution_count": 47,
      "outputs": [
        {
          "output_type": "execute_result",
          "data": {
            "text/plain": [
              "[0.8785958725586697,\n",
              " 0.735149241416497,\n",
              " 0.8327177914868866,\n",
              " 0.8173733870227128,\n",
              " 0.5782803879424994]"
            ]
          },
          "metadata": {},
          "execution_count": 47
        }
      ]
    },
    {
      "cell_type": "markdown",
      "source": [
        "### Estimates: 0 is not actually penalized; 1 is actually penalized. Expect to decrease as rank increase."
      ],
      "metadata": {
        "id": "dct2sEJMigUk"
      }
    },
    {
      "cell_type": "code",
      "source": [
        "{'POLICE OFFICER': 0.8785958725586697,\n",
        " 'FIELD TRAINING OFFICER': 0.735149241416497,\n",
        " 'DETECTIVE': 0.8327177914868866,\n",
        " 'SERGEANT': 0.8173733870227128,\n",
        " 'LIEUTENANT': 0.5782803879424994}"
      ],
      "metadata": {
        "colab": {
          "base_uri": "https://localhost:8080/"
        },
        "id": "kGIxqPGEisEs",
        "outputId": "94212cf5-2244-4c83-80de-e190e96d0e0e"
      },
      "execution_count": 48,
      "outputs": [
        {
          "output_type": "execute_result",
          "data": {
            "text/plain": [
              "{'POLICE OFFICER': 0.8785958725586697,\n",
              " 'FIELD TRAINING OFFICER': 0.735149241416497,\n",
              " 'DETECTIVE': 0.8327177914868866,\n",
              " 'SERGEANT': 0.8173733870227128,\n",
              " 'LIEUTENANT': 0.5782803879424994}"
            ]
          },
          "metadata": {},
          "execution_count": 48
        }
      ]
    }
  ]
}